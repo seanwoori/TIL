{
  "cells": [
    {
      "cell_type": "markdown",
      "metadata": {
        "id": "PwuxAlCAf4wp"
      },
      "source": [
        "<p style=\"font-size: 33px; font-weight: 700; margin-bottom: 3rem\">제어문(Control Statement)</p>\n",
        "\n",
        "[파이썬 문서](https://docs.python.org/ko/3/tutorial/controlflow.html)\n",
        "\n",
        "지금까지 우리는 위에서부터 아래로 순차적으로 명령을 수행하는 프로그램을 작성하였습니다.\n",
        "\n",
        "특정 상황에 따라 코드를 선택적으로 실행(분기)하거나 동일한 코드를 계속해서 실행해야하려면 어떻게 해야할까요? \n",
        "\n",
        "이 경우, **코드 실행의 순차적인 흐름을 제어**(Control Flow)할 필요가 있습니다.\n",
        "\n",
        "이러한 순차적인 코드의 흐름을 제어하는 것을 제어문이라고 하고, 제어문은 크게 **조건문**과 **반복문**으로 나눌 수 있습니다. \n",
        "\n",
        "제어문을 통해 다음과 순서도(Flow Chart)를 코드로 표현할 수 있습니다."
      ]
    },
    {
      "cell_type": "markdown",
      "metadata": {
        "id": "sWaAIutbf4wr"
      },
      "source": [
        "<center> \n",
        "    <img src=\"https://user-images.githubusercontent.com/18046097/61180553-25e87b00-a653-11e9-9895-7976d7204734.png\", alt='if flowchart'/>\n",
        "</center>"
      ]
    },
    {
      "cell_type": "code",
      "execution_count": null,
      "metadata": {
        "id": "w8QdjaRaf4ws"
      },
      "outputs": [],
      "source": [
        "# 위의 Flow Chart를 조건문으로 작성해봅시다.\n",
        "# if 문을 활용해봅시다."
      ]
    },
    {
      "cell_type": "code",
      "execution_count": 1,
      "metadata": {
        "colab": {
          "base_uri": "https://localhost:8080/"
        },
        "id": "1rKrx-nnf4wt",
        "outputId": "9e87e5ec-c7a7-4a11-f03b-dc91a38369ca"
      },
      "outputs": [
        {
          "output_type": "stream",
          "name": "stdout",
          "text": [
            "5 이하\n"
          ]
        }
      ],
      "source": [
        "a = 5\n",
        "if a > 5:\n",
        "    print(\"5 초과\")\n",
        "else:\n",
        "    print(\"5 이하\")"
      ]
    },
    {
      "cell_type": "markdown",
      "metadata": {
        "id": "GbSwOb-_f4wt"
      },
      "source": [
        "# 조건문(Conditional Statement)\n",
        "\n",
        "`if` 문은 반드시 **참/거짓을 판단할 수 있는 조건**과 함께 사용합니다.\n"
      ]
    },
    {
      "cell_type": "markdown",
      "metadata": {
        "id": "3O3IMalQf4wt"
      },
      "source": [
        "## `if` 조건문의 구성\n",
        "\n",
        "### 활용법\n",
        "\n",
        "- **문법**\n",
        "\n",
        "```python\n",
        "if <expression>:\n",
        "    <코드 블럭>\n",
        "else:\n",
        "    <코드 블럭>\n",
        "```\n",
        "\n",
        "- **예시**\n",
        "\n",
        "```python\n",
        "if a > 0:\n",
        "    print('양수입니다.')\n",
        "else:\n",
        "    print('음수입니다.')\n",
        "```\n",
        "* `expression`에는 일반적으로 참/거짓에 대한 조건식이 들어갑니다.\n",
        "\n",
        "* **조건**이 **참**인 경우 `:` 이후의 문장을 수행합니다.\n",
        "\n",
        "* **조건**이 **거짓**인 경우 `else:` 이후의 문장을 수행합니다.\n",
        "\n",
        "* 여러 개의 `elif` 부가 있을 수 있고(없거나), `else`는 선택적으로 사용합니다.\n",
        "\n",
        "### 주의사항\n",
        "* 이때 반드시 **들여쓰기**를 유의해야합니다. \n",
        "    - 파이썬에서는 코드 블록을 자바나 C언어의 `{}`와 달리 **들여쓰기**로 판단하기 때문입니다.\n",
        "* 앞으로 우리는 [PEP 8](https://www.python.org/dev/peps/pep-0008/#indentation)에서 권장하는 **4spaces**를 사용합니다.\n"
      ]
    },
    {
      "cell_type": "markdown",
      "metadata": {
        "id": "SHoJsKx0f4wu"
      },
      "source": [
        "<center>\n",
        "    <img src=\"https://user-images.githubusercontent.com/18046097/61180564-3a2c7800-a653-11e9-9fba-d60d2688ed3a.png\", alt=\"if style\"/>\n",
        "</center>"
      ]
    },
    {
      "cell_type": "markdown",
      "metadata": {
        "id": "xi3yiEvjf4wu"
      },
      "source": [
        "<br>\n",
        "\n",
        "<center>\n",
        "    <img src=\"https://user-images.githubusercontent.com/18046097/61180566-3ac50e80-a653-11e9-81a6-2f195eeb0a65.png\", alt=\"[space vs tab]\"/>\n",
        "</center>    \n",
        "\n",
        "\n",
        "\n",
        "\n",
        "[출처 : 400,000 GitHub repositories, 1 billion files, 14 terabytes of code: Spaces or Tabs?](https://medium.com/@hoffa/400-000-github-repositories-1-billion-files-14-terabytes-of-code-spaces-or-tabs-7cfe0b5dd7fd)\n"
      ]
    },
    {
      "cell_type": "markdown",
      "metadata": {
        "id": "aTcxUsIWf4wu"
      },
      "source": [
        "### [실습] 홀/짝 판독기\n",
        "\n",
        "\n",
        "> 조건문을 통해 변수 num의 값과 홀수/짝수 여부를 출력하세요.\n",
        "\n",
        "---\n",
        "\n",
        "**[입력 예시]**\n",
        "\n",
        "3\n",
        "\n",
        "**[출력 예시]**\n",
        "\n",
        "홀수입니다."
      ]
    },
    {
      "cell_type": "code",
      "execution_count": 2,
      "metadata": {
        "colab": {
          "base_uri": "https://localhost:8080/"
        },
        "id": "nVQp2EBnf4wv",
        "outputId": "76f635d2-2178-495d-838d-a05466e144ef"
      },
      "outputs": [
        {
          "name": "stdout",
          "output_type": "stream",
          "text": [
            "숫자를 입력하세요 : 3\n"
          ]
        }
      ],
      "source": [
        "num = int(input('숫자를 입력하세요 : '))"
      ]
    },
    {
      "cell_type": "code",
      "execution_count": 3,
      "metadata": {
        "id": "hMJLVVGlf4wv"
      },
      "outputs": [],
      "source": [
        "# 아래에 코드를 작성하세요.\n",
        "# if 문을 활용해봅시다.\n",
        "# num에 할당된 값을 2로 나누었을때 나머지가 있는 경우에는 '홀수입니다.'를 출력하고\n",
        "# num에 할당된 값이 2로 나누어 떨어지는 경우에는 '짝수입니다.'를 출력하는 코드를 작성하세요."
      ]
    },
    {
      "cell_type": "code",
      "execution_count": 4,
      "metadata": {
        "colab": {
          "base_uri": "https://localhost:8080/"
        },
        "id": "TETaPh9Ef4wv",
        "outputId": "29e9c119-8fd1-4f0c-9b0b-94ecaa6207a9"
      },
      "outputs": [
        {
          "output_type": "stream",
          "name": "stdout",
          "text": [
            "홀수입니다.\n"
          ]
        }
      ],
      "source": [
        "if num % 2 == 0:\n",
        "    print('짝수입니다.')\n",
        "else:\n",
        "    print('홀수입니다.')"
      ]
    },
    {
      "cell_type": "markdown",
      "metadata": {
        "id": "VjLkk8I0f4ww"
      },
      "source": [
        "### [연습] 크리스마스 판독기\n",
        "> 조건문을 통해 사용자가 입력한 날짜가 크리스마스인지 확인하세요.\n",
        "\n",
        "---\n",
        "\n",
        "**[입력 예시]**\n",
        "\n",
        "12/25\n",
        "\n",
        "**[출력 예시]**\n",
        "\n",
        "크리스마스입니다."
      ]
    },
    {
      "cell_type": "code",
      "execution_count": 5,
      "metadata": {
        "colab": {
          "base_uri": "https://localhost:8080/"
        },
        "id": "0090Uwmef4ww",
        "outputId": "d14af797-b965-4870-bbfb-169794ca36c1"
      },
      "outputs": [
        {
          "name": "stdout",
          "output_type": "stream",
          "text": [
            "날짜를 입력해주세요 ex)12/24 : 12/25\n"
          ]
        }
      ],
      "source": [
        "is_christmas = input('날짜를 입력해주세요 ex)12/24 : ')"
      ]
    },
    {
      "cell_type": "code",
      "execution_count": null,
      "metadata": {
        "id": "Zk90LEKJf4ww"
      },
      "outputs": [],
      "source": [
        "# 아래에 코드를 작성하세요.\n",
        "# if 문을 활용해봅시다.\n",
        "# is_christmas에 할당된 값이 '12/25'인 경우에는\n",
        "# '크리스마스입니다 :)' 를 출력하고\n",
        "# 그외의 경우에는 '크리스마스가 아닙니다 :(' 를 출력하는 코드를 작성하세요."
      ]
    },
    {
      "cell_type": "code",
      "execution_count": 6,
      "metadata": {
        "colab": {
          "base_uri": "https://localhost:8080/"
        },
        "id": "8VAQOjHHf4ww",
        "outputId": "f2a70ca7-7452-491c-d240-09a57bb7c45d"
      },
      "outputs": [
        {
          "output_type": "stream",
          "name": "stdout",
          "text": [
            "크리스마스입니다 :)\n"
          ]
        }
      ],
      "source": [
        "if is_christmas == '12/25':\n",
        "    print('크리스마스입니다 :)')\n",
        "else:\n",
        "    print('크리스마스가 아닙니다 :(')"
      ]
    },
    {
      "cell_type": "markdown",
      "metadata": {
        "id": "wgE8ikJef4ww"
      },
      "source": [
        "## `elif` 복수 조건\n",
        "\n",
        "2개 이상의 조건을 활용할 경우 `elif <조건>:`을 활용합니다.\n",
        "<center>\n",
        "<img src=\"https://user-images.githubusercontent.com/18046097/61180560-3993e180-a653-11e9-8263-79bd7bc6eed7.png\", alt=\"elif\">\n",
        "</center>"
      ]
    },
    {
      "cell_type": "markdown",
      "metadata": {
        "id": "C0R9k5KJf4wx"
      },
      "source": [
        "### [연습] 복수 조건문 연습\n",
        "\n",
        "> 다음은 미세먼지 농도에 따른 등급일 때,\n",
        "> dust 값에 따라 등급을 출력하는 조건식을 작성하세요.\n",
        "> (단, 조건식 완료 후 미세먼지 확인 완료라는 문구를 출력)\n",
        "\n",
        "![image-2.png](attachment:image-2.png)\n",
        "\n",
        "--- \n",
        "\n",
        "**[입력 예시]**\n",
        "\n",
        "80\n",
        "\n",
        "**[출력 예시]**\n",
        "\n",
        "보통\n",
        "\n",
        "미세먼지 확인 완료!"
      ]
    },
    {
      "cell_type": "code",
      "execution_count": 7,
      "metadata": {
        "colab": {
          "base_uri": "https://localhost:8080/"
        },
        "id": "oVQPP17Uf4wx",
        "outputId": "5eb14401-81b4-4761-875a-5096592e1f2c"
      },
      "outputs": [
        {
          "name": "stdout",
          "output_type": "stream",
          "text": [
            "미세먼지 농도를 입력하세요 : 80\n"
          ]
        }
      ],
      "source": [
        "dust = int(input('미세먼지 농도를 입력하세요 : '))"
      ]
    },
    {
      "cell_type": "code",
      "execution_count": null,
      "metadata": {
        "id": "zqGusjpQf4wx"
      },
      "outputs": [],
      "source": [
        "# 아래에 코드를 작성하세요.\n",
        "# if, elif, else 문을 활용해봅시다.\n",
        "# dust에 할당된 값이 150 초과인 경우에는 '매우 나쁨'을 출력하고,\n",
        "# dust에 할당된 값이 150 이하, 80 초과인 경우에는 '나쁨'을 출력하고,\n",
        "# dust에 할당된 값이 80 이하, 30 초과인 경우에는 '보통'을 출력하고,\n",
        "# dust에 할당된 값이 30 이하인 경우에는 '좋음'을 출력하고,\n",
        "# 조건식 완료 이후 '미세먼지 확인 완료!'를 출력하는 코드를 작성하세요."
      ]
    },
    {
      "cell_type": "code",
      "execution_count": 8,
      "metadata": {
        "colab": {
          "base_uri": "https://localhost:8080/"
        },
        "id": "C9VavSZnf4wx",
        "outputId": "f9f08c71-2e08-4682-feb1-e98dfbcfed4e"
      },
      "outputs": [
        {
          "output_type": "stream",
          "name": "stdout",
          "text": [
            "보통\n",
            "미세먼지 확인 완료!~\n"
          ]
        }
      ],
      "source": [
        "if dust <= 30:\n",
        "    print('좋음')\n",
        "elif dust > 30 and dust <= 80:\n",
        "    print('보통')\n",
        "elif dust > 80 and dust <= 150:\n",
        "    print('나쁨')\n",
        "else:\n",
        "    print('매우 나쁨')\n",
        "print('미세먼지 확인 완료!~')"
      ]
    },
    {
      "cell_type": "code",
      "execution_count": 9,
      "metadata": {
        "colab": {
          "base_uri": "https://localhost:8080/"
        },
        "id": "1rBZMUWnf4wx",
        "outputId": "1f4f4191-e898-4be1-cee1-3c4865be1729"
      },
      "outputs": [
        {
          "output_type": "stream",
          "name": "stdout",
          "text": [
            "보통\n"
          ]
        }
      ],
      "source": [
        "# 조건문은 순서대로 조건식을 검증하므로 순서에 유의해야 한다.\n",
        "# dust 가 120이지만 조건문의 순서에 따라 '나쁨'을 출력하지 못하고 '보통'을 출력한다.\n",
        "\n",
        "dust = 120\n",
        "\n",
        "if dust > 150:\n",
        "    print('매우 나쁨')\n",
        "elif dust > 30:\n",
        "    print('보통')\n",
        "elif dust > 80:\n",
        "    print('나쁨')"
      ]
    },
    {
      "cell_type": "markdown",
      "metadata": {
        "id": "WXCxLGoFf4wx"
      },
      "source": [
        "## 중첩 조건문(Nested Conditional Statement)\n",
        "\n",
        "조건문은 다른 조건문에 중첩 가능합니다."
      ]
    },
    {
      "cell_type": "markdown",
      "metadata": {
        "id": "iMLwlKKTf4wx"
      },
      "source": [
        "### [연습] 중첩 조건문 활용\n",
        "\n",
        "> 아래의 코드에서 중첩조건문을 활용하여 미세먼지 농도(dust 값)이 300이 넘는 경우 ‘실외 활동을 자제하세요.’를 추가적으로 출력하고 음수인 경우 ‘값이 잘못 되었습니다.’를 출력하세요.\n",
        "\n",
        "--- \n",
        "**[출력 예시]**\n",
        "\n",
        "매우 나쁨\n",
        "\n",
        "실외 활동을 자제하세요."
      ]
    },
    {
      "cell_type": "code",
      "execution_count": 10,
      "metadata": {
        "id": "ZDDN1hH9f4wy"
      },
      "outputs": [],
      "source": [
        "dust = 500"
      ]
    },
    {
      "cell_type": "code",
      "execution_count": 11,
      "metadata": {
        "id": "WW5ONyMcf4wy"
      },
      "outputs": [],
      "source": [
        "# 아래에 코드를 작성하세요.\n",
        "# if, elif, else 문을 상황에 따라 중첩해서 활용해봅시다.\n",
        "# dust에 할당된 값이 150 초과인 경우에 일단 '매우 나쁨'을 출력하고,\n",
        "# dust에 할당된 값이 300 초과인 경우에는 추가적으로 '실외 활동을 자제하세요.'를 출력하고,\n",
        "# dust에 할당된 값이 150 이하, 80 초과인 경우에는 '나쁨'을 출력하고,\n",
        "# dust에 할당된 값이 80 이하, 30 초과인 경우에는 '보통'을 출력하고,\n",
        "# dust에 할당된 값이 30 이하, 0 이상인 경우에는 '좋음'을 출력하고,\n",
        "# dust에 할당된 값이 0 미만인 경우에는 '값이 잘못 되었습니다.'를 출력하는 코드를 작성하세요."
      ]
    },
    {
      "cell_type": "code",
      "execution_count": 13,
      "metadata": {
        "colab": {
          "base_uri": "https://localhost:8080/"
        },
        "id": "caYt4rS0f4wy",
        "outputId": "6cb6c77b-bf49-41e0-ed74-2b0676531197"
      },
      "outputs": [
        {
          "output_type": "stream",
          "name": "stdout",
          "text": [
            "매우 나쁨\n",
            "실외 활동을 자제하세요.\n",
            "미세먼지 확인 완료!~\n"
          ]
        }
      ],
      "source": [
        "if dust <= 30:\n",
        "    print('좋음')\n",
        "    if dust < 0:\n",
        "        print('값이 잘못 되었습니다.')\n",
        "elif dust > 30 and dust <= 80:\n",
        "    print('보통')\n",
        "elif dust > 80 and dust <= 150:\n",
        "    print('나쁨')\n",
        "elif dust > 150:\n",
        "    print('매우 나쁨')\n",
        "    if dust > 300:\n",
        "        print('실외 활동을 자제하세요.')\n",
        "print('미세먼지 확인 완료!~')"
      ]
    },
    {
      "cell_type": "markdown",
      "metadata": {
        "id": "UUh_X5y2f4wy"
      },
      "source": [
        "## 조건 표현식(Conditional Expression)\n",
        "\n",
        "* 조건 표현식은 일반적으로 조건에 따라 값을 정할 때 활용됩니다.\n",
        "\n",
        "* **삼항 연산자(Ternary Operator)**라고 부르기도 합니다.\n",
        "\n",
        "---\n",
        "\n",
        "**활용법**\n",
        "\n",
        "```python\n",
        "true_value if <조건식> else false_value\n",
        "```"
      ]
    },
    {
      "cell_type": "code",
      "execution_count": 14,
      "metadata": {
        "colab": {
          "base_uri": "https://localhost:8080/"
        },
        "id": "yprBgF2xf4wy",
        "outputId": "4d349ba1-4ad0-4772-db11-15116994494b"
      },
      "outputs": [
        {
          "output_type": "stream",
          "name": "stdout",
          "text": [
            "숫자를 입력하세요 : 50\n",
            "0 보다 큼\n"
          ]
        }
      ],
      "source": [
        "num = int(input('숫자를 입력하세요 : '))\n",
        "\n",
        "print('0 보다 큼') if num > 0 else print('0 보다 크지않음')"
      ]
    },
    {
      "cell_type": "code",
      "execution_count": 15,
      "metadata": {
        "colab": {
          "base_uri": "https://localhost:8080/"
        },
        "id": "tQOyfIEPf4wy",
        "outputId": "106e431b-429e-49de-c8c1-3b2833cd1a93"
      },
      "outputs": [
        {
          "output_type": "stream",
          "name": "stdout",
          "text": [
            "숫자를 입력하세요 : -1254\n",
            "1254\n"
          ]
        }
      ],
      "source": [
        "# 아래의 코드는 무엇을 위한 코드일까요?\n",
        "num = int(input('숫자를 입력하세요 : '))\n",
        "value = num if num >= 0 else -num\n",
        "print(value)"
      ]
    },
    {
      "cell_type": "code",
      "execution_count": 16,
      "metadata": {
        "id": "KXEIueCNf4wy"
      },
      "outputs": [],
      "source": [
        "# 아래에 주석으로 답변을 작성하세요."
      ]
    },
    {
      "cell_type": "code",
      "execution_count": 17,
      "metadata": {
        "id": "uLTLUZUVf4wy"
      },
      "outputs": [],
      "source": [
        "# 절댓값을 반환하는 코드."
      ]
    },
    {
      "cell_type": "markdown",
      "metadata": {
        "id": "oLDY16jcf4wz"
      },
      "source": [
        "### [연습] 조건 표현식 작성하기\n",
        "\n",
        "> 다음의 코드와 동일한 조건 표현식을 작성해보세요.\n",
        "\n",
        "```python\n",
        "num = 2\n",
        "if num % 2:\n",
        "    result = '홀수입니다.'\n",
        "else:\n",
        "    result = '짝수입니다.'\n",
        "print(result)\n",
        "```\n",
        "---\n",
        "\n",
        "**[출력 예시]**\n",
        "```\n",
        "짝수입니다.\n",
        "```"
      ]
    },
    {
      "cell_type": "code",
      "execution_count": 18,
      "metadata": {
        "id": "xPaO4GfLf4wz"
      },
      "outputs": [],
      "source": [
        "# 아래에 코드를 작성하세요.\n",
        "# 위의 조건문을 조건 표현식으로 바꿔보세요."
      ]
    },
    {
      "cell_type": "code",
      "execution_count": 19,
      "metadata": {
        "colab": {
          "base_uri": "https://localhost:8080/"
        },
        "id": "YRWGxMYvf4wz",
        "outputId": "5577c11d-00ab-42c8-da8f-426bccff11b3"
      },
      "outputs": [
        {
          "output_type": "stream",
          "name": "stdout",
          "text": [
            "짝수입니다.\n"
          ]
        }
      ],
      "source": [
        "result = '홀수입니다.' if num % 2 else '짝수입니다.'\n",
        "print(result)"
      ]
    },
    {
      "cell_type": "markdown",
      "metadata": {
        "id": "tOvrMkJcf4wz"
      },
      "source": [
        "### [실습] 조건 표현식과 동일한 if 문 작성하기\n",
        "\n",
        "> 다음의 코드와 동일한 `if`문을 작성해보세요.\n",
        "\n",
        "```python\n",
        "num = -5\n",
        "value = num if num >= 0 else 0\n",
        "print(value)\n",
        "```\n",
        "---\n",
        "**[출력 예시]**\n",
        "\n",
        "0"
      ]
    },
    {
      "cell_type": "code",
      "execution_count": 20,
      "metadata": {
        "id": "NeipB9m_f4wz"
      },
      "outputs": [],
      "source": [
        "# 아래에 코드를 작성하세요.\n",
        "# 위의 조건 표현식을 if 문으로 바꿔보세요."
      ]
    },
    {
      "cell_type": "code",
      "execution_count": 21,
      "metadata": {
        "colab": {
          "base_uri": "https://localhost:8080/"
        },
        "id": "oy6cm_psf4wz",
        "outputId": "e206e450-b809-4f3d-e4ae-d04f5fca957e"
      },
      "outputs": [
        {
          "output_type": "stream",
          "name": "stdout",
          "text": [
            "0\n"
          ]
        }
      ],
      "source": [
        "num = -5\n",
        "if num >= 0:\n",
        "    value = -5\n",
        "else:\n",
        "    value = 0\n",
        "print(value)"
      ]
    },
    {
      "cell_type": "markdown",
      "metadata": {
        "id": "mVoLVG0Hf4wz"
      },
      "source": [
        "---"
      ]
    },
    {
      "cell_type": "markdown",
      "metadata": {
        "id": "mNspzixFf4wz"
      },
      "source": [
        "# 반복문(Loop Statement)\n",
        "\n",
        "- while\n",
        "- for"
      ]
    },
    {
      "cell_type": "markdown",
      "metadata": {
        "id": "HDd6knrif4wz"
      },
      "source": [
        "## `while` 반복문\n",
        "\n",
        "`while` 문은 조건식이 참(`True`)인 경우 반복적으로 코드를 실행합니다.\n",
        "\n",
        "\n",
        "### 활용법\n",
        "- **문법**\n",
        "\n",
        "```python\n",
        "while <조건식>:\n",
        "    <코드 블럭>\n",
        "```\n",
        "\n",
        "- 예시\n",
        "\n",
        "```python\n",
        "while True:\n",
        "    print('조건식이 참일 때까지')\n",
        "    print('계속 반복')\n",
        "```\n",
        "\n",
        "### 주의사항\n",
        "* `while` 문 역시 조건식 뒤에 콜론(`:`)이 반드시 필요하며, 이후 실행될 코드 블럭은 **4spaces**로 **들여쓰기**를 합니다.\n",
        "* **반드시 종료조건을 설정해야 합니다.**\n",
        "\n",
        "\n",
        "<br>\n",
        "<center>\n",
        "    <img src=\"https://user-images.githubusercontent.com/18046097/61180567-3ac50e80-a653-11e9-9f12-39c404f4be30.png\", alt=\"\">\n",
        "</center>"
      ]
    },
    {
      "cell_type": "markdown",
      "metadata": {
        "id": "5LXjXyuwf4w0"
      },
      "source": [
        "<br>\n",
        "<center>\n",
        "    <img src=\"https://user-images.githubusercontent.com/18046097/61180568-3ac50e80-a653-11e9-9960-ba15137290a6.png\", alt=\"while\"/>\n",
        "</center>"
      ]
    },
    {
      "cell_type": "code",
      "execution_count": 22,
      "metadata": {
        "id": "NuFXRvkVf4w0"
      },
      "outputs": [],
      "source": [
        "# 위의 flow chart를 조건문을 통해 만들어봅시다.\n",
        "# 아래에 코드를 작성하세요.\n",
        "# while 문을 활용해봅시다."
      ]
    },
    {
      "cell_type": "code",
      "execution_count": 23,
      "metadata": {
        "colab": {
          "base_uri": "https://localhost:8080/"
        },
        "id": "J8QgXdmQf4w0",
        "outputId": "1b3fe3e8-5c69-4809-eae1-fe5ba20f3845"
      },
      "outputs": [
        {
          "output_type": "stream",
          "name": "stdout",
          "text": [
            "0\n",
            "1\n",
            "2\n",
            "3\n",
            "4\n",
            "끝\n"
          ]
        }
      ],
      "source": [
        "a = 0\n",
        "while a < 5:\n",
        "    print(a)\n",
        "    a += 1\n",
        "print('끝')"
      ]
    },
    {
      "cell_type": "markdown",
      "metadata": {
        "id": "m9ALNhdxf4w0"
      },
      "source": [
        "### [연습] while 문 작성하기\n",
        "> 사용자가 \"안녕\"이라고 입력할 때까지 인사하는 코드를 작성해보세요."
      ]
    },
    {
      "cell_type": "code",
      "execution_count": null,
      "metadata": {
        "id": "yVO2e6IMf4w0"
      },
      "outputs": [],
      "source": [
        "# 아래에 코드를 작성하세요.\n",
        "# while 문을 활용해봅시다.\n",
        "\n",
        "# user_input에 초기값으로 비어있는 문자열을로 할당하고,\n",
        "\n",
        "# user_input에 할당되는 값이 '안녕'일 떄까지,\n",
        "    # '안녕?'을 출력하고\n",
        "    # user_input에 사용자의 입력값을 받는 코드를 작성하세요."
      ]
    },
    {
      "cell_type": "code",
      "execution_count": 24,
      "metadata": {
        "colab": {
          "base_uri": "https://localhost:8080/"
        },
        "id": "-rLTx7lYf4w0",
        "outputId": "e8856bc0-4002-49b9-b001-79c5e7a7eb7a"
      },
      "outputs": [
        {
          "name": "stdout",
          "output_type": "stream",
          "text": [
            "안녕?\n",
            "말해봐 : 메롱\n",
            "안녕?\n",
            "말해봐 : 메롱\n",
            "안녕?\n",
            "말해봐 : 바보\n",
            "안녕?\n",
            "말해봐 : 멍충이\n",
            "안녕?\n",
            "말해봐 : 안녕?\n",
            "안녕?\n",
            "말해봐 : 안녕 !\n",
            "안녕?\n",
            "말해봐 : 안녕\n"
          ]
        }
      ],
      "source": [
        "user_input = ''\n",
        "while user_input != '안녕':\n",
        "    print('안녕?')\n",
        "    user_input = input('말해봐 : ')"
      ]
    },
    {
      "cell_type": "markdown",
      "metadata": {
        "id": "8VV9n-k9f4w0"
      },
      "source": [
        "### [실습] 합(Summation)\n",
        "\n",
        "> 1부터 사용자가 입력한 양의 정수까지의 총합을 구하는 코드를 작성해보세요.\n",
        "\n",
        "---\n",
        "**[입력 예시]**\n",
        "\n",
        "10\n",
        "\n",
        "**[출력 예시]**\n",
        "\n",
        "55"
      ]
    },
    {
      "cell_type": "code",
      "execution_count": 25,
      "metadata": {
        "id": "YQo-MrNtf4w1"
      },
      "outputs": [],
      "source": [
        "# 아래에 코드를 작성하세요."
      ]
    },
    {
      "cell_type": "code",
      "execution_count": 26,
      "metadata": {
        "colab": {
          "base_uri": "https://localhost:8080/"
        },
        "id": "4ZSzjm-df4w1",
        "outputId": "edffa335-b39e-4a81-a9b0-8737b291f8ba"
      },
      "outputs": [
        {
          "output_type": "stream",
          "name": "stdout",
          "text": [
            "양의 정수를 입력해주세요 : 123\n",
            "7503\n"
          ]
        }
      ],
      "source": [
        "num = int(input('양의 정수를 입력해주세요 : '))\n",
        "value = 1\n",
        "lst_a = []\n",
        "\n",
        "while value < num:\n",
        "    lst_a.append(value)\n",
        "    value += 1\n",
        "print(sum(lst_a))"
      ]
    },
    {
      "cell_type": "markdown",
      "metadata": {
        "id": "3TZ3SU3Uf4w1"
      },
      "source": [
        "### [응용] 한자리 씩 출력하기\n",
        "\n",
        "> 사용자로부터 입력 받은 양의 정수의 각 자리 수를 1의 자리부터 차례대로 출력하는 코드를 작성해보세요.\n",
        "\n",
        "\n",
        "---\n",
        "**[입력 예시]**\n",
        "\n",
        "185\n",
        "\n",
        "**[출력 예시]**\n",
        "\n",
        "5\n",
        "\n",
        "8\n",
        "\n",
        "1"
      ]
    },
    {
      "cell_type": "code",
      "execution_count": null,
      "metadata": {
        "id": "IFKPs9nRf4w1"
      },
      "outputs": [],
      "source": [
        "# 아래에 코드를 작성하세요."
      ]
    },
    {
      "cell_type": "code",
      "execution_count": 27,
      "metadata": {
        "colab": {
          "base_uri": "https://localhost:8080/"
        },
        "id": "MGkVKZjJf4w1",
        "outputId": "71c17f16-e4fa-4b87-d2e0-7868690dfcf7"
      },
      "outputs": [
        {
          "output_type": "stream",
          "name": "stdout",
          "text": [
            "양의 정수를 입력해주세요 : 124124\n",
            "1\n",
            "2\n",
            "4\n",
            "1\n",
            "2\n",
            "4\n"
          ]
        }
      ],
      "source": [
        "str_num = str(input('양의 정수를 입력해주세요 : '))\n",
        "for char in str_num:\n",
        "    print(char)\n"
      ]
    },
    {
      "cell_type": "markdown",
      "metadata": {
        "id": "fyPhx_xQf4w1"
      },
      "source": [
        "## `for` 문\n",
        "\n",
        "`for` 문은 시퀀스(string, tuple, list, range)를 포함한 순회가능한 객체(iterable)의 요소들을 순회합니다.\n",
        "\n",
        "---\n",
        "\n",
        "### 활용법\n",
        "- **문법**\n",
        "\n",
        "```python\n",
        "for <임시변수> in <순회가능한데이터(iterable)>:\n",
        "    <코드 블럭>\n",
        "```\n",
        "\n",
        "- **예시**\n",
        "\n",
        "```python\n",
        "for fruit in ['apple', 'mango', 'banana']:\n",
        "    print(fruit)\n",
        "print('끝')\n",
        "```"
      ]
    },
    {
      "cell_type": "markdown",
      "metadata": {
        "id": "fxOUZcOyf4w1"
      },
      "source": [
        "<center>\n",
        "    <img src=\"https://user-images.githubusercontent.com/18046097/61180565-3a2c7800-a653-11e9-806a-28838248de31.png\", alt=\"\">\n",
        "</center>"
      ]
    },
    {
      "cell_type": "code",
      "execution_count": 28,
      "metadata": {
        "id": "ppHO5JKBf4w1"
      },
      "outputs": [],
      "source": [
        "# flowchart를 for문을 통해 코드로 작성해봅시다.\n",
        "# 아래에 코드를 작성하세요."
      ]
    },
    {
      "cell_type": "code",
      "execution_count": 30,
      "metadata": {
        "colab": {
          "base_uri": "https://localhost:8080/"
        },
        "id": "U7l8n4oLf4w2",
        "outputId": "f274c15d-d36f-4b63-9756-70699d9ab3c5"
      },
      "outputs": [
        {
          "output_type": "stream",
          "name": "stdout",
          "text": [
            "apple\n",
            "mango\n",
            "banana\n",
            "끝\n"
          ]
        }
      ],
      "source": [
        "lst_fruit = ['apple', 'mango', 'banana']\n",
        "\n",
        "for char in lst_fruit:\n",
        "    print(char) \n",
        "print('끝')"
      ]
    },
    {
      "cell_type": "markdown",
      "metadata": {
        "id": "DG4xfBZ8f4w2"
      },
      "source": [
        "![for animation](https://user-images.githubusercontent.com/18046097/61180563-3a2c7800-a653-11e9-8a7a-c7d6e6b30141.gif)"
      ]
    },
    {
      "cell_type": "markdown",
      "metadata": {
        "id": "SnqESY14f4w2"
      },
      "source": [
        "### [연습] for 문 작성하기\n",
        "> `for` 문을 활용하여 사용자가 입력한 문자를 한글자씩 출력해보세요.\n",
        "\n",
        "---\n",
        "**[입력 예시]**\n",
        "```\n",
        "문자를 입력하세요 : 안녕!\n",
        "```\n",
        "\n",
        "\n",
        "**[출력 예시]**\n",
        "\n",
        "```\n",
        "안\n",
        "녕\n",
        "!\n",
        "```"
      ]
    },
    {
      "cell_type": "code",
      "execution_count": 31,
      "metadata": {
        "colab": {
          "base_uri": "https://localhost:8080/"
        },
        "id": "tISKrwkAf4w2",
        "outputId": "3fff8bd5-d6ad-4e39-da8c-b452971d6d87"
      },
      "outputs": [
        {
          "name": "stdout",
          "output_type": "stream",
          "text": [
            "문자를 입력하세요 : 메롱 약오르지 까꿍\n"
          ]
        }
      ],
      "source": [
        "chars = input('문자를 입력하세요 : ')"
      ]
    },
    {
      "cell_type": "code",
      "execution_count": null,
      "metadata": {
        "id": "BdWVKthBf4w2"
      },
      "outputs": [],
      "source": [
        "# 아래에 코드를 작성하세요.\n",
        "# for 문을 활용해봅시다.\n",
        "# 변수 char에 할당된 문자를 한글자씩 출력하는 for 반복문을 작성하세요."
      ]
    },
    {
      "cell_type": "code",
      "execution_count": 32,
      "metadata": {
        "colab": {
          "base_uri": "https://localhost:8080/"
        },
        "id": "T0ODfwRQf4w2",
        "outputId": "8e7d8d7a-5870-44b9-fe78-a30843e6bf07"
      },
      "outputs": [
        {
          "output_type": "stream",
          "name": "stdout",
          "text": [
            "메\n",
            "롱\n",
            " \n",
            "약\n",
            "오\n",
            "르\n",
            "지\n",
            " \n",
            "까\n",
            "꿍\n"
          ]
        }
      ],
      "source": [
        "for char in chars:\n",
        "    print(char)"
      ]
    },
    {
      "cell_type": "markdown",
      "metadata": {
        "id": "0J23aCKyf4w2"
      },
      "source": [
        "### 문자열(String) 순회\n",
        "\n",
        "#### `range(문자열의 길이)`\n",
        "`range()`와 순회할 srting의 길이를 활용하여 index를 조작 가능합니다."
      ]
    },
    {
      "cell_type": "code",
      "execution_count": 33,
      "metadata": {
        "colab": {
          "base_uri": "https://localhost:8080/"
        },
        "id": "02MOe7A7f4w2",
        "outputId": "bd9e2ed6-43aa-4441-ae8c-59ccb1ae2df1"
      },
      "outputs": [
        {
          "name": "stdout",
          "output_type": "stream",
          "text": [
            "문자를 입력하세요 : 메롱 약오르지 까꿍\n"
          ]
        }
      ],
      "source": [
        "chars = input('문자를 입력하세요 : ')"
      ]
    },
    {
      "cell_type": "code",
      "execution_count": 34,
      "metadata": {
        "id": "LXePdYgwf4w2"
      },
      "outputs": [],
      "source": [
        "# 위에서 사용자가 입력한 문자를 range를 활용하여 한 글자씩 출력하는 for 문을 작성해봅시다."
      ]
    },
    {
      "cell_type": "code",
      "execution_count": 37,
      "metadata": {
        "colab": {
          "base_uri": "https://localhost:8080/"
        },
        "id": "dnF33U_vf4w2",
        "outputId": "752425a2-88a0-42f4-abc6-1d0d919045d9"
      },
      "outputs": [
        {
          "output_type": "stream",
          "name": "stdout",
          "text": [
            "메\n",
            "롱\n",
            " \n",
            "약\n",
            "오\n",
            "르\n",
            "지\n",
            " \n",
            "까\n",
            "꿍\n"
          ]
        }
      ],
      "source": [
        "for char in range(len(chars)):\n",
        "    print(chars[char])"
      ]
    },
    {
      "cell_type": "markdown",
      "metadata": {
        "id": "f1ZMui9wf4w3"
      },
      "source": [
        "### 딕셔너리 순회(반복문 활용)\n",
        "\n",
        "딕셔너리에 `for` 문을 실행하면 기본적으로 다음과 같이 동작합니다."
      ]
    },
    {
      "cell_type": "code",
      "execution_count": 38,
      "metadata": {
        "id": "D0Nk04Bwf4w3"
      },
      "outputs": [],
      "source": [
        "# 딕셔너리를 반복문과 함께 사용해봅시다.\n",
        "# ''peter(key)은 80 이라는 점수(value)를 가지며,\n",
        "# 'jake'(key)은 90 이라는 점수(value)를 가지는,\n",
        "# 변수명이 grades인 딕셔너리를 만들어봅시다.\n",
        "\n",
        "grades = {'peter':  80, 'jake': 90}"
      ]
    },
    {
      "cell_type": "code",
      "execution_count": 39,
      "metadata": {
        "colab": {
          "base_uri": "https://localhost:8080/"
        },
        "id": "2xdPtcepf4w3",
        "outputId": "183cc5df-2412-44a2-8ff8-ed22e5b703d1"
      },
      "outputs": [
        {
          "output_type": "stream",
          "name": "stdout",
          "text": [
            "peter\n",
            "jake\n"
          ]
        }
      ],
      "source": [
        "# for문을 통해 딕셔너리 grades를 순회하면서 출력 값을 확인해봅시다.\n",
        "for student in grades:\n",
        "    print(student)"
      ]
    },
    {
      "cell_type": "markdown",
      "metadata": {
        "id": "tN_mAxj7f4w3"
      },
      "source": [
        "딕셔너리의 **key**에 접근할 수 있으면, 이를 통해 **value**에도 접근할 수 있습니다.\n",
        "\n",
        "따라서 딕셔너리의 value를 출력하기 위해서는 아래와 같이 작성합니다."
      ]
    },
    {
      "cell_type": "code",
      "execution_count": 40,
      "metadata": {
        "id": "m6SPda7cf4w3"
      },
      "outputs": [],
      "source": [
        "# 위에서 출력한 학생 이름(key)을 활용하여 점수(value)를 출력해봅시다."
      ]
    },
    {
      "cell_type": "code",
      "execution_count": 41,
      "metadata": {
        "colab": {
          "base_uri": "https://localhost:8080/"
        },
        "id": "vNzg5pUWf4w3",
        "outputId": "c7b391a6-653c-4521-a2e3-21d3e578df05"
      },
      "outputs": [
        {
          "output_type": "stream",
          "name": "stdout",
          "text": [
            "80\n",
            "90\n"
          ]
        }
      ],
      "source": [
        "for student in grades:\n",
        "    print(grades[student])"
      ]
    },
    {
      "cell_type": "markdown",
      "metadata": {
        "id": "cIJM0wzZf4w3"
      },
      "source": [
        "* dictionary에서 `for`를 활용하는 4가지 방법\n",
        "\n",
        "```python\n",
        "# 0. dictionary 순회 (key 활용)\n",
        "for key in dict:\n",
        "    print(key)\n",
        "    print(dict[key])\n",
        "\n",
        "\n",
        "# 1. `.keys()` 활용\n",
        "for key in dict.keys():\n",
        "    print(key)\n",
        "    print(dict[key])\n",
        "    \n",
        "    \n",
        "# 2. `.values()` 활용\n",
        "# 이 경우 key는 출력할 수 없음\n",
        "for val in dict.values():\n",
        "    print(val)\n",
        "\n",
        "    \n",
        "# 3. `.items()` 활용\n",
        "for key, val in dict.items():\n",
        "    print(key, val)\n",
        "\n",
        "```"
      ]
    },
    {
      "cell_type": "markdown",
      "metadata": {
        "id": "GTepmZ30f4w4"
      },
      "source": [
        "### `enumerate()`\n",
        "인덱스(index)와 값(value)을 함께 활용 가능합니다.\n",
        "\n",
        "> `enumerate()`를 활용하면, 추가적인 변수를 활용할 수 있습니다.\n",
        "- `enumerate()`는 [내장 함수](https://docs.python.org/ko/3.6/library/functions.html) 중 하나이며, 다음과 같이 구성되어 있습니다.\n",
        ">\n",
        "> <center>\n",
        "    <img src=\"https://user-images.githubusercontent.com/18046097/61180561-3993e180-a653-11e9-9558-085c9a0ad65d.png\", alt=\"enumerate\">\n",
        "</center>"
      ]
    },
    {
      "cell_type": "code",
      "execution_count": 42,
      "metadata": {
        "id": "2Mk5AbrPf4w4"
      },
      "outputs": [],
      "source": [
        "# enumerate()를 활용해서 출력해봅시다.\n",
        "members = ['민수', '영희', '철수']"
      ]
    },
    {
      "cell_type": "code",
      "execution_count": 43,
      "metadata": {
        "colab": {
          "base_uri": "https://localhost:8080/"
        },
        "id": "am70-eJSf4w4",
        "outputId": "209d09f6-8aaa-4508-b062-9b1a4bc9cb66"
      },
      "outputs": [
        {
          "output_type": "stream",
          "name": "stdout",
          "text": [
            "0 민수\n",
            "1 영희\n",
            "2 철수\n"
          ]
        }
      ],
      "source": [
        "# enumerate() 에 의해 반환되는 인덱스와 값(value)를 함께 출력하는 for 반복문을 작성해봅시다.\n",
        "for idx, member in enumerate(members):\n",
        "    print(idx, member)"
      ]
    },
    {
      "cell_type": "code",
      "execution_count": 44,
      "metadata": {
        "id": "NtUWEM4zf4w4"
      },
      "outputs": [],
      "source": [
        "# enumerate()를 사용하였을 때 어떻게 표현이 되는지 확인해봅시다."
      ]
    },
    {
      "cell_type": "code",
      "execution_count": 45,
      "metadata": {
        "colab": {
          "base_uri": "https://localhost:8080/"
        },
        "id": "sFgqIfQPf4w4",
        "outputId": "953b0e39-43df-4ea8-a32d-d351f7a3a304"
      },
      "outputs": [
        {
          "output_type": "stream",
          "name": "stdout",
          "text": [
            "<enumerate object at 0x7f7ef29a0a40>\n",
            "[(0, '민수'), (1, '영희'), (2, '철수')]\n"
          ]
        }
      ],
      "source": [
        "print(enumerate(members))\n",
        "print(list(enumerate(members)))"
      ]
    },
    {
      "cell_type": "code",
      "execution_count": 46,
      "metadata": {
        "id": "3cTjPq_hf4w4"
      },
      "outputs": [],
      "source": [
        "# 첫번쨰 항목의 type을 확인해봅시다."
      ]
    },
    {
      "cell_type": "code",
      "execution_count": 47,
      "metadata": {
        "colab": {
          "base_uri": "https://localhost:8080/"
        },
        "id": "sbb9wyVIf4w4",
        "outputId": "f7f533fc-2a74-4782-8de7-2a67f0fe81d2"
      },
      "outputs": [
        {
          "output_type": "stream",
          "name": "stdout",
          "text": [
            "(0, '민수')\n",
            "<class 'tuple'>\n"
          ]
        }
      ],
      "source": [
        "print(list(enumerate(members))[0])\n",
        "print(type(list(enumerate(members))[0]))"
      ]
    },
    {
      "cell_type": "markdown",
      "metadata": {
        "id": "vR_4PN6gf4w4"
      },
      "source": [
        "* 숫자를 1부터 카운트 할 수도 있습니다."
      ]
    },
    {
      "cell_type": "code",
      "execution_count": 48,
      "metadata": {
        "colab": {
          "base_uri": "https://localhost:8080/"
        },
        "id": "fxfo0olbf4w4",
        "outputId": "b836a48b-a6b5-422b-890c-16a838fbeed9"
      },
      "outputs": [
        {
          "output_type": "stream",
          "name": "stdout",
          "text": [
            "1 민수\n",
            "2 영희\n",
            "3 철수\n"
          ]
        }
      ],
      "source": [
        "# enumerate() 에 의해 반환되는 인덱스가 1로 시작하여 카운트되는 for 반복문을 작성해봅시다.\n",
        "for idx, member in enumerate(members, start=1):\n",
        "    print(idx, member)"
      ]
    },
    {
      "cell_type": "markdown",
      "metadata": {
        "id": "Gbo7GZCRf4w5"
      },
      "source": [
        "### List Comprehension\n",
        "\n",
        "List Comprehension은 표현식과 제어문을 통해 리스트를 생성합니다.\n",
        "\n",
        "여러 줄의 코드를 한 줄로 줄일 수 있습니다.\n",
        "\n",
        "---\n",
        "\n",
        "#### 활용법\n",
        "\n",
        "```python\n",
        "[expression for 변수 in iterable]\n",
        "\n",
        "list(expression for 변수 in iterable)\n",
        "```"
      ]
    },
    {
      "cell_type": "markdown",
      "metadata": {
        "id": "hGOd9jtTf4w5"
      },
      "source": [
        "#### 세제곱 리스트\n",
        "\n",
        "> 다음의 리스트를 작성하세요.\n",
        "- 1~3까지의 숫자로 만든 세제곱 담긴 리스트 `cubic_list`"
      ]
    },
    {
      "cell_type": "code",
      "execution_count": 49,
      "metadata": {
        "id": "1x1a_AW-f4w5"
      },
      "outputs": [],
      "source": [
        "# 1~3의 세제곱 리스트 만들기\n",
        "cubic_list = []\n",
        "for number in range(1, 4):\n",
        "    cubic_list.append(number ** 3)"
      ]
    },
    {
      "cell_type": "code",
      "execution_count": 50,
      "metadata": {
        "colab": {
          "base_uri": "https://localhost:8080/"
        },
        "id": "yN_GSPl-f4w5",
        "outputId": "98ad4607-06ca-4c62-f7af-64c7c9ba29d3"
      },
      "outputs": [
        {
          "output_type": "stream",
          "name": "stdout",
          "text": [
            "[1, 8, 27]\n"
          ]
        }
      ],
      "source": [
        "print(cubic_list)"
      ]
    },
    {
      "cell_type": "code",
      "execution_count": 51,
      "metadata": {
        "id": "9jM7fT5-f4w5"
      },
      "outputs": [],
      "source": [
        "# List comprehension을 활용하여 작성하세요."
      ]
    },
    {
      "cell_type": "code",
      "execution_count": 52,
      "metadata": {
        "id": "A8Te0AcSf4w5"
      },
      "outputs": [],
      "source": [
        "cubic_list = [number ** 3 for number in range(1, 4)]"
      ]
    },
    {
      "cell_type": "code",
      "execution_count": 53,
      "metadata": {
        "colab": {
          "base_uri": "https://localhost:8080/"
        },
        "id": "omp2DAwuf4w5",
        "outputId": "94d75941-82ed-4d68-88bf-f46e1379f77f"
      },
      "outputs": [
        {
          "output_type": "stream",
          "name": "stdout",
          "text": [
            "[1, 8, 27]\n"
          ]
        }
      ],
      "source": [
        "print(cubic_list)"
      ]
    },
    {
      "cell_type": "markdown",
      "metadata": {
        "id": "fKZLNzMMf4w5"
      },
      "source": [
        "### Dictionary comprehension\n",
        "\n",
        "dictionary도 comprehension을 활용하여 만들 수 있습니다. \n",
        "\n",
        "---\n",
        "\n",
        "#### 활용법\n",
        "`iterable`에서 `dict`를 생성할 수 있습니다.\n",
        "\n",
        "```python\n",
        "{키: 값 for 요소 in iterable}\n",
        "\n",
        "dict({키: 값 for 요소 in iterable})\n",
        "```"
      ]
    },
    {
      "cell_type": "code",
      "execution_count": 54,
      "metadata": {
        "colab": {
          "base_uri": "https://localhost:8080/"
        },
        "id": "ImC1I9T7f4w5",
        "outputId": "0a4918b9-fd53-4103-945b-377341a5cbae"
      },
      "outputs": [
        {
          "output_type": "stream",
          "name": "stdout",
          "text": [
            "{1: 1, 2: 8, 3: 27}\n"
          ]
        }
      ],
      "source": [
        "# 1~3의 세제곱 딕셔너리 만들기\n",
        "cubic = {}\n",
        "\n",
        "for number in range(1, 4):\n",
        "    cubic[number] = number**3\n",
        "print(cubic)"
      ]
    },
    {
      "cell_type": "code",
      "execution_count": 55,
      "metadata": {
        "id": "PtPNxqhHf4w6"
      },
      "outputs": [],
      "source": [
        "# Dictionary comprehension을 활용하여 작성하세요."
      ]
    },
    {
      "cell_type": "code",
      "execution_count": 57,
      "metadata": {
        "colab": {
          "base_uri": "https://localhost:8080/"
        },
        "id": "P149sj1wf4w6",
        "outputId": "ff293dd8-58e6-48b4-a253-a5bb2f5c59a2"
      },
      "outputs": [
        {
          "output_type": "stream",
          "name": "stdout",
          "text": [
            "{8, 1, 27}\n"
          ]
        }
      ],
      "source": [
        "cubic = {number ** 3 for number in range(1, 4)}\n",
        "print(cubic)"
      ]
    },
    {
      "cell_type": "markdown",
      "metadata": {
        "id": "ACyrxq_Yf4w6"
      },
      "source": [
        "###  [실습] for 문과 if 문 작성하기\n",
        "\n",
        "> 반복문과 조건문만 활용하여 1~30까지 숫자 중에 홀수만 출력해보세요.\n",
        "\n",
        "---\n",
        "\n",
        "**[출력 예시]**\n",
        "\n",
        "```\n",
        "1\n",
        "3\n",
        "5\n",
        "...\n",
        "27\n",
        "29\n",
        "```"
      ]
    },
    {
      "cell_type": "code",
      "execution_count": null,
      "metadata": {
        "id": "PKQ7mXX5f4w6"
      },
      "outputs": [],
      "source": [
        "# 아래에 코드를 작성하세요."
      ]
    },
    {
      "cell_type": "code",
      "execution_count": 58,
      "metadata": {
        "colab": {
          "base_uri": "https://localhost:8080/"
        },
        "id": "PmMIKmLgf4w6",
        "outputId": "1c300da9-38dc-4395-ed3b-c6201832683c"
      },
      "outputs": [
        {
          "output_type": "stream",
          "name": "stdout",
          "text": [
            "1\n",
            "3\n",
            "5\n",
            "7\n",
            "9\n",
            "11\n",
            "13\n",
            "15\n",
            "17\n",
            "19\n",
            "21\n",
            "23\n",
            "25\n",
            "27\n",
            "29\n"
          ]
        }
      ],
      "source": [
        "for i in range(1,31,2):\n",
        "    print(i)"
      ]
    },
    {
      "cell_type": "markdown",
      "metadata": {
        "id": "3QEgxmLKf4w6"
      },
      "source": [
        "## 반복제어(`break`, `continue`, `for-else`)"
      ]
    },
    {
      "cell_type": "markdown",
      "metadata": {
        "id": "Ue_CBAX_f4w6"
      },
      "source": [
        "### `break` \n",
        "\n",
        "반복문을 종료합니다.\n",
        "\n",
        "* `for` 나 `while` 문에서 빠져나갑니다."
      ]
    },
    {
      "cell_type": "code",
      "execution_count": null,
      "metadata": {
        "id": "Gdpik-flf4w6"
      },
      "outputs": [],
      "source": [
        "# while 문에서 break를 활용해봅시다."
      ]
    },
    {
      "cell_type": "code",
      "execution_count": 59,
      "metadata": {
        "colab": {
          "base_uri": "https://localhost:8080/"
        },
        "id": "2Xgniqwgf4w6",
        "outputId": "dfc64251-ad6e-488f-e6ba-c44725e0e0dd"
      },
      "outputs": [
        {
          "output_type": "stream",
          "name": "stdout",
          "text": [
            "0\n",
            "1\n",
            "2\n"
          ]
        }
      ],
      "source": [
        "# 종료 조건이 있는 while 문을 작성해봅시다.\n",
        "# n의 초기값을 0으로 할당하고,\n",
        "# n의 값이 3보다 작은 경우 n을 출력한 후, n을 1씩 증가시키는 while 반복문 코드를 작성해봅시다. \n",
        "n = 0\n",
        "while n < 3:\n",
        "    print(n)\n",
        "    n += 1"
      ]
    },
    {
      "cell_type": "code",
      "execution_count": 60,
      "metadata": {
        "colab": {
          "base_uri": "https://localhost:8080/"
        },
        "id": "gUGxyrdjf4w7",
        "outputId": "4fa1353f-f625-4698-aa4a-604e05416fa6"
      },
      "outputs": [
        {
          "output_type": "stream",
          "name": "stdout",
          "text": [
            "0\n",
            "1\n",
            "2\n"
          ]
        }
      ],
      "source": [
        "# 종료 조건이 없는 while 문을 break 를 활용해서 종료시키는 코드를 작성해봅시다.\n",
        "# n의 초기값을 0으로 할당하고,\n",
        "# 종료조건 없이 n을 1씩 증가시키는 while 반복문 안에서 \n",
        "# n이 3이 되는 경우에 break되어 반복문을 종료하는 코드를 작성해봅시다.\n",
        "n = 0\n",
        "while True:\n",
        "    if n == 3:\n",
        "        break\n",
        "    print(n)\n",
        "    n += 1"
      ]
    },
    {
      "cell_type": "code",
      "execution_count": 61,
      "metadata": {
        "id": "q8DFJVnxf4w7"
      },
      "outputs": [],
      "source": [
        "# for 문에서도 break를 사용할 수 있습니다."
      ]
    },
    {
      "cell_type": "code",
      "execution_count": 63,
      "metadata": {
        "colab": {
          "base_uri": "https://localhost:8080/"
        },
        "id": "ks61Ayulf4w7",
        "outputId": "3671adda-c7a6-4bf0-dcd0-8a0e171ce0e3"
      },
      "outputs": [
        {
          "output_type": "stream",
          "name": "stdout",
          "text": [
            "0\n",
            "1\n",
            "2\n",
            "0과 1만 필요해 !!!\n"
          ]
        }
      ],
      "source": [
        "# 0부터 9까지 순회하는 for 반복문 안에서 \n",
        "# 1을 초과하는 경우 '0과 1만 필요해!' 를 출력하며 종료하는 코드를 작성해봅시다.\n",
        "\n",
        "for i in range(10):\n",
        "    print(i)\n",
        "    if i > 1:\n",
        "        print('0과 1만 필요해 !!!')\n",
        "        break"
      ]
    },
    {
      "cell_type": "markdown",
      "metadata": {
        "id": "cUFO89Kgf4w7"
      },
      "source": [
        "### [연습] `break` 활용하기\n",
        "\n",
        "> 조건문과 반복문, `break`를 활용하여 리스트에서 쌀이 나왔을때 `for` 문을 멈추는 코드를 작성하세요.\n",
        "\n",
        "---\n",
        "\n",
        "**[출력 예시]**\n",
        "\n",
        "보리\n",
        "\n",
        "보리\n",
        "\n",
        "쌀\n",
        "\n",
        "잡았다!"
      ]
    },
    {
      "cell_type": "code",
      "execution_count": 65,
      "metadata": {
        "id": "AfDNuqpwf4w7"
      },
      "outputs": [],
      "source": [
        "rice = ['보리', '보리', '보리', '쌀', '보리']\n",
        "\n",
        "# 아래에 코드를 작성하세요."
      ]
    },
    {
      "cell_type": "code",
      "execution_count": 66,
      "metadata": {
        "scrolled": true,
        "colab": {
          "base_uri": "https://localhost:8080/"
        },
        "id": "JDw9LUt0f4w7",
        "outputId": "fa7fae1b-a564-4c76-ce97-3d0f26585e7f"
      },
      "outputs": [
        {
          "output_type": "stream",
          "name": "stdout",
          "text": [
            "보리\n",
            "보리\n",
            "보리\n",
            "쌀\n",
            "잡았다 !!!\n"
          ]
        }
      ],
      "source": [
        "for char in rice:\n",
        "    print(char)\n",
        "    if char == '쌀':\n",
        "        print('잡았다 !!!')\n",
        "        break"
      ]
    },
    {
      "cell_type": "markdown",
      "metadata": {
        "id": "TF1kOufGf4w7"
      },
      "source": [
        "### `continue`\n",
        "\n",
        "`continue`문은 continue 이후의 코드를 수행하지 않고, *다음 요소부터 계속(continue)하여* 반복을 수행합니다."
      ]
    },
    {
      "cell_type": "code",
      "execution_count": 67,
      "metadata": {
        "id": "hNC_bW_Tf4w7"
      },
      "outputs": [],
      "source": [
        "# continue 문을 확인해봅시다.\n",
        "# for문을 통해 0~5까지의 숫자를 반복하며,\n",
        "# 짝수인 경우 continue하고,\n",
        "# 홀수인 경우 해당 숫자를 출력하는 코드를 작성하세요."
      ]
    },
    {
      "cell_type": "code",
      "execution_count": 68,
      "metadata": {
        "ExecuteTime": {
          "end_time": "2021-01-15T08:54:19.617198Z",
          "start_time": "2021-01-15T08:54:19.615196Z"
        },
        "colab": {
          "base_uri": "https://localhost:8080/"
        },
        "id": "3Ato8Pv3f4w7",
        "outputId": "15afbd24-f1bc-45a4-e999-1069cb6773a6"
      },
      "outputs": [
        {
          "output_type": "stream",
          "name": "stdout",
          "text": [
            "1는 홀수다.\n",
            "3는 홀수다.\n",
            "5는 홀수다.\n"
          ]
        }
      ],
      "source": [
        "for i in range(6):\n",
        "    if i % 2 == 0:\n",
        "        continue\n",
        "        # continue 이후의 코드는 실행되지 않습니다.\n",
        "    print(f'{i}는 홀수다.')"
      ]
    },
    {
      "cell_type": "markdown",
      "metadata": {
        "id": "eFVSdIr9f4w8"
      },
      "source": [
        "### [연습] `continue` 문 작성하기\n",
        "\n",
        "> 나이가 입력된 리스트가 있을때,\n",
        "> 조건문과 반복문, `continue`문을 활용하여 20살 이상일때만 \"성인입니다\"라는 출력을 하는 코드를 작성하세요.\n",
        "\n",
        "---\n",
        "\n",
        "**[출력 예시]**\n",
        "\n",
        "23 살은 성인입니다.\n",
        "\n",
        "30 살은 성인입니다.\n",
        "\n",
        "25 살은 성인입니다.\n",
        "\n",
        "31 살은 성인입니다."
      ]
    },
    {
      "cell_type": "code",
      "execution_count": 69,
      "metadata": {
        "id": "DE6tV0Agf4w8"
      },
      "outputs": [],
      "source": [
        "ages = [10, 23, 8, 30, 25, 31]\n",
        "\n",
        "# 아래에 코드를 작성하세요."
      ]
    },
    {
      "cell_type": "code",
      "execution_count": 70,
      "metadata": {
        "colab": {
          "base_uri": "https://localhost:8080/"
        },
        "id": "NDl8YzOGf4w8",
        "outputId": "8e9b69de-9415-436c-e714-b360d1b088c4"
      },
      "outputs": [
        {
          "output_type": "stream",
          "name": "stdout",
          "text": [
            "23살은 성인입니다.\n",
            "30살은 성인입니다.\n",
            "25살은 성인입니다.\n",
            "31살은 성인입니다.\n"
          ]
        }
      ],
      "source": [
        "for num in ages:\n",
        "    if num < 20:\n",
        "        continue\n",
        "    print(f'{num}살은 성인입니다.')"
      ]
    },
    {
      "cell_type": "markdown",
      "metadata": {
        "id": "hrYujwYrf4w8"
      },
      "source": [
        "### `pass` \n",
        "아무것도 하지 않습니다.\n",
        "* 들여쓰기 이후 문장이 필요하지만, 프로그램이 특별히 할 일이 없을 때 자리를 채우는 용도로 사용할 수 있습니다."
      ]
    },
    {
      "cell_type": "markdown",
      "metadata": {
        "id": "uUBYjVeVf4w8"
      },
      "source": [
        "`pass` 와 `continue` 차이"
      ]
    },
    {
      "cell_type": "code",
      "execution_count": 71,
      "metadata": {
        "colab": {
          "base_uri": "https://localhost:8080/"
        },
        "id": "k8sCEOhef4w8",
        "outputId": "056823da-2469-4ed6-8437-4fe718a80fa4"
      },
      "outputs": [
        {
          "output_type": "stream",
          "name": "stdout",
          "text": [
            "0\n",
            "1\n",
            "2\n",
            "3\n",
            "4\n"
          ]
        }
      ],
      "source": [
        "# pass\n",
        "# 0부터 4의 범위를 순회하며 출력하는 반복문 안에서\n",
        "# 3이 나오는 경우 pass 하는 조건문을 작성해봅시다."
      ]
    },
    {
      "cell_type": "code",
      "execution_count": null,
      "metadata": {
        "id": "Nqdouxvhf4w8"
      },
      "outputs": [],
      "source": [
        "# 아래에 코드를 작성하세요.\n",
        "\n",
        "for i in range(5):\n",
        "    print(i)\n",
        "    if i == 3:\n",
        "        pass"
      ]
    },
    {
      "cell_type": "code",
      "execution_count": null,
      "metadata": {
        "id": "c0z8pWL6f4w8"
      },
      "outputs": [],
      "source": [
        "# continue\n",
        "# 0부터 4의 범위를 순회하며 출력하는 반복문 안에서 \n",
        "# 3이 나오는 경우 continue 하는 조건문을 작성해봅시다."
      ]
    },
    {
      "cell_type": "code",
      "execution_count": 72,
      "metadata": {
        "colab": {
          "base_uri": "https://localhost:8080/"
        },
        "id": "oURw_IAhf4w8",
        "outputId": "165689a9-fced-4367-bd3c-7e117f4e3b4e"
      },
      "outputs": [
        {
          "output_type": "stream",
          "name": "stdout",
          "text": [
            "0\n",
            "1\n",
            "2\n",
            "4\n"
          ]
        }
      ],
      "source": [
        "# 아래에 코드을 작성하세요.\n",
        "\n",
        "for i in range(5):\n",
        "    if i == 3:\n",
        "        continue\n",
        "    print(i)"
      ]
    },
    {
      "cell_type": "markdown",
      "metadata": {
        "id": "lZvNWxXjf4w9"
      },
      "source": [
        "### `else`\n",
        "\n",
        "끝까지 반복문을 실행한 이후에 실행됩니다.\n",
        "- 반복문이 **`break` 문으로 종료될 때는 실행되지 않습니다.** (즉, `break`를 통해 중간에 종료되지 않은 경우만 실행)"
      ]
    },
    {
      "cell_type": "code",
      "execution_count": null,
      "metadata": {
        "id": "ABZrR8FQf4w9"
      },
      "outputs": [],
      "source": [
        "# break가 동작하지 않는 상황을 확인해봅시다.\n",
        "# 'apple' 이라는 문자열을 순회하면서\n",
        "# 'b'가 있으면 'b!'를 출력한 후 break에 의해 순회를 종료하고,\n",
        "# 문자열 끝까지 순회해도 'b'가 없는 경우에는 'b가 없습니다.'를 출력하는 코드를 작성하세요."
      ]
    },
    {
      "cell_type": "code",
      "execution_count": 74,
      "metadata": {
        "colab": {
          "base_uri": "https://localhost:8080/"
        },
        "id": "NByuh-09f4w9",
        "outputId": "589f3d86-ac76-4a10-b002-178f9b2a600c"
      },
      "outputs": [
        {
          "output_type": "stream",
          "name": "stdout",
          "text": [
            "b가 없습니다.\n"
          ]
        }
      ],
      "source": [
        "# 아래에 코드를 작성하세요.\n",
        "\n",
        "str_a = 'apple'\n",
        "\n",
        "for char in str_a:\n",
        "    if char == 'b':\n",
        "        print('b!')\n",
        "        break\n",
        "else:\n",
        "    print('b가 없습니다.')\n"
      ]
    },
    {
      "cell_type": "code",
      "execution_count": null,
      "metadata": {
        "id": "-Lgu82yHf4w9"
      },
      "outputs": [],
      "source": [
        "# break가 동작하는 상황을 확인해봅시다.\n",
        "# 'banana' 라는 문자열을 순회하면서\n",
        "# 'b'가 있으면 'b!'를 출력한 후 break에 의해 순회를 종료하고,\n",
        "# 문자열 끝까지 순회해도 'b'가 없는 경우에는 'b가 없습니다.'를 출력하는 코드를 작성하세요."
      ]
    },
    {
      "cell_type": "code",
      "execution_count": 75,
      "metadata": {
        "colab": {
          "base_uri": "https://localhost:8080/"
        },
        "id": "sn5Z3gQqf4w9",
        "outputId": "2dd50884-f857-438a-c452-812de78546fa"
      },
      "outputs": [
        {
          "output_type": "stream",
          "name": "stdout",
          "text": [
            "b!\n"
          ]
        }
      ],
      "source": [
        "# 아래에 코드를 작성하세요.\n",
        "str_b = 'banana'\n",
        "\n",
        "for char in str_b:\n",
        "    if char == 'b':\n",
        "        print('b!')\n",
        "        break\n",
        "else:\n",
        "    print('b가 없습니다.')"
      ]
    },
    {
      "cell_type": "markdown",
      "metadata": {
        "id": "uRobxZcwf4w9"
      },
      "source": [
        "### [연습] `for-else` 활용하기\n",
        "\n",
        "> 조건문과 반복문, break, else 를 통해서 아래의 코드와 동일한 코드를 작성하세요.\n",
        "* numbers 리스트에 4가 있을 경우 `True`를 출력하고, 없을 경우 `False`를 출력한다.\n",
        "\n",
        "---\n",
        "\n",
        "**[출력 예시]**\n",
        "\n",
        "`False`\n"
      ]
    },
    {
      "cell_type": "code",
      "execution_count": 77,
      "metadata": {
        "id": "MnCiLidFf4w9"
      },
      "outputs": [],
      "source": [
        "numbers = [1, 3, 7, 9]\n",
        "\n",
        "# 아래에 코드를 작성하세요."
      ]
    },
    {
      "cell_type": "code",
      "execution_count": 78,
      "metadata": {
        "colab": {
          "base_uri": "https://localhost:8080/"
        },
        "id": "Z2peZuYbf4w9",
        "outputId": "bf33133a-4fb4-4925-87d9-e7846481f19b"
      },
      "outputs": [
        {
          "output_type": "stream",
          "name": "stdout",
          "text": [
            "False\n"
          ]
        }
      ],
      "source": [
        "for num in numbers:\n",
        "    if num == 4:\n",
        "        print('True')\n",
        "else:\n",
        "    print('False')"
      ]
    },
    {
      "cell_type": "code",
      "source": [],
      "metadata": {
        "id": "jE-ZNt7fnsFc"
      },
      "execution_count": null,
      "outputs": []
    }
  ],
  "metadata": {
    "kernelspec": {
      "display_name": "Python 3 (ipykernel)",
      "language": "python",
      "name": "python3"
    },
    "language_info": {
      "codemirror_mode": {
        "name": "ipython",
        "version": 3
      },
      "file_extension": ".py",
      "mimetype": "text/x-python",
      "name": "python",
      "nbconvert_exporter": "python",
      "pygments_lexer": "ipython3",
      "version": "3.9.9"
    },
    "toc": {
      "base_numbering": 1,
      "nav_menu": {},
      "number_sections": true,
      "sideBar": true,
      "skip_h1_title": false,
      "title_cell": "제어문(Control Statement)",
      "title_sidebar": "제어문(Control Statement)",
      "toc_cell": false,
      "toc_position": {
        "height": "calc(100% - 180px)",
        "left": "10px",
        "top": "150px",
        "width": "188.4px"
      },
      "toc_section_display": true,
      "toc_window_display": true
    },
    "colab": {
      "provenance": []
    }
  },
  "nbformat": 4,
  "nbformat_minor": 0
}