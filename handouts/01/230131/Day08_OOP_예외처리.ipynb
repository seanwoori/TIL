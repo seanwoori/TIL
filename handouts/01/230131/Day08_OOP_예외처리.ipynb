{
 "cells": [
  {
   "cell_type": "markdown",
   "id": "grand-coordinate",
   "metadata": {},
   "source": [
    "# OOP의 핵심 개념\n",
    "\n",
    "- 추상화 (Abstraction)\n",
    "- 상속 (Inheritance)\n",
    "- 다형성 (Polymorphism)\n",
    "- 캡슐화 (Encapsulation)"
   ]
  },
  {
   "cell_type": "markdown",
   "id": "growing-christmas",
   "metadata": {},
   "source": [
    "## 추상화(Abstraction)란?\n",
    "\n",
    "- 객체 지향 프로그래밍에서의 추상화는 세부적인 내용은 감추고 필수적인 부분만 표현하는 것을 뜻합니다.\n",
    "- 현실 세계를 프로그램 설계에 반영하기 위해 사용됩니다.\n",
    "- 여러 클래스가 공통적으로 사용할 속성 및 메서드를 추출하여 기본 클래스로 작성하여 활용합니다."
   ]
  },
  {
   "cell_type": "code",
   "execution_count": 6,
   "id": "bright-rotation",
   "metadata": {},
   "outputs": [],
   "source": [
    "# 학생(Student)을 표현하기 위한 클래스를 생성합니다.\n",
    "\n",
    "class Student:\n",
    "    def __init__(self, name):\n",
    "        self.name = name\n",
    "    \n",
    "    def hello(self):\n",
    "        print(f'hello, i\\'m {self.name}')"
   ]
  },
  {
   "cell_type": "code",
   "execution_count": 3,
   "id": "electoral-advisory",
   "metadata": {},
   "outputs": [],
   "source": [
    "# 교수(Professor)를 표현하기 위한 클래스를 생성합니다.\n",
    "\n",
    "class Professor:\n",
    "    def __init__(self, name):\n",
    "        self.name = name\n",
    "    \n",
    "    def hello(self):\n",
    "        print(f'hello, i\\'m {self.name}')"
   ]
  },
  {
   "cell_type": "code",
   "execution_count": 7,
   "id": "cleared-italic",
   "metadata": {},
   "outputs": [],
   "source": [
    "# 학생 클래스와 교수 클래스의 공통 속성과 행위(메서드)를 추출하여, \n",
    "# Person이라는 클래스를 통해 추상화를 해봅시다.\n",
    "\n",
    "class Person:\n",
    "    def __init__(self, name):\n",
    "        self.name = name\n",
    "    \n",
    "    def hello(self):\n",
    "        print(f'hello, i\\'m {self.name}')"
   ]
  },
  {
   "cell_type": "markdown",
   "id": "superior-concrete",
   "metadata": {},
   "source": [
    "## 상속(Inheritance)이란?\n",
    "\n",
    "\n",
    "클래스에서 가장 큰 특징은 `상속`이 가능하다는 것입니다. \n",
    "\n",
    "부모 클래스의 모든 속성이 자식 클래스에게 상속 되므로 코드 재사용성이 높아집니다.\n",
    "\n",
    "---\n",
    "\n",
    "**활용법**\n",
    "\n",
    "\n",
    "```python\n",
    "class ChildClass(ParentClass):\n",
    "    <code block>\n",
    "```"
   ]
  },
  {
   "cell_type": "code",
   "execution_count": 8,
   "id": "seventh-pilot",
   "metadata": {},
   "outputs": [],
   "source": [
    "# Person 클래스를 정의해 보겠습니다.\n",
    "\n",
    "class Person:\n",
    "    population = 0\n",
    "    \n",
    "    def __init__(self, name='사람'):\n",
    "        self.name = name\n",
    "        Person.population += 1\n",
    "        \n",
    "    def talk(self):\n",
    "        print(f'반갑습니다. {self.name}입니다.')"
   ]
  },
  {
   "cell_type": "code",
   "execution_count": 10,
   "id": "strong-operator",
   "metadata": {},
   "outputs": [
    {
     "name": "stdout",
     "output_type": "stream",
     "text": [
      "반갑습니다. 이성우입니다.\n"
     ]
    }
   ],
   "source": [
    "# Person 클래스의 인스턴스 p1을 생성해봅시다.\n",
    "# name 속성은 자유롭게 설정합니다.\n",
    "\n",
    "p1 = Person('이성우')\n",
    "p1.talk()"
   ]
  },
  {
   "cell_type": "code",
   "execution_count": 11,
   "id": "ordered-bible",
   "metadata": {},
   "outputs": [],
   "source": [
    "# Person 클래스를 상속받아 Student 클래스를 만들어 보겠습니다.\n",
    "\n",
    "class Student(Person):\n",
    "    def __init__(self, student_id, name='학생'):\n",
    "        self.name = name\n",
    "        self.student_id = student_id  \n",
    "        Person.population += 1"
   ]
  },
  {
   "cell_type": "code",
   "execution_count": 12,
   "id": "closing-benefit",
   "metadata": {},
   "outputs": [],
   "source": [
    "# Student 클래스의 객체 s1을 만들어봅시다.\n",
    "\n",
    "s1 = Student('고등학생', '이성우')"
   ]
  },
  {
   "cell_type": "code",
   "execution_count": 14,
   "id": "positive-casting",
   "metadata": {},
   "outputs": [
    {
     "name": "stdout",
     "output_type": "stream",
     "text": [
      "이성우\n",
      "고등학생\n"
     ]
    }
   ],
   "source": [
    "# s1의 name과 student_id를 확인해봅시다.\n",
    "\n",
    "print(s1.name)\n",
    "print(s1.student_id)"
   ]
  },
  {
   "cell_type": "code",
   "execution_count": 15,
   "id": "noble-gardening",
   "metadata": {},
   "outputs": [
    {
     "name": "stdout",
     "output_type": "stream",
     "text": [
      "반갑습니다. 이성우입니다.\n"
     ]
    }
   ],
   "source": [
    "# 자식 클래스의 인스턴스는 부모 클래스에 정의된 메서드를 호출 할 수 있습니다.\n",
    "# talk 메서드를 호출해봅시다.\n",
    "\n",
    "s1.talk()"
   ]
  },
  {
   "cell_type": "markdown",
   "id": "governing-occurrence",
   "metadata": {},
   "source": [
    "이처럼 상속은 공통된 속성이나 메서드를 부모 클래스에 정의하고, 이를 상속받아 다양한 형태의 사람들을 만들 수 있습니다."
   ]
  },
  {
   "cell_type": "markdown",
   "id": "critical-reader",
   "metadata": {},
   "source": [
    "### `issubclass(class, classinfo)`\n",
    "\n",
    "* class가 classinfo의 subclass인 경우 `True`를 반환합니다."
   ]
  },
  {
   "cell_type": "markdown",
   "id": "catholic-quick",
   "metadata": {},
   "source": [
    "### `isinstance(object, classinfo)`\n",
    "\n",
    "* object가 classinfo의 인스턴스거나 subclass인 경우 `True`를 반환합니다."
   ]
  },
  {
   "cell_type": "code",
   "execution_count": 16,
   "id": "elementary-wells",
   "metadata": {},
   "outputs": [
    {
     "data": {
      "text/plain": [
       "True"
      ]
     },
     "execution_count": 16,
     "metadata": {},
     "output_type": "execute_result"
    }
   ],
   "source": [
    "# issubclass 함수를 통해 Student 클래스와 Person 클래스가 상속관계인지 확인해봅시다. (클래스 상속 검사)\n",
    "# issubclass(자식클래스, 부모클래스)\n",
    "\n",
    "issubclass(Student, Person)"
   ]
  },
  {
   "cell_type": "code",
   "execution_count": 17,
   "id": "downtown-colony",
   "metadata": {},
   "outputs": [
    {
     "name": "stdout",
     "output_type": "stream",
     "text": [
      "True\n",
      "True\n"
     ]
    }
   ],
   "source": [
    "# isinstance 함수를 통해\n",
    "# s1이 Student 클래스의 인스턴스인지, s1이 Person 클래스의 인스턴스인지 모두 확인해봅시다.\n",
    "# isinstance(인스턴스, 클래스)\n",
    "\n",
    "print(isinstance(s1, Student))\n",
    "print(isinstance(s1, Person))"
   ]
  },
  {
   "cell_type": "code",
   "execution_count": 18,
   "id": "adopted-jackson",
   "metadata": {},
   "outputs": [],
   "source": [
    "# 내장 자료형들도 아래와 같이 상속 관계가 있습니다.\n",
    "# 아래 셀을 실행시켜 확인해봅시다."
   ]
  },
  {
   "cell_type": "code",
   "execution_count": 19,
   "id": "described-silly",
   "metadata": {},
   "outputs": [
    {
     "name": "stdout",
     "output_type": "stream",
     "text": [
      "True\n"
     ]
    }
   ],
   "source": [
    "print(issubclass(bool, int)) # True"
   ]
  },
  {
   "cell_type": "code",
   "execution_count": 20,
   "id": "growing-turning",
   "metadata": {
    "scrolled": true
   },
   "outputs": [
    {
     "name": "stdout",
     "output_type": "stream",
     "text": [
      "False\n"
     ]
    }
   ],
   "source": [
    "print(issubclass(float, int)) # False"
   ]
  },
  {
   "cell_type": "markdown",
   "id": "humanitarian-pakistan",
   "metadata": {},
   "source": [
    "### `super()`\n",
    "\n",
    "* 자식 클래스에 메서드를 추가로 구현할 수 있습니다.\n",
    "\n",
    "* 부모 클래스의 내용을 사용하고자 할 때, `super()`를 사용할 수 있습니다.\n",
    "\n",
    "---\n",
    "\n",
    "**활용법**\n",
    "\n",
    "\n",
    "```python\n",
    "class ChildClass(ParentClass):\n",
    "    def method(self, arg):\n",
    "        super().method(arg) \n",
    "```"
   ]
  },
  {
   "cell_type": "code",
   "execution_count": 21,
   "id": "inappropriate-angle",
   "metadata": {},
   "outputs": [],
   "source": [
    "# Person 클래스와 Student 클래스를 함께 정의해 보겠습니다.\n",
    "\n",
    "class Person:\n",
    "    def __init__(self, name, age, number, email):\n",
    "        self.name = name\n",
    "        self.age = age\n",
    "        self.number = number\n",
    "        self.email = email \n",
    "        \n",
    "    def greeting(self):\n",
    "        print(f'안녕, {self.name}')\n",
    "      \n",
    "    \n",
    "class Student(Person):\n",
    "    def __init__(self, name, age, number, email, student_id):\n",
    "        self.name = name\n",
    "        self.age = age\n",
    "        self.number = number\n",
    "        self.email = email \n",
    "        self.student_id = student_id\n",
    "        \n",
    "p1 = Person('홍교수', 200, '0101231234', 'hong@gildong')\n",
    "s1 = Student('학생', 20, '12312312', 'student@naver.com', '190000')"
   ]
  },
  {
   "cell_type": "code",
   "execution_count": 22,
   "id": "further-karaoke",
   "metadata": {},
   "outputs": [
    {
     "name": "stdout",
     "output_type": "stream",
     "text": [
      "안녕, 홍교수\n",
      "None\n",
      "안녕, 학생\n",
      "None\n"
     ]
    }
   ],
   "source": [
    "# p1과 s1 모두 greeting 메서드를 호출해봅시다.\n",
    "\n",
    "print(p1.greeting())\n",
    "print(s1.greeting())"
   ]
  },
  {
   "cell_type": "markdown",
   "id": "vulnerable-sandwich",
   "metadata": {},
   "source": [
    "위의 코드는 상속을 했음에도 불구하고 초기화(`__init__`)에서 동일한 코드가 반복됩니다. \n",
    "\n",
    "초기화의 중복을 `super()` 함수를 통해 제거해봅시다."
   ]
  },
  {
   "cell_type": "code",
   "execution_count": 24,
   "id": "peripheral-parameter",
   "metadata": {},
   "outputs": [
    {
     "name": "stdout",
     "output_type": "stream",
     "text": [
      "안녕, 홍교수\n",
      "None\n",
      "안녕, 학생\n",
      "None\n"
     ]
    }
   ],
   "source": [
    "# Person과 Student를 처음부터 재정의해봅시다.\n",
    "class Person:\n",
    "    def __init__(self, name, age, number, email):\n",
    "        self.name = name\n",
    "        self.age = age\n",
    "        self.number = number\n",
    "        self.email = email \n",
    "        \n",
    "    def greeting(self):\n",
    "        print(f'안녕, {self.name}')\n",
    "      \n",
    "    \n",
    "class Student(Person):\n",
    "    def __init__(self, name, age, number, email, student_id):\n",
    "        super().__init__(name, age, number, email)\n",
    "        self.student_id = student_id\n",
    "\n",
    "p1 = Person('홍교수', 200, '0101231234', 'hong@gildong')\n",
    "s1 = Student('학생', 20, '12312312', 'student@naver.com', '190000')\n",
    "\n",
    "print(p1.greeting())\n",
    "print(s1.greeting())"
   ]
  },
  {
   "cell_type": "markdown",
   "id": "43473762",
   "metadata": {},
   "source": [
    "### 다중 상속\n",
    "* 두개 이상의 클래스를 상속받는 경우, 다중 상속이 됩니다.\n",
    "    * 상속 받은 모든 클래스의 요소를 활용 가능\n",
    "    * 중복된 속성이나 메서드가 있는 경우 상속 순서에 의해 결정\n"
   ]
  },
  {
   "cell_type": "code",
   "execution_count": 27,
   "id": "44ef1352",
   "metadata": {},
   "outputs": [],
   "source": [
    "# Person 클래스를 정의합니다.\n",
    "# Person 클래스는 생성자에서 인스턴스 변수로 name을 설정합니다.\n",
    "\n",
    "class Person:\n",
    "    def __init__(self, name):\n",
    "        self.name = name\n",
    "\n",
    "    def greeting(self):\n",
    "        return f'안녕, {self.name}'"
   ]
  },
  {
   "cell_type": "code",
   "execution_count": 50,
   "id": "c31ca2a4",
   "metadata": {},
   "outputs": [],
   "source": [
    "# Mom 클래스를 정의합니다.\n",
    "# Mom 클래스는 Person 클래스를 상속받으며, 클래스 변수로 gene을 갖습니다. 값은 'XX'입니다.\n",
    "# Mom 클래스만의 인스턴스 메서드 swim을 자유롭게 정의해봅시다.\n",
    "\n",
    "class Mom(Person):\n",
    "    gene = 'XX'\n",
    "    \n",
    "    def __init__(self, name):\n",
    "        super().__init__(name)\n",
    "        self.gene = 'XX'\n",
    "    \n",
    "    def swim(self):\n",
    "        print(f'{self.gene} 염색체를 가진 엄마는 수영을 잘한다.')"
   ]
  },
  {
   "cell_type": "code",
   "execution_count": 51,
   "id": "5898be32",
   "metadata": {},
   "outputs": [],
   "source": [
    "# Dad 클래스를 정의합니다.\n",
    "# Dad 클래스는 Person 클래스를 상속받으며, 클래스 변수로 gene을 갖습니다. 값은 'XY'입니다.\n",
    "# Dad 클래스만의 인스턴스 메서드 walk를 자유롭게 정의해봅시다.\n",
    "\n",
    "\n",
    "class Dad(Person):\n",
    "    gene = 'XY'\n",
    "    \n",
    "    def __init__(self, name, gene):\n",
    "        super().__init__(name)\n",
    "\n",
    "    \n",
    "    def walk(self):\n",
    "        print(f'{self.gene} 염색체를 가진 아빠는 잘 걷는다.')"
   ]
  },
  {
   "cell_type": "code",
   "execution_count": 52,
   "id": "47503a48",
   "metadata": {},
   "outputs": [],
   "source": [
    "# FirstChild 클래스를 정의합니다. \n",
    "# 상속의 순서가 중요합니다.(Dad, Mom) 순서로 상속받아봅시다.\n",
    "# 상속받은 swim 메서드를 재정의(override)해봅시다.\n",
    "# FirstChild 클래스만의 인스턴스 메서드 cry를 자유롭게 정의해봅시다.\n",
    "\n",
    "\n",
    "class FirstChild(Dad, Mom):\n",
    "    \n",
    "    def __init__(self, name):\n",
    "        self.name = name\n",
    "        #self.gene = '??'\n",
    "        \n",
    "    def swim(self):\n",
    "        print(f'{self.name}(이)라는 이름의 첫째는 수영을 잘한다.')\n",
    "        \n",
    "\n",
    "    def cry(self):\n",
    "        print(f'{self.name}(이)라는 이름의 아기가 엉엉 울고있다.')"
   ]
  },
  {
   "cell_type": "code",
   "execution_count": 53,
   "id": "00b1886e",
   "metadata": {},
   "outputs": [],
   "source": [
    "# FirstChild 클래스의 인스턴스 baby1을 생성해봅시다.\n",
    "\n",
    "baby1 = FirstChild('이성민')"
   ]
  },
  {
   "cell_type": "code",
   "execution_count": 54,
   "id": "5723fa3b",
   "metadata": {},
   "outputs": [
    {
     "name": "stdout",
     "output_type": "stream",
     "text": [
      "이성민(이)라는 이름의 아기가 엉엉 울고있다.\n"
     ]
    }
   ],
   "source": [
    "# baby1의 cry 메서드를 실행해봅시다.\n",
    "\n",
    "baby1.cry()"
   ]
  },
  {
   "cell_type": "code",
   "execution_count": 55,
   "id": "416743f9",
   "metadata": {},
   "outputs": [
    {
     "name": "stdout",
     "output_type": "stream",
     "text": [
      "이성민(이)라는 이름의 첫째는 수영을 잘한다.\n"
     ]
    }
   ],
   "source": [
    "# baby1의 swim 메서드를 실행해봅시다.\n",
    "\n",
    "baby1.swim()"
   ]
  },
  {
   "cell_type": "code",
   "execution_count": 56,
   "id": "9297ef76",
   "metadata": {},
   "outputs": [
    {
     "name": "stdout",
     "output_type": "stream",
     "text": [
      "XY 염색체를 가진 아빠는 잘 걷는다.\n"
     ]
    }
   ],
   "source": [
    "# baby1의 walk 메서드를 실행해봅시다.\n",
    "\n",
    "baby1.walk()"
   ]
  },
  {
   "cell_type": "code",
   "execution_count": 58,
   "id": "8c4c3641",
   "metadata": {},
   "outputs": [
    {
     "name": "stdout",
     "output_type": "stream",
     "text": [
      "False\n"
     ]
    }
   ],
   "source": [
    "# baby1의 gene 속성은 어떤 부모클래스의 속성값을 상속받는지 확인해봅시다.\n",
    "\n",
    "print(isinstance(baby1.gene, Dad))"
   ]
  },
  {
   "cell_type": "code",
   "execution_count": 62,
   "id": "f69e4ebf",
   "metadata": {},
   "outputs": [],
   "source": [
    "# 이번에는 SecondChild 클래스를 만들어 상속 순서를 바꿔봅시다.\n",
    "# (Mom, Dad) 순서로 상속받아봅시다.\n",
    "# 상속받은 walk 메서드를 재정의(override)해봅시다.\n",
    "# SecondChild 클래스만의 인스턴스 메서드 cry를 자유롭게 정의해봅시다.\n",
    "\n",
    "class SecondChild(Mom, Dad):\n",
    "    \n",
    "    def __init__(self, name):\n",
    "        self.name = name\n",
    "        #self.gene = '??'\n",
    "        \n",
    "    def swim(self):\n",
    "        print(f'{self.name}(이)라는 이름의 첫째는 수영을 잘한다.')\n",
    "        \n",
    "\n",
    "    def cry(self):\n",
    "        print(f'{self.name}(이)라는 이름의 아기가 엉엉 울고있다.')\n",
    "        \n",
    "    def walk(self):\n",
    "        print(f'{self.name}(이)가 아장아장.')"
   ]
  },
  {
   "cell_type": "code",
   "execution_count": 63,
   "id": "306f7009",
   "metadata": {},
   "outputs": [],
   "source": [
    "# SecondChild의 인스턴스 baby2를 생성합니다.\n",
    "\n",
    "baby2 = SecondChild('아기2')"
   ]
  },
  {
   "cell_type": "code",
   "execution_count": 64,
   "id": "f5ccf88a",
   "metadata": {},
   "outputs": [
    {
     "name": "stdout",
     "output_type": "stream",
     "text": [
      "아기2(이)라는 이름의 아기가 엉엉 울고있다.\n"
     ]
    }
   ],
   "source": [
    "# baby2의 cry 메서드를 실행합니다.\n",
    "\n",
    "baby2.cry()"
   ]
  },
  {
   "cell_type": "code",
   "execution_count": 65,
   "id": "139d24c7",
   "metadata": {},
   "outputs": [
    {
     "name": "stdout",
     "output_type": "stream",
     "text": [
      "아기2(이)가 아장아장.\n"
     ]
    }
   ],
   "source": [
    "# baby2의 walk 메서드를 실행합니다.\n",
    "\n",
    "baby2.walk()"
   ]
  },
  {
   "cell_type": "code",
   "execution_count": 67,
   "id": "65970cb7",
   "metadata": {},
   "outputs": [
    {
     "name": "stdout",
     "output_type": "stream",
     "text": [
      "아기2(이)라는 이름의 첫째는 수영을 잘한다.\n"
     ]
    }
   ],
   "source": [
    "# baby2의 swim 메서드를 실행합니다.\n",
    "\n",
    "baby2.swim()"
   ]
  },
  {
   "cell_type": "code",
   "execution_count": 68,
   "id": "65a59c7b",
   "metadata": {},
   "outputs": [
    {
     "data": {
      "text/plain": [
       "'XX'"
      ]
     },
     "execution_count": 68,
     "metadata": {},
     "output_type": "execute_result"
    }
   ],
   "source": [
    "# baby2의 gene 속성은 어떤 부모클래스의 속성값을 상속받는지 확인해봅시다.\n",
    "\n",
    "baby2.gene"
   ]
  },
  {
   "cell_type": "markdown",
   "id": "b75c46ca",
   "metadata": {},
   "source": [
    "### 상속관계에서의 이름 공간과 MRO (Method Resolution Order)\n",
    "\n",
    "- 기존의 `인스턴스 -> 클래스` 순으로 이름 공간을 탐색해나가는 과정에서 상속관계에 있으면 아래와 같이 확장됩니다.\n",
    "    * 인스턴스 -> 자식 클래스 -> 부모 클래스\n",
    "    \n",
    "- MRO는 해당 인스턴스의 클래스가 어떤 부모 클래스를 가지는지 확인하는 속성 또는 메서드입니다.\n",
    "\n",
    "---\n",
    "\n",
    "**활용법**\n",
    "\n",
    "\n",
    "```python\n",
    "ClassName.__mro__\n",
    "\n",
    "# 또는\n",
    "ClassName.mro()\n",
    "```"
   ]
  },
  {
   "cell_type": "code",
   "execution_count": null,
   "id": "792a21fc",
   "metadata": {},
   "outputs": [],
   "source": [
    "# Mom, Dad 클래스를 정의해 보겠습니다.\n",
    "\n",
    "class Mom:\n",
    "    def walk(self):\n",
    "        print('사뿐사뿐')\n",
    "        \n",
    "        \n",
    "class Dad:\n",
    "    def walk(self):\n",
    "        print('저벅저벅')"
   ]
  },
  {
   "cell_type": "code",
   "execution_count": null,
   "id": "7cf34b43",
   "metadata": {},
   "outputs": [],
   "source": [
    "# Mom, Dad 클래스를 활용하여 Daughter, Son 클래스를 정의합니다.\n",
    "\n",
    "class Daughter(Mom, Dad):\n",
    "    pass\n",
    "\n",
    "\n",
    "class Son(Dad, Mom):\n",
    "    pass"
   ]
  },
  {
   "cell_type": "code",
   "execution_count": null,
   "id": "fe003a45",
   "metadata": {},
   "outputs": [],
   "source": [
    "# Daugher, Son 클래스의 인스턴스를 생성합니다.\n",
    "# 각각의 인스턴스에서 메서드를 호출하고 결과가 어떻게 나오는지 확인합니다.\n",
    "# 아래 코드를 실행해시켜보세요.\n",
    "\n",
    "d = Daughter()\n",
    "s = Son()\n",
    "\n",
    "d.walk()\n",
    "s.walk()"
   ]
  },
  {
   "cell_type": "code",
   "execution_count": null,
   "id": "0a9c8e9a",
   "metadata": {},
   "outputs": [],
   "source": [
    "# Daughter 클래스의 mro 속성을 이용하여 확인해봅시다.\n",
    "\n",
    "print(Daughter.__mro__)"
   ]
  },
  {
   "cell_type": "code",
   "execution_count": null,
   "id": "59e044ee",
   "metadata": {},
   "outputs": [],
   "source": [
    "# Son 클래스의 mro 속성을 이용하여 확인해봅시다.\n",
    "\n",
    "print(Son.__mro__)"
   ]
  },
  {
   "cell_type": "markdown",
   "id": "criminal-apartment",
   "metadata": {},
   "source": [
    "## 다형성(Polymorphism)이란?\n",
    "\n",
    "- 여러 모양을 뜻하는 그리스어로, 동일한 메서드가 클래스에 따라 다르게 행동할 수 있음을 뜻합니다.\n",
    "- 즉, 서로 다른 클래스에 속해있는 객체들이 동일한 메시지에 대해 각기 다른 방식으로 응답될 수 있습니다."
   ]
  },
  {
   "cell_type": "markdown",
   "id": "ecological-clock",
   "metadata": {},
   "source": [
    "### 메서드 오버라이딩\n",
    "> Method Overriding(메서드 오버라이딩): 자식 클래스에서 부모 클래스의 메서드를 재정의하는 것\n",
    "\n",
    "* 상속 받은 메서드를 `재정의`할 수도 있습니다. \n",
    "* 상속 받은 클래스에서 **같은 이름의 메서드**로 덮어씁니다.\n",
    "* `__init__`, `__str__`의 메서드를 정의하는 것 역시, 메서드 오버라이딩입니다."
   ]
  },
  {
   "cell_type": "code",
   "execution_count": 16,
   "id": "engaging-sustainability",
   "metadata": {},
   "outputs": [],
   "source": [
    "# 아래 Person 클래스를 이용하여 메서드 오버라이딩을 해보겠습니다.\n",
    "\n",
    "class Person:\n",
    "    def __init__(self, name, age, number, email):\n",
    "        self.name = name\n",
    "        self.age = age\n",
    "        self.number = number\n",
    "        self.email = email \n",
    "        \n",
    "    def talk(self):\n",
    "        print(f'안녕, {self.name}')"
   ]
  },
  {
   "cell_type": "code",
   "execution_count": 17,
   "id": "handmade-collect",
   "metadata": {},
   "outputs": [],
   "source": [
    "# 위의 Person 클래스를 상속 받아 군인답게 말하는 Soldier 클래스를 만들어봅시다.\n",
    "# talk 메서드를 재정의(override)합니다.\n",
    "\n",
    "class Soldier(Person):\n",
    "    \n",
    "    def __init__(self, name, age, number, email):\n",
    "        super().__init__(name, age, number, email)\n",
    "        \n",
    "    def talk(self):\n",
    "        print(f'충성, {self.name}')"
   ]
  },
  {
   "cell_type": "code",
   "execution_count": 18,
   "id": "detected-bullet",
   "metadata": {},
   "outputs": [
    {
     "name": "stdout",
     "output_type": "stream",
     "text": [
      "안녕, 이삼성\n"
     ]
    }
   ],
   "source": [
    "# Person 클래스의 인스턴스 p를 만들어서 talk 메서드를 실행해보세요.\n",
    "\n",
    "p = Person('이삼성', 12, '010-3425-2345', 'asd@naver.com')\n",
    "p.talk()\n"
   ]
  },
  {
   "cell_type": "code",
   "execution_count": 19,
   "id": "informational-breakfast",
   "metadata": {},
   "outputs": [
    {
     "name": "stdout",
     "output_type": "stream",
     "text": [
      "충성, 이준회\n"
     ]
    }
   ],
   "source": [
    "# Soldier 클래스의 인스턴스 s를 만들어서 talk 메서드를 실행해보세요.\n",
    "\n",
    "s = Soldier('이준회', 30, '010-1234-5678', 'qweh@naver.com')\n",
    "s.talk()\n"
   ]
  },
  {
   "cell_type": "markdown",
   "id": "fatty-million",
   "metadata": {},
   "source": [
    "### [연습] Person & Animal (메서드 오버라이딩)\n",
    "\n",
    "> 사실 사람은 포유류입니다. \n",
    ">\n",
    "> Animal Class를 만들고, Person Class 가 상속받도록 구성해봅시다.\n",
    ">\n",
    "> (변수나, 메서드는 자유롭게 만들어보세요.)\n",
    "\n",
    "```\n",
    "예시) \n",
    "모든 동물은 이름이 있고, 사람은 이름과 이메일이 있습니다.\n",
    "모든 동물은 talk 메서드가 있습니다. \n",
    "동물은 '으르렁'하고, 사람은 '안녕'합니다.\n",
    "```\n"
   ]
  },
  {
   "cell_type": "code",
   "execution_count": 20,
   "id": "sophisticated-construction",
   "metadata": {},
   "outputs": [],
   "source": [
    "# 아래에 코드를 작성해주세요.\n",
    "\n",
    "class Animal(Person):\n",
    "    \n",
    "    def __init__(self, name, age, number, email):\n",
    "        super().__init__(name, age, number, email)\n",
    "    \n",
    "    def talk(self):\n",
    "        print(f'으르렁, {self.name}')"
   ]
  },
  {
   "cell_type": "markdown",
   "id": "charitable-gathering",
   "metadata": {},
   "source": [
    "## 캡슐화(Encapsulation)란?\n",
    "\n",
    "- 객체의 일부 구현 내용에 대해 외부로부터의 직접적인 액세스를 차단하는 것을 말합니다.\n",
    "  - 예시: 주민등록번호\n",
    "  \n",
    "- 다른 언어와 달리 파이썬에서 캡슐화는 암묵적으로는 존재하지만, 언어적으로는 존재하지 않습니다.\n",
    "\n",
    "---\n",
    "\n",
    "**접근제어자의 종류**\n",
    "- Public Access Modifier\n",
    "- Protected Access Modifier\n",
    "- Private Access Modifier"
   ]
  },
  {
   "cell_type": "markdown",
   "id": "literary-tracker",
   "metadata": {},
   "source": [
    "### Publie Member\n",
    "\n",
    "- 언더바가 없이 시작하는 메서드나 속성들이 이에 해당합니다.\n",
    "- 어디서나 호출 가능합니다.\n",
    "- 하위 클래스에서 메서드 오버라이딩을 허용합니다.\n",
    "- 일반적으로 작성되는 메서드와 속성의 대다수를 차지합니다."
   ]
  },
  {
   "cell_type": "code",
   "execution_count": 21,
   "id": "partial-recorder",
   "metadata": {},
   "outputs": [],
   "source": [
    "# 아래 간단한 Person 클래스가 정의되어 있습니다.\n",
    "\n",
    "class Person:\n",
    "    \n",
    "    def __init__(self, name, age):\n",
    "        self.name = name\n",
    "        self.age = 30"
   ]
  },
  {
   "cell_type": "code",
   "execution_count": 22,
   "id": "remarkable-module",
   "metadata": {},
   "outputs": [
    {
     "name": "stdout",
     "output_type": "stream",
     "text": [
      "김싸피\n",
      "30\n"
     ]
    }
   ],
   "source": [
    "# Person 클래스의 인스턴스인 p1은 이름(name)과 나이(age) 모두 접근 가능합니다.\n",
    "\n",
    "p1 = Person('김싸피', 30)\n",
    "print(p1.name)\n",
    "print(p1.age)"
   ]
  },
  {
   "cell_type": "markdown",
   "id": "cross-browser",
   "metadata": {},
   "source": [
    "### Protected Member\n",
    "\n",
    "- 언더바 1개로 시작하는 메서드나 속성들이 이에 해당합니다.\n",
    "- 암묵적 규칙에 의해 부모 클래스 내부와 자식 클래스에서만 호출 가능합니다.\n",
    "- 하위 클래스에서 메서드 오버라이딩을 허용합니다."
   ]
  },
  {
   "cell_type": "code",
   "execution_count": 32,
   "id": "fifteen-tyler",
   "metadata": {},
   "outputs": [],
   "source": [
    "# Person 클래스를 재정의해봅시다.\n",
    "# 실제 나이(age)에 해당하는 값을 언더바 한 개를 붙여서 Protected Member로 지정하였습니다.\n",
    "\n",
    "class Person:\n",
    "    \n",
    "    def __init__(self, name, age):\n",
    "        self.name = name\n",
    "        self._age = age\n",
    "        \n",
    "    def get_age(self):\n",
    "        return self._age"
   ]
  },
  {
   "cell_type": "code",
   "execution_count": 33,
   "id": "complimentary-smart",
   "metadata": {
    "scrolled": false
   },
   "outputs": [
    {
     "data": {
      "text/plain": [
       "'28'"
      ]
     },
     "execution_count": 33,
     "metadata": {},
     "output_type": "execute_result"
    }
   ],
   "source": [
    "# 인스턴스를 만들고 get_age 메서드를 활용하여 호출할 수 있습니다.\n",
    "p = Person('이성우', '28')\n",
    "p.get_age()\n"
   ]
  },
  {
   "cell_type": "code",
   "execution_count": 34,
   "id": "economic-library",
   "metadata": {},
   "outputs": [
    {
     "data": {
      "text/plain": [
       "'28'"
      ]
     },
     "execution_count": 34,
     "metadata": {},
     "output_type": "execute_result"
    }
   ],
   "source": [
    "# _age에 직접 접근하여도 확인이 가능합니다.\n",
    "# 파이썬에서는 암묵적으로 활용됩니다.\n",
    "\n",
    "p._age"
   ]
  },
  {
   "cell_type": "markdown",
   "id": "dried-mexican",
   "metadata": {},
   "source": [
    "### Private Member\n",
    "\n",
    "- 언더바 2개로 시작하는 메서드나 속성들이 이에 해당합니다.\n",
    "- 본 클래스 내부에서만 사용이 가능합니다.\n",
    "- 하위 클래스 상속 및 호출이 불가능합니다.\n",
    "- 외부 호출이 불가능합니다."
   ]
  },
  {
   "cell_type": "code",
   "execution_count": 35,
   "id": "crude-evans",
   "metadata": {},
   "outputs": [],
   "source": [
    "# Person 클래스를 다시 재정의해봅시다.\n",
    "# 실제 나이(age)에 해당하는 값을 언더바 두 개를 붙여서 Private Member로 지정하였습니다.\n",
    "\n",
    "class Person:\n",
    "    \n",
    "    def __init__(self, name, age):\n",
    "        self.name = name\n",
    "        self.__age = age\n",
    "    \n",
    "    def get_age(self): \n",
    "        return self.__age"
   ]
  },
  {
   "cell_type": "code",
   "execution_count": 36,
   "id": "architectural-shooting",
   "metadata": {
    "scrolled": true
   },
   "outputs": [
    {
     "data": {
      "text/plain": [
       "30"
      ]
     },
     "execution_count": 36,
     "metadata": {},
     "output_type": "execute_result"
    }
   ],
   "source": [
    "# 인스턴스를 만들고 get_age 메서드를 활용하여 호출할 수 있습니다.\n",
    "# 실행시켜 확인해봅시다.\n",
    "\n",
    "p1 = Person('김싸피', 30)\n",
    "p1.get_age()"
   ]
  },
  {
   "cell_type": "code",
   "execution_count": 37,
   "id": "adaptive-tattoo",
   "metadata": {
    "scrolled": true
   },
   "outputs": [
    {
     "ename": "AttributeError",
     "evalue": "'Person' object has no attribute '__age'",
     "output_type": "error",
     "traceback": [
      "\u001b[1;31m---------------------------------------------------------------------------\u001b[0m",
      "\u001b[1;31mAttributeError\u001b[0m                            Traceback (most recent call last)",
      "Cell \u001b[1;32mIn[37], line 3\u001b[0m\n\u001b[0;32m      1\u001b[0m \u001b[38;5;66;03m# __age에 직접 접근이 불가능합니다.\u001b[39;00m\n\u001b[1;32m----> 3\u001b[0m \u001b[43mp1\u001b[49m\u001b[38;5;241;43m.\u001b[39;49m\u001b[43m__age\u001b[49m\n",
      "\u001b[1;31mAttributeError\u001b[0m: 'Person' object has no attribute '__age'"
     ]
    }
   ],
   "source": [
    "# __age에 직접 접근이 불가능합니다.\n",
    "\n",
    "p1.__age"
   ]
  },
  {
   "cell_type": "markdown",
   "id": "spatial-patent",
   "metadata": {},
   "source": [
    "### `getter` 메서드와 `setter` 메서드\n",
    "\n",
    "변수에 접근할 수 있는 메서드를 별도로 생성할 수 있습니다.\n",
    "\n",
    "- `getter` 메서드: 변수의 값을 읽는 메서드입니다.\n",
    "  - `@property` 데코레이터를 사용합니다.\n",
    "- `setter` 메서드: 변수의 값을 설정하는 성격의 메서드입니다.\n",
    "  - `@변수.setter`를 사용합니다."
   ]
  },
  {
   "cell_type": "code",
   "execution_count": 38,
   "id": "requested-white",
   "metadata": {},
   "outputs": [],
   "source": [
    "class Person:\n",
    "    \n",
    "    def __init__(self, age):\n",
    "        self._age = age \n",
    "        \n",
    "    @property\n",
    "    def age(self):\n",
    "        return self._age\n",
    "    \n",
    "    @age.setter\n",
    "    def age(self, new_age):\n",
    "        if new_age <= 19:\n",
    "            raise ValueError('Too Young For SSAFY')\n",
    "            return\n",
    "        \n",
    "        self._age = new_age"
   ]
  },
  {
   "cell_type": "code",
   "execution_count": 39,
   "id": "worldwide-kentucky",
   "metadata": {},
   "outputs": [
    {
     "name": "stdout",
     "output_type": "stream",
     "text": [
      "20\n"
     ]
    }
   ],
   "source": [
    "# Person의 인스턴스를 만들어서 나이에 접근하면 정상적으로 출력됩니다.\n",
    "# 실행시켜 확인해보세요.\n",
    "\n",
    "p1 = Person(20)\n",
    "print(p1.age)"
   ]
  },
  {
   "cell_type": "code",
   "execution_count": 40,
   "id": "brief-jersey",
   "metadata": {},
   "outputs": [
    {
     "name": "stdout",
     "output_type": "stream",
     "text": [
      "33\n"
     ]
    }
   ],
   "source": [
    "# p1 인스턴스의 나이를 다른 값으로 바꿔도 정상적으로 반영됩니다.\n",
    "# 실행시켜 확인해보세요.\n",
    "\n",
    "p1.age = 33\n",
    "print(p1.age)"
   ]
  },
  {
   "cell_type": "code",
   "execution_count": 41,
   "id": "monetary-shower",
   "metadata": {
    "scrolled": true
   },
   "outputs": [
    {
     "ename": "ValueError",
     "evalue": "Too Young For SSAFY",
     "output_type": "error",
     "traceback": [
      "\u001b[1;31m---------------------------------------------------------------------------\u001b[0m",
      "\u001b[1;31mValueError\u001b[0m                                Traceback (most recent call last)",
      "Cell \u001b[1;32mIn[41], line 5\u001b[0m\n\u001b[0;32m      1\u001b[0m \u001b[38;5;66;03m# setter 함수에는 \"나이가 19살 이하면 안된다는\" 조건문이 하나 작성되어 있습니다.\u001b[39;00m\n\u001b[0;32m      2\u001b[0m \u001b[38;5;66;03m# 따라서 나이를 19살 이하인 값으로 변경하게 되면 오류가 발생합니다.\u001b[39;00m\n\u001b[0;32m      3\u001b[0m \u001b[38;5;66;03m# 실행시켜 확인해보세요.\u001b[39;00m\n\u001b[1;32m----> 5\u001b[0m \u001b[43mp1\u001b[49m\u001b[38;5;241;43m.\u001b[39;49m\u001b[43mage\u001b[49m \u001b[38;5;241m=\u001b[39m \u001b[38;5;241m19\u001b[39m\n\u001b[0;32m      6\u001b[0m \u001b[38;5;28mprint\u001b[39m(p1\u001b[38;5;241m.\u001b[39mage)\n",
      "Cell \u001b[1;32mIn[38], line 13\u001b[0m, in \u001b[0;36mPerson.age\u001b[1;34m(self, new_age)\u001b[0m\n\u001b[0;32m     10\u001b[0m \u001b[38;5;129m@age\u001b[39m\u001b[38;5;241m.\u001b[39msetter\n\u001b[0;32m     11\u001b[0m \u001b[38;5;28;01mdef\u001b[39;00m \u001b[38;5;21mage\u001b[39m(\u001b[38;5;28mself\u001b[39m, new_age):\n\u001b[0;32m     12\u001b[0m     \u001b[38;5;28;01mif\u001b[39;00m new_age \u001b[38;5;241m<\u001b[39m\u001b[38;5;241m=\u001b[39m \u001b[38;5;241m19\u001b[39m:\n\u001b[1;32m---> 13\u001b[0m         \u001b[38;5;28;01mraise\u001b[39;00m \u001b[38;5;167;01mValueError\u001b[39;00m(\u001b[38;5;124m'\u001b[39m\u001b[38;5;124mToo Young For SSAFY\u001b[39m\u001b[38;5;124m'\u001b[39m)\n\u001b[0;32m     14\u001b[0m         \u001b[38;5;28;01mreturn\u001b[39;00m\n\u001b[0;32m     16\u001b[0m     \u001b[38;5;28mself\u001b[39m\u001b[38;5;241m.\u001b[39m_age \u001b[38;5;241m=\u001b[39m new_age\n",
      "\u001b[1;31mValueError\u001b[0m: Too Young For SSAFY"
     ]
    }
   ],
   "source": [
    "# setter 함수에는 \"나이가 19살 이하면 안된다는\" 조건문이 하나 작성되어 있습니다.\n",
    "# 따라서 나이를 19살 이하인 값으로 변경하게 되면 오류가 발생합니다.\n",
    "# 실행시켜 확인해보세요.\n",
    "\n",
    "p1.age = 19\n",
    "print(p1.age)"
   ]
  },
  {
   "cell_type": "markdown",
   "id": "d7178439",
   "metadata": {},
   "source": [
    "<p style=\"font-size: 33px; font-weight: 700; margin-bottom: 3rem\">에러 & 예외 처리</p>\n",
    "\n",
    "- 에러(Error)\n",
    "- 예외 처리(Exception Handling)\n",
    "\n",
    "[파이썬 문서](https://docs.python.org/ko/3/library/exceptions.html#exception-hierarchy)\n"
   ]
  },
  {
   "cell_type": "markdown",
   "id": "3d314a0b",
   "metadata": {},
   "source": [
    "# 에러(Error)\n",
    "발생할 수 있는 에러의 종류를 확인해봅시다."
   ]
  },
  {
   "cell_type": "markdown",
   "id": "60821a23",
   "metadata": {},
   "source": [
    "## 문법 에러(Syntax Error)\n",
    "\n",
    "> 문법 에러가 있는 프로그램은 실행되지 않습니다.\n",
    "\n",
    "* 에러 발생 시 `SyntaxError`라는 키워드와 함께, 에러의 상세 내용을 보여줍니다.\n",
    "\n",
    "\n",
    "* `파일이름`과 `줄번호`, `^` 문자를 통해 파이썬이 코드를 읽어 들일 때(`parser`) 문제가 발생한 위치를 표현합니다.\n",
    "\n",
    "\n",
    "* `parser` 는 줄에서 에러가 감지된 가장 앞의 위치를 가리키는 캐럿(caret)기호(`^`)를 표시합니다."
   ]
  },
  {
   "cell_type": "code",
   "execution_count": 43,
   "id": "91a36642",
   "metadata": {},
   "outputs": [
    {
     "ename": "SyntaxError",
     "evalue": "invalid syntax (1531501122.py, line 8)",
     "output_type": "error",
     "traceback": [
      "\u001b[1;36m  Cell \u001b[1;32mIn[43], line 8\u001b[1;36m\u001b[0m\n\u001b[1;33m    else\u001b[0m\n\u001b[1;37m        ^\u001b[0m\n\u001b[1;31mSyntaxError\u001b[0m\u001b[1;31m:\u001b[0m invalid syntax\n"
     ]
    }
   ],
   "source": [
    "# 조건문을 통해 문법 에러를 발생시켜봅시다.\n",
    "\n",
    "# 다음 코드는 else 문 뒤에 콜론이 누락되어 있습니다.\n",
    "# 코드를 실행시켜보고 invalid syntax 오류를 확인해 봅시다.\n",
    "\n",
    "if True:\n",
    "    print('참')\n",
    "else\n",
    "    print('거짓')"
   ]
  },
  {
   "cell_type": "code",
   "execution_count": 44,
   "id": "78ea2159",
   "metadata": {},
   "outputs": [
    {
     "ename": "SyntaxError",
     "evalue": "EOL while scanning string literal (1021181028.py, line 6)",
     "output_type": "error",
     "traceback": [
      "\u001b[1;36m  Cell \u001b[1;32mIn[44], line 6\u001b[1;36m\u001b[0m\n\u001b[1;33m    print('hi)\u001b[0m\n\u001b[1;37m              ^\u001b[0m\n\u001b[1;31mSyntaxError\u001b[0m\u001b[1;31m:\u001b[0m EOL while scanning string literal\n"
     ]
    }
   ],
   "source": [
    "# print 문을 통해 다른 오류를 발생시켜봅시다.\n",
    "\n",
    "# 다음 코드는 닫는 따옴표가 누락되어 있습니다.\n",
    "# 코드를 실행시켜보고 EOL 오류(따옴표 오류)를 확인해 봅시다.\n",
    "\n",
    "print('hi)"
   ]
  },
  {
   "cell_type": "code",
   "execution_count": 45,
   "id": "e6241094",
   "metadata": {},
   "outputs": [
    {
     "ename": "SyntaxError",
     "evalue": "unexpected EOF while parsing (3437886184.py, line 3)",
     "output_type": "error",
     "traceback": [
      "\u001b[1;36m  Cell \u001b[1;32mIn[45], line 3\u001b[1;36m\u001b[0m\n\u001b[1;33m    print('hi'\u001b[0m\n\u001b[1;37m              ^\u001b[0m\n\u001b[1;31mSyntaxError\u001b[0m\u001b[1;31m:\u001b[0m unexpected EOF while parsing\n"
     ]
    }
   ],
   "source": [
    "# 코드를 실행시켜보고 EOF 에러(괄호 닫기 오류)를 확인해 봅시다.\n",
    "\n",
    "print('hi'"
   ]
  },
  {
   "cell_type": "code",
   "execution_count": 46,
   "id": "c076f8de",
   "metadata": {},
   "outputs": [
    {
     "ename": "SyntaxError",
     "evalue": "invalid syntax (1078459769.py, line 6)",
     "output_type": "error",
     "traceback": [
      "\u001b[1;36m  Cell \u001b[1;32mIn[46], line 6\u001b[1;36m\u001b[0m\n\u001b[1;33m    if True print('참')\u001b[0m\n\u001b[1;37m            ^\u001b[0m\n\u001b[1;31mSyntaxError\u001b[0m\u001b[1;31m:\u001b[0m invalid syntax\n"
     ]
    }
   ],
   "source": [
    "# 정확한 에러 위치를 지정하지 않을 수도 있습니다.\n",
    "\n",
    "# 다음 코드의 조건문에는 콜론이 누락되어 있습니다.\n",
    "# 코드를 실행시켜보고 문법 오류를 확인해 봅시다.\n",
    "\n",
    "if True print('참')"
   ]
  },
  {
   "cell_type": "markdown",
   "id": "ec8297d3",
   "metadata": {},
   "source": [
    "## 예외(Exception)\n",
    "\n",
    "> 실행 도중 예상하지 못한 상황(exception)을 맞이하면, 프로그램 실행을 멈춥니다.\n",
    "\n",
    "* 문법적으로는 옳지만, 실행 시 발생하는 에러입니다.\n",
    "\n",
    "\n",
    "* *아래 제시된 모든 에러는 `Exception`을 상속받아 이뤄집니다.*"
   ]
  },
  {
   "cell_type": "markdown",
   "id": "c4807c44",
   "metadata": {},
   "source": [
    "`ZeroDivisionError`\n",
    "- 파이썬에서는 어떤 수를 0으로 나누게 되면 에러가 발생합니다."
   ]
  },
  {
   "cell_type": "code",
   "execution_count": 47,
   "id": "574af6a5",
   "metadata": {},
   "outputs": [
    {
     "ename": "ZeroDivisionError",
     "evalue": "division by zero",
     "output_type": "error",
     "traceback": [
      "\u001b[1;31m---------------------------------------------------------------------------\u001b[0m",
      "\u001b[1;31mZeroDivisionError\u001b[0m                         Traceback (most recent call last)",
      "Cell \u001b[1;32mIn[47], line 3\u001b[0m\n\u001b[0;32m      1\u001b[0m \u001b[38;5;66;03m# 어떤 수를 0으로 나누는 코드를 작성해 보고 오류를 확인해 봅시다.\u001b[39;00m\n\u001b[1;32m----> 3\u001b[0m \u001b[38;5;241;43m3\u001b[39;49m\u001b[38;5;241;43m/\u001b[39;49m\u001b[38;5;241;43m0\u001b[39;49m\n",
      "\u001b[1;31mZeroDivisionError\u001b[0m: division by zero"
     ]
    }
   ],
   "source": [
    "# 어떤 수를 0으로 나누는 코드를 작성해 보고 오류를 확인해 봅시다.\n",
    "\n",
    "3/0"
   ]
  },
  {
   "cell_type": "markdown",
   "id": "0f9630a4",
   "metadata": {},
   "source": [
    "`NameError`\n",
    "- 지역 혹은 전역 이름 공간 내에서 유효하지 않는 이름은 사용할 수 없습니다. <br>즉, 어느 곳에서도 정의되지 않은 변수를 호출하였을 경우 에러가 발생합니다."
   ]
  },
  {
   "cell_type": "code",
   "execution_count": 48,
   "id": "eb2f0dc7",
   "metadata": {},
   "outputs": [
    {
     "ename": "NameError",
     "evalue": "name 'abc' is not defined",
     "output_type": "error",
     "traceback": [
      "\u001b[1;31m---------------------------------------------------------------------------\u001b[0m",
      "\u001b[1;31mNameError\u001b[0m                                 Traceback (most recent call last)",
      "Cell \u001b[1;32mIn[48], line 3\u001b[0m\n\u001b[0;32m      1\u001b[0m \u001b[38;5;66;03m# abc라는 변수를 print로 출력해 보고 오류를 확인해 봅시다.\u001b[39;00m\n\u001b[1;32m----> 3\u001b[0m \u001b[38;5;28mprint\u001b[39m(\u001b[43mabc\u001b[49m)\n",
      "\u001b[1;31mNameError\u001b[0m: name 'abc' is not defined"
     ]
    }
   ],
   "source": [
    "# abc라는 변수를 print로 출력해 보고 오류를 확인해 봅시다.\n",
    "\n",
    "print(abc)"
   ]
  },
  {
   "cell_type": "markdown",
   "id": "a6640452",
   "metadata": {},
   "source": [
    "`TypeError`\n",
    "- 자료형이 올바르지 못한 경우"
   ]
  },
  {
   "cell_type": "code",
   "execution_count": 49,
   "id": "b7c340c1",
   "metadata": {},
   "outputs": [
    {
     "ename": "TypeError",
     "evalue": "unsupported operand type(s) for +: 'int' and 'str'",
     "output_type": "error",
     "traceback": [
      "\u001b[1;31m---------------------------------------------------------------------------\u001b[0m",
      "\u001b[1;31mTypeError\u001b[0m                                 Traceback (most recent call last)",
      "Cell \u001b[1;32mIn[49], line 3\u001b[0m\n\u001b[0;32m      1\u001b[0m \u001b[38;5;66;03m# 숫자 1과 문자 1을 더하는 코드를 작성해 보고 오류를 확인해 봅시다.\u001b[39;00m\n\u001b[1;32m----> 3\u001b[0m \u001b[38;5;241;43m1\u001b[39;49m\u001b[38;5;241;43m+\u001b[39;49m\u001b[38;5;124;43m'\u001b[39;49m\u001b[38;5;124;43m1\u001b[39;49m\u001b[38;5;124;43m'\u001b[39;49m\n",
      "\u001b[1;31mTypeError\u001b[0m: unsupported operand type(s) for +: 'int' and 'str'"
     ]
    }
   ],
   "source": [
    "# 숫자 1과 문자 1을 더하는 코드를 작성해 보고 오류를 확인해 봅시다.\n",
    "\n",
    "1+'1'"
   ]
  },
  {
   "cell_type": "code",
   "execution_count": 51,
   "id": "c909e300",
   "metadata": {},
   "outputs": [
    {
     "ename": "NameError",
     "evalue": "name 'a' is not defined",
     "output_type": "error",
     "traceback": [
      "\u001b[1;31m---------------------------------------------------------------------------\u001b[0m",
      "\u001b[1;31mNameError\u001b[0m                                 Traceback (most recent call last)",
      "Cell \u001b[1;32mIn[51], line 4\u001b[0m\n\u001b[0;32m      1\u001b[0m \u001b[38;5;66;03m# round 함수는 어떤 수를 반올림해 주는 내장 함수입니다.\u001b[39;00m\n\u001b[0;32m      2\u001b[0m \u001b[38;5;66;03m# round 함수에 숫자가 아닌 문자를 넣어보고 발생하는 오류를 확인해 봅시다.\u001b[39;00m\n\u001b[1;32m----> 4\u001b[0m \u001b[38;5;28mround\u001b[39m(\u001b[43ma\u001b[49m)\n",
      "\u001b[1;31mNameError\u001b[0m: name 'a' is not defined"
     ]
    }
   ],
   "source": [
    "# round 함수는 어떤 수를 반올림해 주는 내장 함수입니다.\n",
    "# round 함수에 숫자가 아닌 문자를 넣어보고 발생하는 오류를 확인해 봅시다.\n",
    "\n",
    "round(a)"
   ]
  },
  {
   "cell_type": "markdown",
   "id": "3990dd86",
   "metadata": {},
   "source": [
    "- 함수 호출 과정에서 필수 매개변수가 누락된 경우"
   ]
  },
  {
   "cell_type": "code",
   "execution_count": 53,
   "id": "9d33a545",
   "metadata": {},
   "outputs": [
    {
     "ename": "TypeError",
     "evalue": "sample() missing 1 required positional argument: 'k'",
     "output_type": "error",
     "traceback": [
      "\u001b[1;31m---------------------------------------------------------------------------\u001b[0m",
      "\u001b[1;31mTypeError\u001b[0m                                 Traceback (most recent call last)",
      "Cell \u001b[1;32mIn[53], line 8\u001b[0m\n\u001b[0;32m      1\u001b[0m \u001b[38;5;66;03m# 내장 random 모듈을 불러오세요.\u001b[39;00m\n\u001b[0;32m      2\u001b[0m \u001b[38;5;66;03m# random.sample() 함수는 2개의 매개변수를 받도록 정의되어 있습니다.\u001b[39;00m\n\u001b[0;32m      3\u001b[0m \u001b[38;5;66;03m# random.sample() 함수에 숫자 3개가 담긴 리스트만 넣고 호출해 보세요.\u001b[39;00m\n\u001b[0;32m      4\u001b[0m \u001b[38;5;66;03m# 그리고 매개변수가 누락되어 발생하는 오류를 확인해 봅시다.\u001b[39;00m\n\u001b[0;32m      6\u001b[0m \u001b[38;5;28;01mimport\u001b[39;00m \u001b[38;5;21;01mrandom\u001b[39;00m\n\u001b[1;32m----> 8\u001b[0m \u001b[43mrandom\u001b[49m\u001b[38;5;241;43m.\u001b[39;49m\u001b[43msample\u001b[49m\u001b[43m(\u001b[49m\u001b[43m[\u001b[49m\u001b[38;5;241;43m1\u001b[39;49m\u001b[43m,\u001b[49m\u001b[43m \u001b[49m\u001b[38;5;241;43m2\u001b[39;49m\u001b[43m,\u001b[49m\u001b[43m \u001b[49m\u001b[38;5;241;43m3\u001b[39;49m\u001b[43m]\u001b[49m\u001b[43m)\u001b[49m\n",
      "\u001b[1;31mTypeError\u001b[0m: sample() missing 1 required positional argument: 'k'"
     ]
    }
   ],
   "source": [
    "# 내장 random 모듈을 불러오세요.\n",
    "# random.sample() 함수는 2개의 매개변수를 받도록 정의되어 있습니다.\n",
    "# random.sample() 함수에 숫자 3개가 담긴 리스트만 넣고 호출해 보세요.\n",
    "# 그리고 매개변수가 누락되어 발생하는 오류를 확인해 봅시다.\n",
    "\n",
    "import random\n",
    "\n",
    "random.sample([1, 2, 3])"
   ]
  },
  {
   "cell_type": "markdown",
   "id": "da3deaee",
   "metadata": {},
   "source": [
    "- 함수 호출 과정에서 매개변수 개수가 초과해서 들어온 경우"
   ]
  },
  {
   "cell_type": "code",
   "execution_count": 54,
   "id": "2fca96fb",
   "metadata": {},
   "outputs": [
    {
     "name": "stdout",
     "output_type": "stream",
     "text": [
      "1\n"
     ]
    },
    {
     "ename": "TypeError",
     "evalue": "object of type 'int' has no len()",
     "output_type": "error",
     "traceback": [
      "\u001b[1;31m---------------------------------------------------------------------------\u001b[0m",
      "\u001b[1;31mTypeError\u001b[0m                                 Traceback (most recent call last)",
      "Cell \u001b[1;32mIn[54], line 6\u001b[0m\n\u001b[0;32m      1\u001b[0m \u001b[38;5;66;03m# random.choice() 함수는 하나의 매개 변수만 받도록 정의되어 있습니다.\u001b[39;00m\n\u001b[0;32m      2\u001b[0m \u001b[38;5;66;03m# 숫자 3개가 담긴 리스트와, 숫자 6을 넣고 호출해 보세요.\u001b[39;00m\n\u001b[0;32m      3\u001b[0m \u001b[38;5;66;03m# 그리고 매개변수가 초가 되어 발생하는 오류를 확인해 봅시다.\u001b[39;00m\n\u001b[0;32m      5\u001b[0m \u001b[38;5;28mprint\u001b[39m(random\u001b[38;5;241m.\u001b[39mchoice([\u001b[38;5;241m1\u001b[39m,\u001b[38;5;241m2\u001b[39m,\u001b[38;5;241m3\u001b[39m]))\n\u001b[1;32m----> 6\u001b[0m \u001b[38;5;28mprint\u001b[39m(\u001b[43mrandom\u001b[49m\u001b[38;5;241;43m.\u001b[39;49m\u001b[43mchoice\u001b[49m\u001b[43m(\u001b[49m\u001b[38;5;241;43m6\u001b[39;49m\u001b[43m)\u001b[49m)\n",
      "File \u001b[1;32m~\\AppData\\Local\\Programs\\Python\\Python39\\lib\\random.py:346\u001b[0m, in \u001b[0;36mRandom.choice\u001b[1;34m(self, seq)\u001b[0m\n\u001b[0;32m    344\u001b[0m \u001b[38;5;250m\u001b[39m\u001b[38;5;124;03m\"\"\"Choose a random element from a non-empty sequence.\"\"\"\u001b[39;00m\n\u001b[0;32m    345\u001b[0m \u001b[38;5;66;03m# raises IndexError if seq is empty\u001b[39;00m\n\u001b[1;32m--> 346\u001b[0m \u001b[38;5;28;01mreturn\u001b[39;00m seq[\u001b[38;5;28mself\u001b[39m\u001b[38;5;241m.\u001b[39m_randbelow(\u001b[38;5;28;43mlen\u001b[39;49m\u001b[43m(\u001b[49m\u001b[43mseq\u001b[49m\u001b[43m)\u001b[49m)]\n",
      "\u001b[1;31mTypeError\u001b[0m: object of type 'int' has no len()"
     ]
    }
   ],
   "source": [
    "# random.choice() 함수는 하나의 매개 변수만 받도록 정의되어 있습니다.\n",
    "# 숫자 3개가 담긴 리스트와, 숫자 6을 넣고 호출해 보세요.\n",
    "# 그리고 매개변수가 초가 되어 발생하는 오류를 확인해 봅시다.\n",
    "\n",
    "print(random.choice([1,2,3]))\n",
    "print(random.choice(6))"
   ]
  },
  {
   "cell_type": "markdown",
   "id": "442d5226",
   "metadata": {},
   "source": [
    "`ValueError`\n",
    "- 자료형은 올바르나 값이 적절하지 않은 경우"
   ]
  },
  {
   "cell_type": "code",
   "execution_count": 58,
   "id": "a0dd2db8",
   "metadata": {},
   "outputs": [
    {
     "data": {
      "text/plain": [
       "3"
      ]
     },
     "execution_count": 58,
     "metadata": {},
     "output_type": "execute_result"
    }
   ],
   "source": [
    "# int()는 정수가 아닌 값을 받았을 경우 에러가 발생합니다.\n",
    "# int() 안에 문자 3.5를 넣고 호출한 뒤 발생하는 오류를 확인해 봅시다.\n",
    "\n",
    "int(3.5)"
   ]
  },
  {
   "cell_type": "markdown",
   "id": "66fdb3f7",
   "metadata": {},
   "source": [
    "- 존재하지 않는 값을 찾고자 할 경우"
   ]
  },
  {
   "cell_type": "code",
   "execution_count": 59,
   "id": "e0a998cd",
   "metadata": {},
   "outputs": [
    {
     "ename": "ValueError",
     "evalue": "3 is not in list",
     "output_type": "error",
     "traceback": [
      "\u001b[1;31m---------------------------------------------------------------------------\u001b[0m",
      "\u001b[1;31mValueError\u001b[0m                                Traceback (most recent call last)",
      "Cell \u001b[1;32mIn[59], line 6\u001b[0m\n\u001b[0;32m      1\u001b[0m \u001b[38;5;66;03m# index()는 리스트에서 찾고자 하는 값의 인덱스를 반환합니다.\u001b[39;00m\n\u001b[0;32m      2\u001b[0m \u001b[38;5;66;03m# numbers 리스트에 없는 값인 3을 찾게 되면 에러가 발생합니다.\u001b[39;00m\n\u001b[0;32m      3\u001b[0m \u001b[38;5;66;03m# 코드를 실행시킨 뒤 발생하는 오류를 확인해 봅시다.\u001b[39;00m\n\u001b[0;32m      5\u001b[0m numbers \u001b[38;5;241m=\u001b[39m [\u001b[38;5;241m1\u001b[39m, \u001b[38;5;241m2\u001b[39m]\n\u001b[1;32m----> 6\u001b[0m \u001b[43mnumbers\u001b[49m\u001b[38;5;241;43m.\u001b[39;49m\u001b[43mindex\u001b[49m\u001b[43m(\u001b[49m\u001b[38;5;241;43m3\u001b[39;49m\u001b[43m)\u001b[49m\n",
      "\u001b[1;31mValueError\u001b[0m: 3 is not in list"
     ]
    }
   ],
   "source": [
    "# index()는 리스트에서 찾고자 하는 값의 인덱스를 반환합니다.\n",
    "# numbers 리스트에 없는 값인 3을 찾게 되면 에러가 발생합니다.\n",
    "# 코드를 실행시킨 뒤 발생하는 오류를 확인해 봅시다.\n",
    "\n",
    "numbers = [1, 2]\n",
    "numbers.index(3)"
   ]
  },
  {
   "cell_type": "markdown",
   "id": "16432454",
   "metadata": {},
   "source": [
    "`IndexError`\n",
    "- 존재하지 않는 index로 조회할 경우"
   ]
  },
  {
   "cell_type": "code",
   "execution_count": 60,
   "id": "71c009cc",
   "metadata": {},
   "outputs": [
    {
     "ename": "IndexError",
     "evalue": "list index out of range",
     "output_type": "error",
     "traceback": [
      "\u001b[1;31m---------------------------------------------------------------------------\u001b[0m",
      "\u001b[1;31mIndexError\u001b[0m                                Traceback (most recent call last)",
      "Cell \u001b[1;32mIn[60], line 5\u001b[0m\n\u001b[0;32m      1\u001b[0m \u001b[38;5;66;03m# 비어있는 리스트는 어떤 인덱스 값으로든 접근할 수 없습니다.\u001b[39;00m\n\u001b[0;32m      2\u001b[0m \u001b[38;5;66;03m# 코드를 실행시켜서 비어있는 empty_list를 -1 인덱스로 접근했을 때 발생하는 오류를 확인해 봅시다.\u001b[39;00m\n\u001b[0;32m      4\u001b[0m empty_list \u001b[38;5;241m=\u001b[39m []\n\u001b[1;32m----> 5\u001b[0m \u001b[43mempty_list\u001b[49m\u001b[43m[\u001b[49m\u001b[38;5;241;43m-\u001b[39;49m\u001b[38;5;241;43m1\u001b[39;49m\u001b[43m]\u001b[49m\n",
      "\u001b[1;31mIndexError\u001b[0m: list index out of range"
     ]
    }
   ],
   "source": [
    "# 비어있는 리스트는 어떤 인덱스 값으로든 접근할 수 없습니다.\n",
    "# 코드를 실행시켜서 비어있는 empty_list를 -1 인덱스로 접근했을 때 발생하는 오류를 확인해 봅시다.\n",
    "\n",
    "empty_list = []\n",
    "empty_list[-1]"
   ]
  },
  {
   "cell_type": "markdown",
   "id": "99d2dc5d",
   "metadata": {},
   "source": [
    "`KeyError`\n",
    "- 존재하지 않는 Key로 접근한 경우"
   ]
  },
  {
   "cell_type": "code",
   "execution_count": 61,
   "id": "d70d50e8",
   "metadata": {},
   "outputs": [
    {
     "ename": "KeyError",
     "evalue": "'queen'",
     "output_type": "error",
     "traceback": [
      "\u001b[1;31m---------------------------------------------------------------------------\u001b[0m",
      "\u001b[1;31mKeyError\u001b[0m                                  Traceback (most recent call last)",
      "Cell \u001b[1;32mIn[61], line 6\u001b[0m\n\u001b[0;32m      1\u001b[0m \u001b[38;5;66;03m# 아래 songs라는 딕셔너리에는 'sia'라는 Key만 존재하며,\u001b[39;00m\n\u001b[0;32m      2\u001b[0m \u001b[38;5;66;03m# 'queen'이라는 키는 존재하지 않습니다.\u001b[39;00m\n\u001b[0;32m      3\u001b[0m \u001b[38;5;66;03m# 코드를 실행시켜보고 발생하는 오류를 확인해 봅시다.\u001b[39;00m\n\u001b[0;32m      5\u001b[0m songs \u001b[38;5;241m=\u001b[39m {\u001b[38;5;124m'\u001b[39m\u001b[38;5;124msia\u001b[39m\u001b[38;5;124m'\u001b[39m: \u001b[38;5;124m'\u001b[39m\u001b[38;5;124mcandy cane lane\u001b[39m\u001b[38;5;124m'\u001b[39m}\n\u001b[1;32m----> 6\u001b[0m \u001b[43msongs\u001b[49m\u001b[43m[\u001b[49m\u001b[38;5;124;43m'\u001b[39;49m\u001b[38;5;124;43mqueen\u001b[39;49m\u001b[38;5;124;43m'\u001b[39;49m\u001b[43m]\u001b[49m\n",
      "\u001b[1;31mKeyError\u001b[0m: 'queen'"
     ]
    }
   ],
   "source": [
    "# 아래 songs라는 딕셔너리에는 'sia'라는 Key만 존재하며,\n",
    "# 'queen'이라는 키는 존재하지 않습니다.\n",
    "# 코드를 실행시켜보고 발생하는 오류를 확인해 봅시다.\n",
    "\n",
    "songs = {'sia': 'candy cane lane'}\n",
    "songs['queen']"
   ]
  },
  {
   "cell_type": "markdown",
   "id": "182027a2",
   "metadata": {},
   "source": [
    "`ModuleNotFoundError`\n",
    "- 존재하지 않는 Module을 `import` 하는 경우"
   ]
  },
  {
   "cell_type": "code",
   "execution_count": 62,
   "id": "b3a40de9",
   "metadata": {},
   "outputs": [
    {
     "ename": "ModuleNotFoundError",
     "evalue": "No module named 'reque'",
     "output_type": "error",
     "traceback": [
      "\u001b[1;31m---------------------------------------------------------------------------\u001b[0m",
      "\u001b[1;31mModuleNotFoundError\u001b[0m                       Traceback (most recent call last)",
      "Cell \u001b[1;32mIn[62], line 4\u001b[0m\n\u001b[0;32m      1\u001b[0m \u001b[38;5;66;03m# 파이썬에 존재하지 않는 모듈인 \"reque\"라는 이름의 모듈을 불러와봅시다(import).\u001b[39;00m\n\u001b[0;32m      2\u001b[0m \u001b[38;5;66;03m# 그리고 발생하는 오류를 확인해 봅시다.\u001b[39;00m\n\u001b[1;32m----> 4\u001b[0m \u001b[38;5;28;01mimport\u001b[39;00m \u001b[38;5;21;01mreque\u001b[39;00m\n",
      "\u001b[1;31mModuleNotFoundError\u001b[0m: No module named 'reque'"
     ]
    }
   ],
   "source": [
    "# 파이썬에 존재하지 않는 모듈인 \"reque\"라는 이름의 모듈을 불러와봅시다(import).\n",
    "# 그리고 발생하는 오류를 확인해 봅시다.\n",
    "\n",
    "import reque"
   ]
  },
  {
   "cell_type": "markdown",
   "id": "c2b16e3d",
   "metadata": {},
   "source": [
    "`ImportError`\n",
    "- Module은 찾았으나 존재하지 않는 클래스/함수를 가져오는 경우"
   ]
  },
  {
   "cell_type": "code",
   "execution_count": 64,
   "id": "4d647ac6",
   "metadata": {},
   "outputs": [
    {
     "ename": "AttributeError",
     "evalue": "module 'random' has no attribute 'sampl'",
     "output_type": "error",
     "traceback": [
      "\u001b[1;31m---------------------------------------------------------------------------\u001b[0m",
      "\u001b[1;31mAttributeError\u001b[0m                            Traceback (most recent call last)",
      "Cell \u001b[1;32mIn[64], line 7\u001b[0m\n\u001b[0;32m      1\u001b[0m \u001b[38;5;66;03m# 파이썬 내장 random 모듈은 존재하나 그 안에 \"sampl\"이라는 함수는 존재하지 않습니다.\u001b[39;00m\n\u001b[0;32m      2\u001b[0m \u001b[38;5;66;03m# random 모듈을 불러와서 \"sampl\"이라는 함수를 불러와보고, 발생하는 오류를 확인해 봅시다.\u001b[39;00m\n\u001b[0;32m      5\u001b[0m \u001b[38;5;28;01mimport\u001b[39;00m \u001b[38;5;21;01mrandom\u001b[39;00m\n\u001b[1;32m----> 7\u001b[0m \u001b[43mrandom\u001b[49m\u001b[38;5;241;43m.\u001b[39;49m\u001b[43msampl\u001b[49m()\n",
      "\u001b[1;31mAttributeError\u001b[0m: module 'random' has no attribute 'sampl'"
     ]
    }
   ],
   "source": [
    "# 파이썬 내장 random 모듈은 존재하나 그 안에 \"sampl\"이라는 함수는 존재하지 않습니다.\n",
    "# random 모듈을 불러와서 \"sampl\"이라는 함수를 불러와보고, 발생하는 오류를 확인해 봅시다.\n",
    "\n",
    "\n",
    "import random\n",
    "\n",
    "random.sampl()"
   ]
  },
  {
   "cell_type": "markdown",
   "id": "a492ca75",
   "metadata": {},
   "source": [
    "`KeyboardInterrupt`\n",
    "- 사용자가 임의로 실행을 중단한 경우\n",
    "- 주피터 노트북에서는 정지 버튼이지만, 실제로 우리가 돌릴 때는 `ctrl`+`c`를 통해 종료하였을 때 발생합니다."
   ]
  },
  {
   "cell_type": "code",
   "execution_count": 65,
   "id": "62c8c5a0",
   "metadata": {},
   "outputs": [
    {
     "ename": "KeyboardInterrupt",
     "evalue": "",
     "output_type": "error",
     "traceback": [
      "\u001b[1;31m---------------------------------------------------------------------------\u001b[0m",
      "\u001b[1;31mKeyboardInterrupt\u001b[0m                         Traceback (most recent call last)",
      "Cell \u001b[1;32mIn[65], line 6\u001b[0m\n\u001b[0;32m      1\u001b[0m \u001b[38;5;66;03m# 무한 반복되는 while 문을 실행시켜보고, 정지시켜보세요.\u001b[39;00m\n\u001b[0;32m      2\u001b[0m \u001b[38;5;66;03m# 그리고 발생하는 오류를 확인해 봅시다.\u001b[39;00m\n\u001b[0;32m      5\u001b[0m \u001b[38;5;28;01mwhile\u001b[39;00m \u001b[38;5;28;01mTrue\u001b[39;00m:\n\u001b[1;32m----> 6\u001b[0m     \u001b[38;5;28;01mpass\u001b[39;00m\n",
      "\u001b[1;31mKeyboardInterrupt\u001b[0m: "
     ]
    }
   ],
   "source": [
    "# 무한 반복되는 while 문을 실행시켜보고, 정지시켜보세요.\n",
    "# 그리고 발생하는 오류를 확인해 봅시다.\n",
    "\n",
    "\n",
    "while True:\n",
    "    pass\n"
   ]
  },
  {
   "cell_type": "markdown",
   "id": "014074fb",
   "metadata": {},
   "source": [
    "`IndentationError`\n",
    "- Indentation(들여 쓰기)이 적절하지 않은 경우"
   ]
  },
  {
   "cell_type": "code",
   "execution_count": 66,
   "id": "c4417de5",
   "metadata": {},
   "outputs": [
    {
     "ename": "IndentationError",
     "evalue": "expected an indented block (1048384304.py, line 4)",
     "output_type": "error",
     "traceback": [
      "\u001b[1;36m  Cell \u001b[1;32mIn[66], line 4\u001b[1;36m\u001b[0m\n\u001b[1;33m    print(i)\u001b[0m\n\u001b[1;37m    ^\u001b[0m\n\u001b[1;31mIndentationError\u001b[0m\u001b[1;31m:\u001b[0m expected an indented block\n"
     ]
    }
   ],
   "source": [
    "# 코드를 실행해서 발생하는 오류를 확인해 봅시다.\n",
    "\n",
    "for i in range(3):\n",
    "print(i)"
   ]
  },
  {
   "cell_type": "code",
   "execution_count": 67,
   "id": "e2d3a0af",
   "metadata": {},
   "outputs": [
    {
     "ename": "IndentationError",
     "evalue": "unexpected indent (3510271558.py, line 5)",
     "output_type": "error",
     "traceback": [
      "\u001b[1;36m  Cell \u001b[1;32mIn[67], line 5\u001b[1;36m\u001b[0m\n\u001b[1;33m    print(i)\u001b[0m\n\u001b[1;37m    ^\u001b[0m\n\u001b[1;31mIndentationError\u001b[0m\u001b[1;31m:\u001b[0m unexpected indent\n"
     ]
    }
   ],
   "source": [
    "# 코드를 실행해서 발생하는 오류를 확인해 봅시다.\n",
    "\n",
    "for i in range(3):\n",
    "    print(i)\n",
    "        print(i)"
   ]
  },
  {
   "cell_type": "markdown",
   "id": "6c0fea62",
   "metadata": {},
   "source": [
    "# 예외 처리(Exception Handling)\n",
    "\n",
    "## `try` & `except`\n",
    "`try`문과 `except`절을 사용하여 예외 처리를 할 수 있습니다.\n",
    "\n",
    "\n",
    "### 기초 문법\n",
    "\n",
    "```python\n",
    "try:\n",
    "    <코드 블록 1>\n",
    "except (예외):\n",
    "    <코드 블록 2>\n",
    "```\n",
    "\n",
    "* `try` 아래의 코드 블록(code block)이 실행됩니다.\n",
    "\n",
    "* 예외가 발생되지 않으면, **`except` 없이 실행이 종료됩니다.**\n",
    "\n",
    "* 예외가 발생하면, **남은 부분을 수행하지 않고**, `except`가 실행됩니다."
   ]
  },
  {
   "cell_type": "code",
   "execution_count": 70,
   "id": "e1cb7f06",
   "metadata": {},
   "outputs": [
    {
     "name": "stdout",
     "output_type": "stream",
     "text": [
      "정수를 입력하세요 :3\n",
      "3\n"
     ]
    }
   ],
   "source": [
    "# 사용자로부터 값을 받아 정수로 변환하여 출력해 봅시다.\n",
    "# input() 함수를 이용하여 사용자로부터 입력을 받은 뒤\n",
    "# 해당 값을 정수로 변환하여 출력해 보세요.\n",
    "\n",
    "try:\n",
    "    user_num = input('정수를 입력하세요 :')\n",
    "    print(int(user_num))\n",
    "except:\n",
    "    pass"
   ]
  },
  {
   "cell_type": "code",
   "execution_count": 72,
   "id": "4f62f57f",
   "metadata": {},
   "outputs": [
    {
     "name": "stdout",
     "output_type": "stream",
     "text": [
      "정수를 입력하세요 :a\n",
      "숫자를 입력하세요 :3\n"
     ]
    }
   ],
   "source": [
    "# 위에서 배운 try-except 구문을 활용해 봅시다.\n",
    "# 사용자가 문자열을 넣어 해당 오류(ValueError)가 발생하면\n",
    "# 숫자를 입력하라고 출력해 봅시다.\n",
    "\n",
    "try:\n",
    "    user_num = input('정수를 입력하세요 :')\n",
    "    print(int(user_num))\n",
    "except ValueError:\n",
    "    user_num = input('숫자를 입력하세요 :')"
   ]
  },
  {
   "cell_type": "markdown",
   "id": "0b5ebfef",
   "metadata": {},
   "source": [
    "### 복수의 예외 처리\n",
    "\n",
    "하나 이상의 예외를 모두 처리할 수 있습니다.\n",
    "\n",
    "괄호가 있는 튜플로 여러 개의 예외를 지정할 수 있습니다.\n",
    "\n",
    "---\n",
    "\n",
    "**활용법**\n",
    "\n",
    "```python\n",
    "try:\n",
    "    <코드 블록 1>\n",
    "except (예외 1, 예외 2):\n",
    "    <코드 블록 2>\n",
    "\n",
    "try:\n",
    "    <코드 블록 1>\n",
    "except 예외 1:\n",
    "    <코드 블록 2>\n",
    "except 예외 2:\n",
    "    <코드 블록 3>\n",
    "```"
   ]
  },
  {
   "cell_type": "code",
   "execution_count": 73,
   "id": "8411cc89",
   "metadata": {},
   "outputs": [
    {
     "name": "stdout",
     "output_type": "stream",
     "text": [
      "숫자를 입력하세요3\n",
      "33.333333333333336\n"
     ]
    }
   ],
   "source": [
    "# 숫자 100을 사용자가 입력한 값으로 나눈 후 출력하는 코드를 작성해 봅시다.\n",
    "\n",
    "# input() 함수를 이용하여 사용자로부터 입력을 받으세요.\n",
    "# 해당 값을 정수로 변환한 뒤, 숫자 100을 입력받은 값으로 나누는 코드를 작성해 보세요.\n",
    "\n",
    "try:\n",
    "    user_num = input('숫자를 입력하세요')\n",
    "    user_num = int(user_num)\n",
    "    rslt = 100 / user_num\n",
    "    print(rslt)\n",
    "except:\n",
    "    pass"
   ]
  },
  {
   "cell_type": "code",
   "execution_count": 74,
   "id": "4abbb734",
   "metadata": {},
   "outputs": [
    {
     "name": "stdout",
     "output_type": "stream",
     "text": [
      "숫자를 입력하세요3\n",
      "33.333333333333336\n"
     ]
    }
   ],
   "source": [
    "# 문자열일 때와 0일 때의 경우를 모두 처리를 해봅시다.\n",
    "\n",
    "# 어떤 값을 숫자가 아닌 값으로 나눌 때 발생하는 에러는 ValueError입니다.\n",
    "# 어떤 값을 0으로 나눌 때 발생하는 에러는 ZeroDivisionError입니다.\n",
    "# try-except 구문을 활용하여 위의 두 오류를 처리해 보세요.\n",
    "\n",
    "try:\n",
    "    user_num = input('숫자를 입력하세요')\n",
    "    user_num = int(user_num)\n",
    "    rslt = 100 / user_num\n",
    "    print(rslt)\n",
    "except ValueError:\n",
    "    user_num = input('숫자를 입력하세요')\n",
    "except ZeroDivisionError:\n",
    "    user_num = input('숫자를 입력하세요')"
   ]
  },
  {
   "cell_type": "code",
   "execution_count": 76,
   "id": "657af9b9",
   "metadata": {},
   "outputs": [
    {
     "name": "stdout",
     "output_type": "stream",
     "text": [
      "숫자를 입력하세요a\n",
      "숫자를 입력하세요3\n",
      "33.333333333333336\n"
     ]
    }
   ],
   "source": [
    "# 각각 다른 오류를 출력할 수 있습니다.\n",
    "# 여러 개의 except 구문을 활용해 보세요.\n",
    "# (ValueError, ZeroDivisionError)\n",
    "\n",
    "try:\n",
    "    user_num = input('숫자를 입력하세요')\n",
    "    user_num = int(user_num)\n",
    "    rslt = 100 / user_num\n",
    "    print(rslt)\n",
    "except ValueError:\n",
    "    user_num = input('숫자를 입력하세요')\n",
    "    print(rslt)\n",
    "except ZeroDivisionError:\n",
    "    user_num = input('숫자를 입력하세요')\n",
    "    print(rslt)"
   ]
  },
  {
   "cell_type": "markdown",
   "id": "6ffac83c",
   "metadata": {},
   "source": [
    "- 중요! <br>**에러가 순차적으로 수행됨**으로, 가장 작은 범주부터 시작해야 합니다."
   ]
  },
  {
   "cell_type": "code",
   "execution_count": 77,
   "id": "98a88041",
   "metadata": {},
   "outputs": [
    {
     "name": "stdout",
     "output_type": "stream",
     "text": [
      "값을 입력하시오: []\n",
      "모르겠지만 에러야\n"
     ]
    }
   ],
   "source": [
    "# Exception은 가장 큰 범주의 에러로써 모든 에러를 처리할 수 있습니다.\n",
    "# 따라서 아래 코드는 숫자가 아닌 값을 넣었을 때 순차적으로 먼저 적힌 Exception 에러가 발생합니다.\n",
    "# 코드를 실행하고 결과를 확인해 봅시다.\n",
    "\n",
    "try:\n",
    "    num = input('값을 입력하시오: ')\n",
    "    100/int(num)\n",
    "except Exception: # Exception 은 가장 큰 범주\n",
    "    print('모르겠지만 에러야')\n",
    "except ValueError:\n",
    "    print('숫자를 넣어')"
   ]
  },
  {
   "cell_type": "markdown",
   "id": "000e35f8",
   "metadata": {},
   "source": [
    "### `else`\n",
    "\n",
    "* 에러가 발생하지 않는 경우 수행되는 문장은 `else`를 이용합니다.\n",
    "* 모든 `except` 절 뒤에 와야 합니다.\n",
    "* `try` 절이 예외를 일으키지 않을 때 실행되어야만 하는 코드에 적절합니다.\n",
    "---\n",
    "\n",
    "**활용법**\n",
    "\n",
    "```python\n",
    "try:\n",
    "    <코드 블럭 1>\n",
    "except 예외:\n",
    "    <코드 블럭 2>\n",
    "else:\n",
    "    <코드 블럭 3>\n",
    "```"
   ]
  },
  {
   "cell_type": "code",
   "execution_count": 79,
   "id": "426206f3",
   "metadata": {},
   "outputs": [
    {
     "name": "stdout",
     "output_type": "stream",
     "text": [
      "200\n"
     ]
    }
   ],
   "source": [
    "# else를 사용해봅시다.\n",
    "\n",
    "# try 구문에서 numbers라는 이름의 리스트에 숫자 3개를 저장하세요.\n",
    "# 그리고 존재하지 않는 인덱스의 값을 가져와서 number 변수에 저장하세요.\n",
    "# (이 때, 존재하지 않는 인덱스를 참고하는 경우 IndexError가 발생하게 됩니다.)\n",
    "# except 구문에서 IndexError가 발생할 경우 '오류 발생'이라는 메세지를 출력하세요.\n",
    "# 마지막으로 else 구문을 활용하여 number * 100을 출력해보세요.\n",
    "\n",
    "try:\n",
    "    numbers = [1, 2, 3]\n",
    "    number = numbers[1]\n",
    "except IndexError:\n",
    "    print('오류 발생')\n",
    "else:\n",
    "    print(number * 100)"
   ]
  },
  {
   "cell_type": "markdown",
   "id": "b7da60fa",
   "metadata": {},
   "source": [
    "### `finally` \n",
    "\n",
    "* 반드시 수행해야 하는 문장은 `finally`를 활용합니다.\n",
    "* 즉, 모든 상황에 실행되어야만 하는 코드를 정의하는데 활용합니다.\n",
    "* 예외의 발생 여부와 관계없이 `try` 문을 떠날 때 항상 실행합니다.\n",
    "\n",
    "---\n",
    "\n",
    "**활용법**\n",
    "\n",
    "```python\n",
    "try:\n",
    "    <코드 블럭 1>\n",
    "except 예외:\n",
    "    <코드 블럭 2>\n",
    "finally:\n",
    "    <코드 블럭 3>\n",
    "```"
   ]
  },
  {
   "cell_type": "code",
   "execution_count": 81,
   "id": "652e9620",
   "metadata": {},
   "outputs": [
    {
     "name": "stdout",
     "output_type": "stream",
     "text": [
      "성적 파일을 읽어옵니다.\n",
      "'java'는 딕셔너리에 없는 키입니다.\n",
      "성적 파일을 종료합니다.\n"
     ]
    }
   ],
   "source": [
    "# finally를 사용해봅시다.\n",
    "# 다음 코드에서 finally 구문을 활용하여 '성적 파일을 종료합니다'라는 메세지를 출력해보세요.\n",
    "\n",
    "try:\n",
    "    print('성적 파일을 읽어옵니다.')\n",
    "    data = {'python': 'A+'}\n",
    "    data['java']\n",
    "except KeyError as err:\n",
    "    print(f'{err}는 딕셔너리에 없는 키입니다.')\n",
    "finally:\n",
    "    print('성적 파일을 종료합니다.')\n",
    "    \n",
    "\n"
   ]
  },
  {
   "cell_type": "markdown",
   "id": "6c629482",
   "metadata": {},
   "source": [
    "### 에러 메시지 처리  `as`\n",
    "\n",
    "`as` 키워드를 활용하여 에러 메시지를 보여줄 수도 있습니다.\n",
    "\n",
    "---\n",
    "\n",
    "**활용법**\n",
    "\n",
    "```python\n",
    "try:\n",
    "    <코드 블럭 1>\n",
    "except 예외 as err:\n",
    "    <코드 블럭 2>\n",
    "```"
   ]
  },
  {
   "cell_type": "code",
   "execution_count": 82,
   "id": "7f0b73b5",
   "metadata": {},
   "outputs": [
    {
     "name": "stdout",
     "output_type": "stream",
     "text": [
      "list index out of range\n"
     ]
    }
   ],
   "source": [
    "# except 구문에서 발생하는 에러 메세지를 코드 블럭에 넘겨줄 수도 있습니다.\n",
    "\n",
    "# 다음 코드에서 as를 활용하여 에러 메세지를 그 아래 코드 블럭에 넘겨보세요.\n",
    "# 그리고 as로 명명한 에러 메세지를 print를 이용하여 출력해보세요.\n",
    "\n",
    "try:\n",
    "    empty_list = []\n",
    "    print(empty_list[-1])\n",
    "# 여기부터 코드를 수정하세요.\n",
    "except IndexError as err_msg:\n",
    "    print(err_msg)\n"
   ]
  },
  {
   "cell_type": "markdown",
   "id": "ce293146",
   "metadata": {},
   "source": [
    "## 예외 발생 시키기(Exception Raising)\n",
    "\n"
   ]
  },
  {
   "cell_type": "markdown",
   "id": "dc6bcda8",
   "metadata": {},
   "source": [
    "### `raise`\n",
    "`raise`를 통해 예외를 강제로 발생시킬 수 있습니다.\n",
    "\n",
    "---\n",
    "\n",
    "**활용법**\n",
    "\n",
    "```python\n",
    "raise <에러>('메시지')\n",
    "```"
   ]
  },
  {
   "cell_type": "code",
   "execution_count": 83,
   "id": "33747bf0",
   "metadata": {},
   "outputs": [
    {
     "ename": "ValueError",
     "evalue": "성우",
     "output_type": "error",
     "traceback": [
      "\u001b[1;31m---------------------------------------------------------------------------\u001b[0m",
      "\u001b[1;31mValueError\u001b[0m                                Traceback (most recent call last)",
      "Cell \u001b[1;32mIn[83], line 6\u001b[0m\n\u001b[0;32m      1\u001b[0m \u001b[38;5;66;03m# raise를 사용해 봅시다.\u001b[39;00m\n\u001b[0;32m      2\u001b[0m \n\u001b[0;32m      3\u001b[0m \u001b[38;5;66;03m# raise만 작성한 뒤 실행시켜봅시다.\u001b[39;00m\n\u001b[0;32m      4\u001b[0m \u001b[38;5;66;03m# 코드를 실행시켜보고 결과를 확인하세요.\u001b[39;00m\n\u001b[1;32m----> 6\u001b[0m \u001b[38;5;28;01mraise\u001b[39;00m \u001b[38;5;167;01mValueError\u001b[39;00m(\u001b[38;5;124m'\u001b[39m\u001b[38;5;124m성우\u001b[39m\u001b[38;5;124m'\u001b[39m)\n",
      "\u001b[1;31mValueError\u001b[0m: 성우"
     ]
    }
   ],
   "source": [
    "# raise를 사용해 봅시다.\n",
    "\n",
    "# raise만 작성한 뒤 실행시켜봅시다.\n",
    "# 코드를 실행시켜보고 결과를 확인하세요.\n",
    "\n",
    "raise ValueError('성우')"
   ]
  },
  {
   "cell_type": "code",
   "execution_count": 84,
   "id": "f11e6eeb",
   "metadata": {
    "scrolled": true
   },
   "outputs": [
    {
     "ename": "ValueError",
     "evalue": "hi",
     "output_type": "error",
     "traceback": [
      "\u001b[1;31m---------------------------------------------------------------------------\u001b[0m",
      "\u001b[1;31mValueError\u001b[0m                                Traceback (most recent call last)",
      "Cell \u001b[1;32mIn[84], line 4\u001b[0m\n\u001b[0;32m      1\u001b[0m \u001b[38;5;66;03m# 이번에는 ValueError() 오류를 raise 해봅시다.\u001b[39;00m\n\u001b[0;32m      2\u001b[0m \u001b[38;5;66;03m# 코드를 실행시켜보고 결과를 확인하세요.\u001b[39;00m\n\u001b[1;32m----> 4\u001b[0m \u001b[38;5;28;01mraise\u001b[39;00m \u001b[38;5;167;01mValueError\u001b[39;00m(\u001b[38;5;124m'\u001b[39m\u001b[38;5;124mhi\u001b[39m\u001b[38;5;124m'\u001b[39m)\n",
      "\u001b[1;31mValueError\u001b[0m: hi"
     ]
    }
   ],
   "source": [
    "# 이번에는 ValueError() 오류를 raise 해봅시다.\n",
    "# 코드를 실행시켜보고 결과를 확인하세요.\n",
    "\n",
    "raise ValueError('hi')"
   ]
  },
  {
   "cell_type": "markdown",
   "id": "e48c4b8b",
   "metadata": {},
   "source": [
    "### [연습] `raise` 예외 발생시키기\n",
    "\n",
    "> 리스트를 받아 평균을 반환하는 함수 `avg`를 작성하세요.\n",
    "\n",
    "---\n",
    "\n",
    "- `scores`의 길이가 0인 경우 `Exception`과 메시지를 발생시키세요.\n",
    "    - *예) Exception: 학생이 없습니다.*\n",
    "\n",
    "- 정상적인 경우에는 평균을 `return`합니다."
   ]
  },
  {
   "cell_type": "code",
   "execution_count": 85,
   "id": "1f05388d",
   "metadata": {},
   "outputs": [],
   "source": [
    "def avg(scores):\n",
    "# 이곳에 코드를 작성하세요.\n",
    "    try:\n",
    "        scores[1]\n",
    "    except IndexError:\n",
    "        print('학생이 없습니다.')\n",
    "    else:\n",
    "        sum = 0\n",
    "        for num in scores:\n",
    "            sum += num\n",
    "        avg = sum / len(scores)\n",
    "        return avg"
   ]
  },
  {
   "cell_type": "code",
   "execution_count": 86,
   "id": "5b6a0421",
   "metadata": {
    "ExecuteTime": {
     "end_time": "2021-01-15T08:41:03.063650Z",
     "start_time": "2021-01-15T08:41:03.046635Z"
    },
    "scrolled": true
   },
   "outputs": [
    {
     "name": "stdout",
     "output_type": "stream",
     "text": [
      "학생이 없습니다.\n"
     ]
    }
   ],
   "source": [
    "# 다음 코드를 통해 올바른 결과가 나오는지 확인하세요.\n",
    "avg([])"
   ]
  },
  {
   "cell_type": "markdown",
   "id": "093c1b07",
   "metadata": {},
   "source": [
    "### `assert`\n",
    "\n",
    "`assert` 문은 예외를 발생시키는 다른 방법입니다. \n",
    "\n",
    "보통 **상태를 검증하는데 사용**되며 무조건 `AssertionError`가 발생합니다.\n",
    "\n",
    "---\n",
    "\n",
    "**활용법**\n",
    "\n",
    "```python\n",
    "assert Boolean expression, error message\n",
    "\n",
    "assert len([1, 2]) == 1, '길이가 1이 아닙니다.'\n",
    "```\n",
    "\n",
    "---\n",
    "\n",
    "위의 검증식이 거짓일 경우를 발생합니다.\n",
    "\n",
    "일반적으로 디버깅용도로 사용됩니다. [파이썬 문서](https://docs.python.org/ko/3/reference/simple_stmts.html#the-assert-statement)\n",
    "\n",
    "```bash\n",
    "$ python code.py\n",
    "Traceback (most recent call last):\n",
    "  File \"code.py\", line 1, in <module>\n",
    "    assert len([1, 2]) == 1, '길이가 1이 아닙니다.'\n",
    "AssertionError: 길이가 1이 아닙니다.\n",
    "\n",
    "$ python -O code.py\n",
    "\n",
    "```"
   ]
  },
  {
   "cell_type": "code",
   "execution_count": null,
   "id": "dcb184d9",
   "metadata": {},
   "outputs": [],
   "source": []
  }
 ],
 "metadata": {
  "kernelspec": {
   "display_name": "Python 3 (ipykernel)",
   "language": "python",
   "name": "python3"
  },
  "language_info": {
   "codemirror_mode": {
    "name": "ipython",
    "version": 3
   },
   "file_extension": ".py",
   "mimetype": "text/x-python",
   "name": "python",
   "nbconvert_exporter": "python",
   "pygments_lexer": "ipython3",
   "version": "3.9.13"
  },
  "toc": {
   "base_numbering": 1,
   "nav_menu": {},
   "number_sections": true,
   "sideBar": true,
   "skip_h1_title": false,
   "title_cell": "Table of Contents",
   "title_sidebar": "Contents",
   "toc_cell": false,
   "toc_position": {
    "height": "calc(100% - 180px)",
    "left": "10px",
    "top": "150px",
    "width": "340.994px"
   },
   "toc_section_display": true,
   "toc_window_display": true
  }
 },
 "nbformat": 4,
 "nbformat_minor": 5
}
