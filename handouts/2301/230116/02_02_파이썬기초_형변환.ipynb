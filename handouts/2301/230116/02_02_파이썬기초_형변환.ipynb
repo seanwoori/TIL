{
  "cells": [
    {
      "cell_type": "markdown",
      "metadata": {
        "id": "DMHIagr2Tvy-"
      },
      "source": [
        "<p style=\"font-size: 33px; font-weight: 700; margin-bottom: 3rem\">Python 기초 II</p>"
      ]
    },
    {
      "cell_type": "markdown",
      "metadata": {
        "id": "Rn_XSLHUTvzB"
      },
      "source": [
        "# 형변환(Type conversion, Typecasting)\n",
        "\n",
        "파이썬에서 데이터타입은 서로 변환할 수 있습니다.\n",
        "\n",
        "- 암시적 형변환\n",
        "- 명시적 형변환\n",
        "\n",
        "## 암시적 형변환(Implicit Typecasting)\n",
        "\n",
        "사용자가 의도하지 않았지만, 파이썬 내부적으로 자동으로 형변환 하는 경우입니다. 아래의 상황에서만 가능합니다.\n",
        "\n",
        "- bool\n",
        "- Numeric Type (int, float, complex)"
      ]
    },
    {
      "cell_type": "code",
      "execution_count": null,
      "metadata": {
        "id": "cTbwoLlUTvzB"
      },
      "outputs": [],
      "source": [
        "# boolean과 integer는 더할 수 있을까요?\n",
        "# True와 임의의 정수를 더해봅시다."
      ]
    },
    {
      "cell_type": "code",
      "execution_count": null,
      "metadata": {
        "colab": {
          "base_uri": "https://localhost:8080/"
        },
        "id": "5SFANUTwTvzC",
        "outputId": "cb166016-8037-4baf-9c2c-7229fd6e934a"
      },
      "outputs": [
        {
          "output_type": "execute_result",
          "data": {
            "text/plain": [
              "5"
            ]
          },
          "metadata": {},
          "execution_count": 4
        }
      ],
      "source": [
        "True + 4"
      ]
    },
    {
      "cell_type": "code",
      "execution_count": null,
      "metadata": {
        "id": "TIpGbVVFTvzC"
      },
      "outputs": [],
      "source": [
        "# int, float, complex를 각각 변수에 대입해봅시다.\n",
        "# 변수 int_number 에 정수를 할당해봅시다.\n",
        "# 변수 float_numbe 에 실수를 할당해봅시다."
      ]
    },
    {
      "cell_type": "code",
      "execution_count": null,
      "metadata": {
        "id": "ccjEjN8ETvzD"
      },
      "outputs": [],
      "source": [
        "a = int\n",
        "b = float\n",
        "c = complex\n",
        "\n",
        "int_number = 3\n",
        "float_number = 3.5\n",
        "complex_number = complex(2,3)"
      ]
    },
    {
      "cell_type": "code",
      "execution_count": null,
      "metadata": {
        "id": "0Vlt83tYTvzD"
      },
      "outputs": [],
      "source": [
        "# int와 float를 더해봅시다. 그리고 값을 출력해봅시다.\n",
        "# 그 결과의 type은 무엇일까요?"
      ]
    },
    {
      "cell_type": "code",
      "execution_count": null,
      "metadata": {
        "colab": {
          "base_uri": "https://localhost:8080/"
        },
        "id": "KY29pwTlTvzD",
        "outputId": "b22eaab8-e80c-451c-e480-156f8a132aef"
      },
      "outputs": [
        {
          "output_type": "execute_result",
          "data": {
            "text/plain": [
              "float"
            ]
          },
          "metadata": {},
          "execution_count": 15
        }
      ],
      "source": [
        "type(int_number + float_number)"
      ]
    },
    {
      "cell_type": "code",
      "execution_count": null,
      "metadata": {
        "id": "FqmM4MVqTvzD"
      },
      "outputs": [],
      "source": [
        "# int와 complex를 더해봅시다. 그리고 값을 출력해봅시다.\n",
        "# 그 결과의 type은 무엇일까요?"
      ]
    },
    {
      "cell_type": "code",
      "execution_count": null,
      "metadata": {
        "colab": {
          "base_uri": "https://localhost:8080/"
        },
        "id": "t8-KDzmNTvzE",
        "outputId": "c5fdc339-ca3a-423a-f3a7-d2f0d9b4ddb6"
      },
      "outputs": [
        {
          "output_type": "execute_result",
          "data": {
            "text/plain": [
              "complex"
            ]
          },
          "metadata": {},
          "execution_count": 17
        }
      ],
      "source": [
        "type(int_number + complex_number)"
      ]
    },
    {
      "cell_type": "markdown",
      "metadata": {
        "id": "qC9MiX5tTvzE"
      },
      "source": [
        "## 명시적 형변환(Explicit Typecasting)\n",
        "\n",
        "위의 상황을 제외하고는 모두 명시적으로 형변환을 해주어야합니다.\n",
        "\n",
        "- string -> intger : 형식에 맞는 숫자만 가능\n",
        "- integer -> string : 모두 가능\n",
        "\n",
        "암시적 형변환이 되는 모든 경우도 명시적으로 형변환이 가능합니다.\n",
        "\n",
        "- `int()` : string, float를 int로 변환\n",
        "- `float()` : string, int를 float로 변환\n",
        "- `str()` : int, float, list, tuple, dictionary를 문자열로 변환"
      ]
    },
    {
      "cell_type": "code",
      "execution_count": null,
      "metadata": {
        "id": "3TkneLpNTvzE"
      },
      "outputs": [],
      "source": [
        "# integer와 string 사이의 관계는 명시적으로 형변환을 해줘야만 합니다.\n",
        "# 정수와 문자열을 더해보고 오류를 확인해봅시다."
      ]
    },
    {
      "cell_type": "code",
      "execution_count": null,
      "metadata": {
        "colab": {
          "base_uri": "https://localhost:8080/",
          "height": 211
        },
        "id": "8aI1lFkeTvzE",
        "outputId": "df4927bb-00cc-4c5c-967e-1ac845ec895c"
      },
      "outputs": [
        {
          "output_type": "error",
          "ename": "TypeError",
          "evalue": "ignored",
          "traceback": [
            "\u001b[0;31m---------------------------------------------------------------------------\u001b[0m",
            "\u001b[0;31mTypeError\u001b[0m                                 Traceback (most recent call last)",
            "\u001b[0;32m<ipython-input-18-be6b4d2fbca2>\u001b[0m in \u001b[0;36m<module>\u001b[0;34m\u001b[0m\n\u001b[1;32m      1\u001b[0m \u001b[0ma\u001b[0m \u001b[0;34m=\u001b[0m \u001b[0;36m3\u001b[0m\u001b[0;34m\u001b[0m\u001b[0;34m\u001b[0m\u001b[0m\n\u001b[1;32m      2\u001b[0m \u001b[0mb\u001b[0m \u001b[0;34m=\u001b[0m \u001b[0;34m'서울'\u001b[0m\u001b[0;34m\u001b[0m\u001b[0;34m\u001b[0m\u001b[0m\n\u001b[0;32m----> 3\u001b[0;31m \u001b[0ma\u001b[0m \u001b[0;34m+\u001b[0m \u001b[0mb\u001b[0m\u001b[0;34m\u001b[0m\u001b[0;34m\u001b[0m\u001b[0m\n\u001b[0m",
            "\u001b[0;31mTypeError\u001b[0m: unsupported operand type(s) for +: 'int' and 'str'"
          ]
        }
      ],
      "source": [
        "a = 3\n",
        "b = '서울'\n",
        "a + b"
      ]
    },
    {
      "cell_type": "code",
      "execution_count": null,
      "metadata": {
        "id": "P84UswWTTvzF"
      },
      "outputs": [],
      "source": [
        "# 정수를 문자열로 형변환하고 문자열과 더해봅시다."
      ]
    },
    {
      "cell_type": "code",
      "execution_count": null,
      "metadata": {
        "colab": {
          "base_uri": "https://localhost:8080/",
          "height": 35
        },
        "id": "HpWihsy0TvzF",
        "outputId": "58a7674e-3b3b-435b-e36b-4cb7c1dc568f"
      },
      "outputs": [
        {
          "output_type": "execute_result",
          "data": {
            "text/plain": [
              "'3서울'"
            ],
            "application/vnd.google.colaboratory.intrinsic+json": {
              "type": "string"
            }
          },
          "metadata": {},
          "execution_count": 20
        }
      ],
      "source": [
        "str_a = str(a)\n",
        "str_a + b"
      ]
    },
    {
      "cell_type": "code",
      "execution_count": null,
      "metadata": {
        "id": "jFcZmamzTvzF"
      },
      "outputs": [],
      "source": [
        "# 변수 a에 string 3을 할당하고 integer로 변환해봅시다."
      ]
    },
    {
      "cell_type": "code",
      "execution_count": null,
      "metadata": {
        "colab": {
          "base_uri": "https://localhost:8080/"
        },
        "id": "XM4C6Z3RTvzF",
        "outputId": "4bec47fd-4a6d-4065-aeea-8e01761b08a4"
      },
      "outputs": [
        {
          "output_type": "stream",
          "name": "stdout",
          "text": [
            "3\n"
          ]
        }
      ],
      "source": [
        "a = str(3)\n",
        "int_a = int(a)\n",
        "print(int(a))"
      ]
    },
    {
      "cell_type": "code",
      "execution_count": null,
      "metadata": {
        "id": "sQITgUiBTvzF"
      },
      "outputs": [],
      "source": [
        "# 변수 a에 string 3.5를 할당하고 float로 변환해봅시다."
      ]
    },
    {
      "cell_type": "code",
      "execution_count": null,
      "metadata": {
        "colab": {
          "base_uri": "https://localhost:8080/"
        },
        "id": "fQcR3dDBTvzF",
        "outputId": "fedbd9e0-460a-41d5-e506-ad89e19d7393"
      },
      "outputs": [
        {
          "output_type": "stream",
          "name": "stdout",
          "text": [
            "3.5\n"
          ]
        }
      ],
      "source": [
        "a = str(3.5)\n",
        "float_a = float(a)\n",
        "print(float_a)"
      ]
    },
    {
      "cell_type": "code",
      "execution_count": null,
      "metadata": {
        "id": "8e3JyYQoTvzF"
      },
      "outputs": [],
      "source": [
        "# string은 글자가 숫자일때만 형변환이 가능합니다.\n",
        "# 변수 a에 문자열 'hi'를 할당하고 integer로 변환해봅시다."
      ]
    },
    {
      "cell_type": "code",
      "execution_count": null,
      "metadata": {
        "colab": {
          "base_uri": "https://localhost:8080/",
          "height": 193
        },
        "id": "ljl1PCxzTvzG",
        "outputId": "719960cf-9ef4-43ee-ca99-1ea2bada03fa"
      },
      "outputs": [
        {
          "output_type": "error",
          "ename": "ValueError",
          "evalue": "ignored",
          "traceback": [
            "\u001b[0;31m---------------------------------------------------------------------------\u001b[0m",
            "\u001b[0;31mValueError\u001b[0m                                Traceback (most recent call last)",
            "\u001b[0;32m<ipython-input-27-8b329c8176bc>\u001b[0m in \u001b[0;36m<module>\u001b[0;34m\u001b[0m\n\u001b[1;32m      1\u001b[0m \u001b[0ma\u001b[0m \u001b[0;34m=\u001b[0m \u001b[0;34m'hi'\u001b[0m\u001b[0;34m\u001b[0m\u001b[0;34m\u001b[0m\u001b[0m\n\u001b[0;32m----> 2\u001b[0;31m \u001b[0mb\u001b[0m \u001b[0;34m=\u001b[0m \u001b[0mint\u001b[0m\u001b[0;34m(\u001b[0m\u001b[0ma\u001b[0m\u001b[0;34m)\u001b[0m\u001b[0;34m\u001b[0m\u001b[0;34m\u001b[0m\u001b[0m\n\u001b[0m",
            "\u001b[0;31mValueError\u001b[0m: invalid literal for int() with base 10: 'hi'"
          ]
        }
      ],
      "source": [
        "a = 'hi'\n",
        "b = int(a)"
      ]
    },
    {
      "cell_type": "code",
      "execution_count": null,
      "metadata": {
        "id": "AhM3g505TvzG"
      },
      "outputs": [],
      "source": [
        "# string 3.5를 int로 변환할 수는 없습니다.\n",
        "# 변수 a에 string 3.5를 저장하고 integer로 변환하고 오류를 확인해봅시다."
      ]
    },
    {
      "cell_type": "code",
      "execution_count": null,
      "metadata": {
        "colab": {
          "base_uri": "https://localhost:8080/",
          "height": 193
        },
        "id": "Ga8hPkimTvzG",
        "outputId": "e4f7ab52-244e-4f66-c62e-2a1b02d6a57c"
      },
      "outputs": [
        {
          "output_type": "error",
          "ename": "ValueError",
          "evalue": "ignored",
          "traceback": [
            "\u001b[0;31m---------------------------------------------------------------------------\u001b[0m",
            "\u001b[0;31mValueError\u001b[0m                                Traceback (most recent call last)",
            "\u001b[0;32m<ipython-input-29-a6176a0fc982>\u001b[0m in \u001b[0;36m<module>\u001b[0;34m\u001b[0m\n\u001b[1;32m      1\u001b[0m \u001b[0ma\u001b[0m \u001b[0;34m=\u001b[0m \u001b[0mstr\u001b[0m\u001b[0;34m(\u001b[0m\u001b[0;36m3.5\u001b[0m\u001b[0;34m)\u001b[0m\u001b[0;34m\u001b[0m\u001b[0;34m\u001b[0m\u001b[0m\n\u001b[0;32m----> 2\u001b[0;31m \u001b[0mint_a\u001b[0m \u001b[0;34m=\u001b[0m \u001b[0mint\u001b[0m\u001b[0;34m(\u001b[0m\u001b[0ma\u001b[0m\u001b[0;34m)\u001b[0m\u001b[0;34m\u001b[0m\u001b[0;34m\u001b[0m\u001b[0m\n\u001b[0m",
            "\u001b[0;31mValueError\u001b[0m: invalid literal for int() with base 10: '3.5'"
          ]
        }
      ],
      "source": [
        "a = str(3.5)\n",
        "int_a = int(a)"
      ]
    },
    {
      "cell_type": "code",
      "execution_count": null,
      "metadata": {
        "id": "-gbtXMkRTvzG"
      },
      "outputs": [],
      "source": [
        "# float 3.5는 int로 변환이 가능합니다.\n",
        "# 변수 a에 실수 3.5를 저장하고 integer로 변환해봅시다."
      ]
    },
    {
      "cell_type": "code",
      "execution_count": null,
      "metadata": {
        "id": "VJoi0hFDTvzG"
      },
      "outputs": [],
      "source": [
        "a = str(3.5)\n",
        "a = float(a)"
      ]
    },
    {
      "cell_type": "markdown",
      "metadata": {
        "id": "VAkPvSy1TvzG"
      },
      "source": [
        "## 컨테이너형 형변환\n",
        "\n",
        "파이썬에서 컨테이너는 서로 변환할 수 있습니다.\n",
        "\n",
        "<img width=\"708\" alt=\"typecasting\" src=\"https://user-images.githubusercontent.com/18046097/61180466-a6a67780-a651-11e9-8c0a-adb9e1ee04de.png\">\n"
      ]
    },
    {
      "cell_type": "code",
      "execution_count": null,
      "metadata": {
        "id": "q3ZnvlTRTvzG"
      },
      "outputs": [],
      "source": [
        "# 하나의 결과를 확인 한 후, 주석 `#` 을 활용하여 이전의 코드를 비활성화 합니다.\n",
        "# 형변환 후의 결과를 확인 합니다."
      ]
    },
    {
      "cell_type": "code",
      "execution_count": null,
      "metadata": {
        "id": "owPmwvcETvzH"
      },
      "outputs": [],
      "source": [
        "# list를 형변환 해봅시다."
      ]
    },
    {
      "cell_type": "code",
      "execution_count": null,
      "metadata": {
        "colab": {
          "base_uri": "https://localhost:8080/"
        },
        "id": "epq_0pbdTvzH",
        "outputId": "7b31939c-c349-4b28-c1a6-4e226cd1f4fc"
      },
      "outputs": [
        {
          "output_type": "stream",
          "name": "stdout",
          "text": [
            "[\n",
            "(1, 2, 3, 4)\n",
            "{1, 2, 3, 4}\n"
          ]
        }
      ],
      "source": [
        "l = [1, 2, 3, 4]\n",
        "print(str(l)[0])\n",
        "print(tuple(l))\n",
        "print(set(l))\n",
        "# range(l)\n",
        "# dict(l)"
      ]
    },
    {
      "cell_type": "code",
      "execution_count": null,
      "metadata": {
        "id": "HEM_i1jbTvzH"
      },
      "outputs": [],
      "source": [
        "# tuple을 형변환 해봅시다."
      ]
    },
    {
      "cell_type": "code",
      "execution_count": null,
      "metadata": {
        "colab": {
          "base_uri": "https://localhost:8080/"
        },
        "id": "0xz0wVO4TvzH",
        "outputId": "3339dd46-495c-4443-c6fb-e60afcb17bc2"
      },
      "outputs": [
        {
          "output_type": "stream",
          "name": "stdout",
          "text": [
            "[\n",
            "(1, 2, 3, 4)\n",
            "{1, 2, 3, 4}\n"
          ]
        }
      ],
      "source": [
        "t = (1, 2, 3, 4)\n",
        "print(str(l)[0])\n",
        "print(tuple(l))\n",
        "print(set(l))\n",
        "# range(t)\n",
        "# dict(t)"
      ]
    },
    {
      "cell_type": "code",
      "execution_count": null,
      "metadata": {
        "id": "AGXRXbcqTvzH"
      },
      "outputs": [],
      "source": [
        "# range를 형변환 해봅시다."
      ]
    },
    {
      "cell_type": "code",
      "execution_count": null,
      "metadata": {
        "colab": {
          "base_uri": "https://localhost:8080/"
        },
        "id": "6owLnvjOTvzH",
        "outputId": "b09723f5-e97b-474b-a386-c653bc442428"
      },
      "outputs": [
        {
          "output_type": "stream",
          "name": "stdout",
          "text": [
            "[\n",
            "(1, 2, 3, 4)\n",
            "{1, 2, 3, 4}\n",
            "[1, 2, 3, 4]\n"
          ]
        }
      ],
      "source": [
        "r = range(1, 5)\n",
        "print(str(l)[0])\n",
        "print(tuple(l))\n",
        "print(set(l))\n",
        "print(list(l))\n",
        "# dict(r)"
      ]
    },
    {
      "cell_type": "code",
      "execution_count": null,
      "metadata": {
        "id": "kcjVvldeTvzH"
      },
      "outputs": [],
      "source": [
        "# set을 형변환 해봅시다."
      ]
    },
    {
      "cell_type": "code",
      "execution_count": null,
      "metadata": {
        "colab": {
          "base_uri": "https://localhost:8080/"
        },
        "id": "J0KgsJHYTvzI",
        "outputId": "489b40ab-c167-44c2-d359-d0b82e900b44"
      },
      "outputs": [
        {
          "output_type": "execute_result",
          "data": {
            "text/plain": [
              "(1, 2, 3, 4)"
            ]
          },
          "metadata": {},
          "execution_count": 40
        }
      ],
      "source": [
        "s = {1, 2, 3, 4}\n",
        "str(s)\n",
        "list(s)\n",
        "tuple(s)\n",
        "# range(s)\n",
        "# dict(s)"
      ]
    },
    {
      "cell_type": "code",
      "execution_count": null,
      "metadata": {
        "id": "iaM9QEVxTvzI"
      },
      "outputs": [],
      "source": [
        "# dictionary를 형변환 해봅시다."
      ]
    },
    {
      "cell_type": "code",
      "execution_count": null,
      "metadata": {
        "colab": {
          "base_uri": "https://localhost:8080/"
        },
        "id": "_85CiuYHTvzI",
        "outputId": "7edddcca-4604-4363-db14-c44871d0f618"
      },
      "outputs": [
        {
          "output_type": "execute_result",
          "data": {
            "text/plain": [
              "{'name', 'year'}"
            ]
          },
          "metadata": {},
          "execution_count": 42
        }
      ],
      "source": [
        "d = {'name': 'ssafy', 'year': 2020}\n",
        "str(d)\n",
        "list(d)\n",
        "tuple(d)\n",
        "set(d)\n",
        "# range(d)"
      ]
    },
    {
      "cell_type": "markdown",
      "metadata": {
        "id": "C-UiAes3TvzI"
      },
      "source": [
        "# 정리\n",
        "## 컨테이너(Container)\n",
        "<center><img src=\"https://user-images.githubusercontent.com/18046097/61180439-44e60d80-a651-11e9-9adc-e60fa57c2165.png\", alt=\"container\"/></center>"
      ]
    },
    {
      "cell_type": "markdown",
      "metadata": {
        "id": "ZO62Oy8ITvzI"
      },
      "source": [
        "# 정리\n",
        "## 컨테이너(Container)\n",
        "<center><img src=\"https://user-images.githubusercontent.com/18046097/61180439-44e60d80-a651-11e9-9adc-e60fa57c2165.png\", alt=\"container\"/></center>"
      ]
    },
    {
      "cell_type": "markdown",
      "metadata": {
        "id": "aEjex2xITvzI"
      },
      "source": [
        "# 연산자(Operator)\n",
        "\n",
        "- 산술 연산자(Arithmetic Operator)\n",
        "- 비교 연산자(Comparison Operator)\n",
        "- 논리 연산자(Logical Operator)\n",
        "- 복합 연산자(In-place Operator)\n",
        "- 멤버십 연산자(Membership Operator)\n",
        "- 식별 연산자(Identity Operator)\n",
        "- 기타 (Indexing/Slicing)"
      ]
    },
    {
      "cell_type": "markdown",
      "metadata": {
        "id": "TA7Uafe1TvzJ"
      },
      "source": [
        "## 산술 연산자 (Arithmetic Operator)\n",
        "Python에서는 기본적인 사칙연산이 가능합니다. \n",
        "\n",
        "|연산자|내용|\n",
        "|----|---|\n",
        "|+|덧셈|\n",
        "|-|뺄셈|\n",
        "|\\*|곱셈|\n",
        "|/|나눗셈|\n",
        "|//|몫|\n",
        "|%|나머지(modulo)|\n",
        "|\\*\\*|거듭제곱|\n",
        "\n",
        "- 나눗셈 (`/`) 은 항상 float를 돌려줍니다.\n",
        "- 정수 나눗셈 으로 (소수부 없이) 정수 결과를 얻으려면 `//` 연산자를 사용합니다.\n"
      ]
    },
    {
      "cell_type": "code",
      "execution_count": null,
      "metadata": {
        "id": "PZefCS-2TvzJ"
      },
      "outputs": [],
      "source": [
        "# 2의 1000승을 확인해봅시다."
      ]
    },
    {
      "cell_type": "code",
      "execution_count": null,
      "metadata": {
        "colab": {
          "base_uri": "https://localhost:8080/"
        },
        "id": "OOdTji1nTvzJ",
        "outputId": "0a5b37b3-83d0-4d33-b365-a165984a4968"
      },
      "outputs": [
        {
          "output_type": "execute_result",
          "data": {
            "text/plain": [
              "10715086071862673209484250490600018105614048117055336074437503883703510511249361224931983788156958581275946729175531468251871452856923140435984577574698574803934567774824230985421074605062371141877954182153046474983581941267398767559165543946077062914571196477686542167660429831652624386837205668069376"
            ]
          },
          "metadata": {},
          "execution_count": 44
        }
      ],
      "source": [
        "2**1000"
      ]
    },
    {
      "cell_type": "code",
      "execution_count": null,
      "metadata": {
        "id": "eNEkQSDjTvzJ"
      },
      "outputs": [],
      "source": [
        "# 나눗셈과 관련된 산술연산자를 활용해봅시다.\n",
        "# 5와 2를 나눈 값을 출력해봅시다.\n",
        "# 5와 2를 나눈 값의 몫을 출력해봅시다.\n",
        "# 5와 2를 나눈 값을 integer로 형변환해봅시다.\n",
        "# 5와 2를 나눈 값의 나머지를 출력해봅시다."
      ]
    },
    {
      "cell_type": "code",
      "execution_count": null,
      "metadata": {
        "colab": {
          "base_uri": "https://localhost:8080/"
        },
        "id": "66aTB9JdTvzJ",
        "outputId": "af3711b9-e2ab-40c6-83e0-536b868d210a"
      },
      "outputs": [
        {
          "output_type": "stream",
          "name": "stdout",
          "text": [
            "2.5\n",
            "2\n",
            "2\n",
            "1\n"
          ]
        }
      ],
      "source": [
        "print(5/2)\n",
        "print(5//2)\n",
        "print(int(5/2))\n",
        "print(5%2)"
      ]
    },
    {
      "cell_type": "code",
      "execution_count": null,
      "metadata": {
        "id": "nZHfoI8cTvzJ"
      },
      "outputs": [],
      "source": [
        "# divmod는 나눗셈과 관련된 함수입니다.\n",
        "# divmode() 에 5와 2를 넣고 결과를 print로 확인해봅시다.\n",
        "# 변수 quotient, remainder 에 divmode(5, 2)의 값을 할당해봅시다.\n",
        "# f-string을 활용하여 quorient와 remainder의 값을 출력해봅시다."
      ]
    },
    {
      "cell_type": "code",
      "execution_count": null,
      "metadata": {
        "colab": {
          "base_uri": "https://localhost:8080/"
        },
        "id": "JwtD0RIkTvzJ",
        "outputId": "7d99d89c-16a2-4f20-f10a-2549ebd7335d"
      },
      "outputs": [
        {
          "output_type": "stream",
          "name": "stdout",
          "text": [
            "몫은 2이며, 나머지는 1입니다.\n"
          ]
        }
      ],
      "source": [
        "divmod(5,2)\n",
        "quotient, remainder = divmod(5,2)\n",
        "print(f\"몫은 {quotient}이며, 나머지는 {remainder}입니다.\")"
      ]
    },
    {
      "cell_type": "code",
      "execution_count": null,
      "metadata": {
        "id": "6pBIy5bjTvzJ"
      },
      "outputs": [],
      "source": [
        "# 음수 양수 표현도 해봅시다.\n",
        "# 변수 positive_num 에 4를 할당하고 print할 때 -를 붙여서 print로 출력해봅시다.\n",
        "# 변수 negative_num 에 -4를 할당하고 print할 때 + 와 - 를 붙여서 각각을 print로 출력해봅시다."
      ]
    },
    {
      "cell_type": "code",
      "execution_count": null,
      "metadata": {
        "colab": {
          "base_uri": "https://localhost:8080/"
        },
        "id": "BQ6JJPNvTvzJ",
        "outputId": "d4c25916-66f3-4a3a-b79f-ef0175c0c9ac"
      },
      "outputs": [
        {
          "output_type": "stream",
          "name": "stdout",
          "text": [
            "-4\n",
            "4\n",
            "-4\n"
          ]
        }
      ],
      "source": [
        "positive_num = 4\n",
        "print(-positive_num)\n",
        "negative_num = -4\n",
        "print(-negative_num)\n",
        "print(+negative_num)"
      ]
    },
    {
      "cell_type": "markdown",
      "metadata": {
        "id": "bz72p_wHTvzK"
      },
      "source": [
        "## 비교 연산자 (Comparison Operator)\n",
        "\n",
        "우리가 수학에서 배운 연산자와 동일하게 값을 비교할 수 있습니다.\n",
        "\n",
        "|연산자|내용|\n",
        "|----|---|\n",
        "|`<`|미만|\n",
        "|`<=`|이하|\n",
        "|`>`|초과|\n",
        "|`>=`|이상|\n",
        "|`==`|같음|\n",
        "|`!=`|같지않음|\n",
        "|`is`|객체 아이덴티티|\n",
        "|`is not`|객체 아이덴티티가 아닌경우|\n"
      ]
    },
    {
      "cell_type": "code",
      "execution_count": null,
      "metadata": {
        "id": "X-zX4A_STvzK"
      },
      "outputs": [],
      "source": [
        "# 숫자의 대소관계를 비교해봅시다.\n",
        "# 아무 정수 2개를 비교해봅시다."
      ]
    },
    {
      "cell_type": "code",
      "execution_count": null,
      "metadata": {
        "colab": {
          "base_uri": "https://localhost:8080/"
        },
        "id": "nFwYvdCgTvzK",
        "outputId": "b9ed6650-de96-45ce-dc48-be62351052dc"
      },
      "outputs": [
        {
          "output_type": "execute_result",
          "data": {
            "text/plain": [
              "True"
            ]
          },
          "metadata": {},
          "execution_count": 53
        }
      ],
      "source": [
        "2 > 1"
      ]
    },
    {
      "cell_type": "code",
      "execution_count": null,
      "metadata": {
        "id": "Eqs9_GnmTvzK"
      },
      "outputs": [],
      "source": [
        "# 다른 숫자인지 확인해봅시다.\n",
        "# 3의 정수형과 실수형이 같은지 비교해봅시다."
      ]
    },
    {
      "cell_type": "code",
      "execution_count": null,
      "metadata": {
        "colab": {
          "base_uri": "https://localhost:8080/"
        },
        "id": "q-kI5-YgTvzK",
        "outputId": "bbb2769f-7f8b-4b31-bb54-251cc01ce1e1"
      },
      "outputs": [
        {
          "output_type": "execute_result",
          "data": {
            "text/plain": [
              "True"
            ]
          },
          "metadata": {},
          "execution_count": 55
        }
      ],
      "source": [
        "int(3) == float(3)"
      ]
    },
    {
      "cell_type": "code",
      "execution_count": null,
      "metadata": {
        "id": "6657d-U6TvzK"
      },
      "outputs": [],
      "source": [
        "# 같은 숫자인지 확인해봅시다.\n",
        "# 같은 숫자를 != 를 확인하여 비교해봅시다."
      ]
    },
    {
      "cell_type": "code",
      "execution_count": null,
      "metadata": {
        "colab": {
          "base_uri": "https://localhost:8080/"
        },
        "id": "NEKQaOyFTvzK",
        "outputId": "d1e67ed0-dcd3-40f1-cb0a-80cf07e1fd25"
      },
      "outputs": [
        {
          "output_type": "execute_result",
          "data": {
            "text/plain": [
              "False"
            ]
          },
          "metadata": {},
          "execution_count": 57
        }
      ],
      "source": [
        "3 != 3"
      ]
    },
    {
      "cell_type": "code",
      "execution_count": null,
      "metadata": {
        "id": "KQum0-_FTvzK"
      },
      "outputs": [],
      "source": [
        "# 문자열도 같은지 확인해봅시다.\n",
        "# 대문자 HI와 소문자 hi가 같은지 확인해 봅시다."
      ]
    },
    {
      "cell_type": "code",
      "execution_count": null,
      "metadata": {
        "colab": {
          "base_uri": "https://localhost:8080/"
        },
        "id": "3oiTBMtCTvzK",
        "outputId": "8e0521d1-cf5f-49c8-99e4-163a05f8fc09"
      },
      "outputs": [
        {
          "output_type": "execute_result",
          "data": {
            "text/plain": [
              "False"
            ]
          },
          "metadata": {},
          "execution_count": 59
        }
      ],
      "source": [
        "str('HI') == str('hi')"
      ]
    },
    {
      "cell_type": "code",
      "execution_count": null,
      "metadata": {
        "colab": {
          "base_uri": "https://localhost:8080/"
        },
        "id": "LnqNvojUTvzL",
        "outputId": "e52b1be1-2154-467c-ad67-d3ef65289fa5"
      },
      "outputs": [
        {
          "output_type": "execute_result",
          "data": {
            "text/plain": [
              "False"
            ]
          },
          "metadata": {},
          "execution_count": 60
        }
      ],
      "source": [
        "# 특정 변수가 비어있는지 확인하기 위해서는\n",
        "# x == None이 아닌 x is None을 쓰는 것을 권장합니다.\n",
        "# 상세한 내용은 OOP 챕터에서 확인해 봅시다.\n",
        "x = 3\n",
        "x is None"
      ]
    },
    {
      "cell_type": "markdown",
      "metadata": {
        "id": "rjOEL7AcTvzL"
      },
      "source": [
        "## 논리 연산자\n",
        "\n",
        "|연산자|내용|\n",
        "|---|---|\n",
        "|a and b|a와 b 모두 True시만 True|\n",
        "|a or b|a 와 b 모두 False시만 False|\n",
        "|not a|True -> False, False -> True|\n",
        "\n",
        "다른 언어에서 논리연산자로 주로 사용하는 `&` 과 `|`은 파이썬에서 비트 연산자입니다."
      ]
    },
    {
      "cell_type": "code",
      "execution_count": null,
      "metadata": {
        "id": "oaUMwIMoTvzL"
      },
      "outputs": [],
      "source": [
        "# and과 관련해서 모든 경우를 출력해봅시다.\n",
        "# True와 False를 이용하여 and 의 모든 경우의 수(4개)를 출력해봅시다. \n",
        "# (True and True), (True and False), ..."
      ]
    },
    {
      "cell_type": "code",
      "execution_count": null,
      "metadata": {
        "colab": {
          "base_uri": "https://localhost:8080/"
        },
        "id": "AF4f6qPPTvzL",
        "outputId": "8d43bc87-0af4-41af-abc1-dee8232adb8c"
      },
      "outputs": [
        {
          "output_type": "stream",
          "name": "stdout",
          "text": [
            "True\n",
            "False\n",
            "False\n",
            "False\n"
          ]
        }
      ],
      "source": [
        "print(True and True)\n",
        "print(True and False)\n",
        "print(False and True)\n",
        "print(False and False)"
      ]
    },
    {
      "cell_type": "code",
      "execution_count": null,
      "metadata": {
        "id": "4-mfNcFcTvzL"
      },
      "outputs": [],
      "source": [
        "# or과 관련해서 모든 경우를 출력해봅시다.\n",
        "# True와 False를 이용하여 or 의 모든 경우의 수(4개)를 출력해봅시다.\n",
        "# (True or True), (True or False), ..."
      ]
    },
    {
      "cell_type": "code",
      "execution_count": null,
      "metadata": {
        "colab": {
          "base_uri": "https://localhost:8080/"
        },
        "id": "IT_UVIC_TvzL",
        "outputId": "5b8be76e-90a0-444d-aa9f-48b0438c2d85"
      },
      "outputs": [
        {
          "output_type": "stream",
          "name": "stdout",
          "text": [
            "True\n",
            "True\n",
            "True\n",
            "False\n"
          ]
        }
      ],
      "source": [
        "print(True or True)\n",
        "print(True or False)\n",
        "print(False or True)\n",
        "print(False or False)"
      ]
    },
    {
      "cell_type": "code",
      "execution_count": null,
      "metadata": {
        "id": "9pvj1oC0TvzL"
      },
      "outputs": [],
      "source": [
        "# not을 활용해봅시다.\n",
        "# print를 이용하여 True 와 0의 not 값을 각각 확인해봅시다."
      ]
    },
    {
      "cell_type": "code",
      "execution_count": null,
      "metadata": {
        "colab": {
          "base_uri": "https://localhost:8080/"
        },
        "id": "3UWRym6_TvzL",
        "outputId": "3d248a5a-c0c7-4360-8920-608201ceecca"
      },
      "outputs": [
        {
          "output_type": "stream",
          "name": "stdout",
          "text": [
            "False\n",
            "True\n"
          ]
        }
      ],
      "source": [
        "print(not True)\n",
        "print(not 0)"
      ]
    },
    {
      "cell_type": "markdown",
      "metadata": {
        "id": "WQ7J-cLTTvzL"
      },
      "source": [
        "* 파이썬에서 and는 a가 거짓이면 a를 리턴하고, 참이면 b를 리턴합니다.\n",
        "* 파이썬에서 or은 a가 참이면 a를 리턴하고, 거짓이면 b를 리턴합니다."
      ]
    },
    {
      "cell_type": "markdown",
      "metadata": {
        "id": "qifPw3KVTvzM"
      },
      "source": [
        "논리연산자는 비교연산자와 함께 사용 가능합니다."
      ]
    },
    {
      "cell_type": "code",
      "execution_count": null,
      "metadata": {
        "colab": {
          "base_uri": "https://localhost:8080/"
        },
        "id": "MypCpytmTvzM",
        "outputId": "bdf63531-852c-4754-9d66-133437dd6b10"
      },
      "outputs": [
        {
          "output_type": "execute_result",
          "data": {
            "text/plain": [
              "True"
            ]
          },
          "metadata": {},
          "execution_count": 68
        }
      ],
      "source": [
        "num = 100\n",
        "num >= 100 and num % 3 == 1"
      ]
    },
    {
      "cell_type": "markdown",
      "metadata": {
        "id": "-ogRsP65TvzM"
      },
      "source": [
        "### 단축평가\n",
        "* 첫 번째 값이 확실할 때, 두 번째 값은 확인 하지 않습니다.\n",
        "* 조건문에서 뒷 부분을 판단하지 않아도 되기 때문에 속도가 향상됩니다."
      ]
    },
    {
      "cell_type": "code",
      "execution_count": null,
      "metadata": {
        "id": "bekOFBnMTvzM"
      },
      "outputs": [],
      "source": [
        "# 문자열 'a'와 'b'의 and 값이 무엇인지 확인해봅시다."
      ]
    },
    {
      "cell_type": "code",
      "execution_count": null,
      "metadata": {
        "colab": {
          "base_uri": "https://localhost:8080/",
          "height": 35
        },
        "id": "BeMtoW93TvzM",
        "outputId": "a0036084-e977-48b5-a38b-a012c1dc8685"
      },
      "outputs": [
        {
          "output_type": "execute_result",
          "data": {
            "text/plain": [
              "'b'"
            ],
            "application/vnd.google.colaboratory.intrinsic+json": {
              "type": "string"
            }
          },
          "metadata": {},
          "execution_count": 70
        }
      ],
      "source": [
        "'a' and 'b'"
      ]
    },
    {
      "cell_type": "code",
      "execution_count": null,
      "metadata": {
        "id": "g8MF6kd8TvzM"
      },
      "outputs": [],
      "source": [
        "# 문자열 'a'와 'b'의 or 값이 무엇인지 확인해봅시다."
      ]
    },
    {
      "cell_type": "code",
      "execution_count": null,
      "metadata": {
        "colab": {
          "base_uri": "https://localhost:8080/",
          "height": 35
        },
        "id": "qyW96yc1TvzM",
        "outputId": "dd12a443-ffb0-4f89-db9a-2bb3ff913ade"
      },
      "outputs": [
        {
          "output_type": "execute_result",
          "data": {
            "text/plain": [
              "'a'"
            ],
            "application/vnd.google.colaboratory.intrinsic+json": {
              "type": "string"
            }
          },
          "metadata": {},
          "execution_count": 71
        }
      ],
      "source": [
        "'a' or 'b'"
      ]
    },
    {
      "cell_type": "code",
      "execution_count": null,
      "metadata": {
        "id": "gBIbIDqmTvzM"
      },
      "outputs": [],
      "source": [
        "vowels = 'aeiou'"
      ]
    },
    {
      "cell_type": "code",
      "execution_count": null,
      "metadata": {
        "id": "FV2I2JvoTvzN"
      },
      "outputs": [],
      "source": [
        "# 'a' and 'b' 의 결과값이 vowels에 포함이 되었는지 확인해봅시다."
      ]
    },
    {
      "cell_type": "code",
      "execution_count": null,
      "metadata": {
        "colab": {
          "base_uri": "https://localhost:8080/"
        },
        "id": "v9MkbzEqTvzN",
        "outputId": "b9720730-9e2c-4194-bde9-203e77d0043b"
      },
      "outputs": [
        {
          "output_type": "execute_result",
          "data": {
            "text/plain": [
              "False"
            ]
          },
          "metadata": {},
          "execution_count": 78
        }
      ],
      "source": [
        "'a' and 'b' <= vowels"
      ]
    },
    {
      "cell_type": "code",
      "execution_count": null,
      "metadata": {
        "id": "pYuBnX5RTvzN"
      },
      "outputs": [],
      "source": [
        "# 'b' and 'a' 의 결과값이 vowels에 포함이 되었는지 확인해봅시다. "
      ]
    },
    {
      "cell_type": "code",
      "execution_count": null,
      "metadata": {
        "colab": {
          "base_uri": "https://localhost:8080/"
        },
        "id": "MSJ-pDnqTvzN",
        "outputId": "dd37f527-4c7a-4a21-b359-3ff1de5ca06a"
      },
      "outputs": [
        {
          "output_type": "execute_result",
          "data": {
            "text/plain": [
              "True"
            ]
          },
          "metadata": {},
          "execution_count": 79
        }
      ],
      "source": [
        "'b' and 'a' <= vowels"
      ]
    },
    {
      "cell_type": "markdown",
      "metadata": {
        "id": "YQnYqmIoTvzN"
      },
      "source": [
        "- `and` 는 둘 다 `True`일 경우만 `True`이기 때문에 첫 번째 값이 `True`라도 두번째 값을 확인해야 하기 때문에 `'b'`가 반환됩니다.\n",
        "- `or` 는 하나만 `True`라도 `True`이기 때문에 `True`를 만나면 해당 값을 바로 반환합니다."
      ]
    },
    {
      "cell_type": "code",
      "execution_count": null,
      "metadata": {
        "id": "Hmla9lsiTvzN"
      },
      "outputs": [],
      "source": [
        "# and의 단축평가(short-circuit evaluation)에 대해서 알아봅시다.\n",
        "# (3 and 5) , (3 and 0), (0 and 3), (0 and 0) 의 결과를 print로 출력해봅시다."
      ]
    },
    {
      "cell_type": "code",
      "execution_count": null,
      "metadata": {
        "colab": {
          "base_uri": "https://localhost:8080/"
        },
        "id": "r83-VJh3TvzN",
        "outputId": "41daf3b8-336c-46c1-8ec3-fb2f538fe687"
      },
      "outputs": [
        {
          "output_type": "stream",
          "name": "stdout",
          "text": [
            "5\n",
            "0\n",
            "0\n",
            "0\n"
          ]
        }
      ],
      "source": [
        "print(3 and 5)\n",
        "print(3 and 0)\n",
        "print(0 and 3)\n",
        "print(0 and 0)"
      ]
    },
    {
      "cell_type": "code",
      "execution_count": null,
      "metadata": {
        "id": "RDwsNR1STvzN"
      },
      "outputs": [],
      "source": [
        "# or의 단축평가(short-circuit evaluation)에 대해서 알아봅시다.\n",
        "# (3 or 5) , (3 or 0), (0 or 3), (0 or 0) 의 결과를 print로 출력해봅시다."
      ]
    },
    {
      "cell_type": "code",
      "execution_count": null,
      "metadata": {
        "colab": {
          "base_uri": "https://localhost:8080/"
        },
        "id": "c9WDOVA5TvzO",
        "outputId": "00019207-a553-48b4-87ff-e04744ff39db"
      },
      "outputs": [
        {
          "output_type": "stream",
          "name": "stdout",
          "text": [
            "5\n",
            "3\n",
            "3\n",
            "0\n"
          ]
        }
      ],
      "source": [
        "print(5 or 3)\n",
        "print(3 or 0)\n",
        "print(0 or 3)\n",
        "print(0 or 0)"
      ]
    },
    {
      "cell_type": "markdown",
      "metadata": {
        "id": "rWbqVSB7TvzO"
      },
      "source": [
        "## 복합 연산자\n",
        "\n",
        "복합 연산자는 연산과 할당이 함께 이뤄집니다. \n",
        "\n",
        "반복문을 통해서 갯수를 카운트할 때 자주 사용합니다.\n",
        "\n",
        "|연산자|내용|\n",
        "|----|---|\n",
        "|a += b|a = a + b|\n",
        "|a -= b|a = a - b|\n",
        "|a \\*= b|a = a \\* b|\n",
        "|a /= b|a = a / b|\n",
        "|a //= b|a = a // b|\n",
        "|a %= b|a = a % b|\n",
        "|a \\*\\*= b|a = a ** b|"
      ]
    },
    {
      "cell_type": "code",
      "execution_count": null,
      "metadata": {
        "id": "MioG5vU7TvzO"
      },
      "outputs": [],
      "source": [
        "# 복합연산자는 사용 예시\n",
        "\n",
        "# 0으로 할당된 변수 cnt 를\n",
        "# 반복문 while 을 이용하여 5회 반복하는데\n",
        "# 반복하는 동안 cnt를 print로 출력하고 cnt에 1씩 더해봅시다.\n",
        "# 단, cnt 를 더할때는 복합연산자를 사용해봅시다."
      ]
    },
    {
      "cell_type": "code",
      "execution_count": null,
      "metadata": {
        "colab": {
          "base_uri": "https://localhost:8080/"
        },
        "id": "UdQhJFk8TvzO",
        "outputId": "5d66d0d9-a662-44d9-8c5a-6532c90f086e"
      },
      "outputs": [
        {
          "output_type": "stream",
          "name": "stdout",
          "text": [
            "0\n",
            "1\n",
            "2\n",
            "3\n",
            "4\n"
          ]
        }
      ],
      "source": [
        "cnt = 0\n",
        "while cnt < 5:\n",
        "    print(cnt)\n",
        "    cnt += 1"
      ]
    },
    {
      "cell_type": "markdown",
      "metadata": {
        "id": "0x5IfmvkTvzO"
      },
      "source": [
        "## 식별 연산자 (Identity Operator)\n",
        "\n",
        "`is` 연산자를 통해 동일한 object인지 확인할 수 있습니다. \n",
        "\n",
        "(OOP 챕터에서 다시 학습합니다.)"
      ]
    },
    {
      "cell_type": "code",
      "execution_count": null,
      "metadata": {
        "id": "YK2GQKxOTvzO"
      },
      "outputs": [],
      "source": [
        "# 파이썬에서 -5 부터 256 까지의 id는 동일합니다.\n",
        "# 변수 a에는 3을 변수 b에는 3을 할당해봅시다.\n",
        "# a 와 b 가 동일한 object인지 is 연산자를 통해 확인해봅시다.\n",
        "# 그리고 a와 b의 id 값을 각각 출력해 봅시다."
      ]
    },
    {
      "cell_type": "code",
      "execution_count": null,
      "metadata": {
        "colab": {
          "base_uri": "https://localhost:8080/"
        },
        "id": "f0nJFCZ8TvzO",
        "outputId": "14d77d7b-2bf8-44d0-ee39-85e67e658f7f"
      },
      "outputs": [
        {
          "output_type": "stream",
          "name": "stdout",
          "text": [
            "True\n",
            "11530976\n",
            "11530976\n"
          ]
        }
      ],
      "source": [
        "a = 3\n",
        "b = 3\n",
        "print(a is b)\n",
        "print(id(a))\n",
        "print(id(b))"
      ]
    },
    {
      "cell_type": "code",
      "execution_count": null,
      "metadata": {
        "id": "7tXPKq65TvzO"
      },
      "outputs": [],
      "source": [
        "# 257 이후의 id 는 다릅니다.\n",
        "# 변수 a에는 257을 변수 b에는 257을 할당해봅시다.\n",
        "# a 와 b 가 동일한 object인지 is 연산자를 통해 확인해봅시다.\n",
        "# 그리고 a와 b의 id 값을 각각 출력해 봅시다."
      ]
    },
    {
      "cell_type": "code",
      "execution_count": null,
      "metadata": {
        "colab": {
          "base_uri": "https://localhost:8080/"
        },
        "id": "dcJavte-TvzP",
        "outputId": "c33e4b5c-c8ef-46cd-d9dd-75d5096fef19"
      },
      "outputs": [
        {
          "output_type": "stream",
          "name": "stdout",
          "text": [
            "False\n",
            "139928506550928\n",
            "139928506550576\n"
          ]
        }
      ],
      "source": [
        "a = 257\n",
        "b = 257\n",
        "print(a is b)\n",
        "print(id(a))\n",
        "print(id(b))"
      ]
    },
    {
      "cell_type": "markdown",
      "metadata": {
        "id": "ickv1RExTvzP"
      },
      "source": [
        "## 멤버십 연산자 (Membership Operatoe)\n",
        "\n",
        "요소가 시퀀스에 속해있는지 확인할 수 있습니다.\n",
        "- `in` 연산자\n",
        "- `not in` 연산자"
      ]
    },
    {
      "cell_type": "code",
      "execution_count": null,
      "metadata": {
        "id": "wabreQ63TvzP"
      },
      "outputs": [],
      "source": [
        "# 리스트안에 특정한 정수가 있는지 확인해봅시다.\n",
        "# 정수 1 이 [3, 2] 리스트에 속해있는지 확인해봅시다."
      ]
    },
    {
      "cell_type": "code",
      "execution_count": null,
      "metadata": {
        "colab": {
          "base_uri": "https://localhost:8080/"
        },
        "id": "7y8MTGNVTvzP",
        "outputId": "f6e83d03-c766-42e4-9e63-087dbd9afebb"
      },
      "outputs": [
        {
          "output_type": "execute_result",
          "data": {
            "text/plain": [
              "False"
            ]
          },
          "metadata": {},
          "execution_count": 92
        }
      ],
      "source": [
        "1 in [3,2]"
      ]
    },
    {
      "cell_type": "code",
      "execution_count": null,
      "metadata": {
        "id": "ssCTzMdLTvzP"
      },
      "outputs": [],
      "source": [
        "# 튜플안에 특정한 정수가 있는지 확인해봅시다.\n",
        "# 정수 5가 (1, 2, 'hi') 튜플에 속해있는지 확인해봅시다."
      ]
    },
    {
      "cell_type": "code",
      "execution_count": null,
      "metadata": {
        "colab": {
          "base_uri": "https://localhost:8080/"
        },
        "id": "GxmWsFvXTvzP",
        "outputId": "4df9245d-2256-4176-fe5f-3d0c41a89468"
      },
      "outputs": [
        {
          "output_type": "execute_result",
          "data": {
            "text/plain": [
              "False"
            ]
          },
          "metadata": {},
          "execution_count": 94
        }
      ],
      "source": [
        "5 in (1,2, 'hi')"
      ]
    },
    {
      "cell_type": "code",
      "execution_count": null,
      "metadata": {
        "id": "KZQKuK1WTvzP"
      },
      "outputs": [],
      "source": [
        "# range안에 특정한 정수가 있는지 확인해봅시다.\n",
        "# -3이 range(3) 에 속해있는지 확인해봅시다."
      ]
    },
    {
      "cell_type": "code",
      "execution_count": null,
      "metadata": {
        "colab": {
          "base_uri": "https://localhost:8080/"
        },
        "id": "aNfoxnhmTvzP",
        "outputId": "d1d1bab5-69e6-4c18-e287-fe38e1809ea7"
      },
      "outputs": [
        {
          "output_type": "execute_result",
          "data": {
            "text/plain": [
              "False"
            ]
          },
          "metadata": {},
          "execution_count": 96
        }
      ],
      "source": [
        "# \n",
        "-3 in range(3)"
      ]
    },
    {
      "cell_type": "code",
      "execution_count": null,
      "metadata": {
        "id": "3sn-ySGATvzP"
      },
      "outputs": [],
      "source": [
        "# 문자열안에 특정한 문자가 있는지 확인해봅시다.\n",
        "# 문자열 'a' 가 'apple' 에 속해있는지 확인해봅시다."
      ]
    },
    {
      "cell_type": "code",
      "execution_count": null,
      "metadata": {
        "colab": {
          "base_uri": "https://localhost:8080/"
        },
        "id": "MKqqCyUGTvzP",
        "outputId": "41615762-9b19-4f6a-fdbe-371e9a28b8a7"
      },
      "outputs": [
        {
          "output_type": "execute_result",
          "data": {
            "text/plain": [
              "True"
            ]
          },
          "metadata": {},
          "execution_count": 98
        }
      ],
      "source": [
        "'a' in 'apple'"
      ]
    },
    {
      "cell_type": "code",
      "execution_count": null,
      "metadata": {
        "id": "7av4YDIKTvzQ"
      },
      "outputs": [],
      "source": [
        "# 리스트안에 특정한 문자가 없는지 확인해봅시다.\n",
        "# 문자열 'b' 가 'apple' 에 속해있는지 확인해봅시다."
      ]
    },
    {
      "cell_type": "code",
      "execution_count": null,
      "metadata": {
        "colab": {
          "base_uri": "https://localhost:8080/"
        },
        "id": "SJOacHXTTvzQ",
        "outputId": "e22f1762-593e-4e86-e0ac-5415eb48e27d"
      },
      "outputs": [
        {
          "output_type": "execute_result",
          "data": {
            "text/plain": [
              "False"
            ]
          },
          "metadata": {},
          "execution_count": 100
        }
      ],
      "source": [
        "'b' in 'apple'"
      ]
    },
    {
      "cell_type": "markdown",
      "metadata": {
        "id": "HXFiHrrzTvzQ"
      },
      "source": [
        "## 시퀀스형 연산자(Sqeuence Type Operator)\n",
        "\n",
        "### 산술 연산자 (+)\n",
        "시퀀스를 연결(concatenation)할 수 있습니다. "
      ]
    },
    {
      "cell_type": "code",
      "execution_count": null,
      "metadata": {
        "id": "rd5uUARtTvzQ"
      },
      "outputs": [],
      "source": [
        "# 두 list [1, 2] 와 ['a'] 를 + 를 이용하여 합쳐봅시다."
      ]
    },
    {
      "cell_type": "code",
      "execution_count": null,
      "metadata": {
        "colab": {
          "base_uri": "https://localhost:8080/"
        },
        "id": "HJN_D4J_TvzQ",
        "outputId": "f903c5f5-ff88-43ff-a946-87beb1ac06e2"
      },
      "outputs": [
        {
          "output_type": "execute_result",
          "data": {
            "text/plain": [
              "[1, 2, 'a']"
            ]
          },
          "metadata": {},
          "execution_count": 101
        }
      ],
      "source": [
        "[1,2] + ['a']"
      ]
    },
    {
      "cell_type": "code",
      "execution_count": null,
      "metadata": {
        "id": "piD15YzeTvzQ"
      },
      "outputs": [],
      "source": [
        "# 두 튜플 (1, 2) 와 ('a',) 를 + 를 이용하여 합쳐봅시다."
      ]
    },
    {
      "cell_type": "code",
      "execution_count": null,
      "metadata": {
        "colab": {
          "base_uri": "https://localhost:8080/"
        },
        "id": "2-r3SOlSTvzQ",
        "outputId": "01b27718-51ba-49d2-ba08-c76fedd67dd2"
      },
      "outputs": [
        {
          "output_type": "execute_result",
          "data": {
            "text/plain": [
              "(1, 2, 'a')"
            ]
          },
          "metadata": {},
          "execution_count": 103
        }
      ],
      "source": [
        "(1,2) + ('a',)"
      ]
    },
    {
      "cell_type": "code",
      "execution_count": null,
      "metadata": {
        "id": "ilPyU9LtTvzQ"
      },
      "outputs": [],
      "source": [
        "# range에는 사용할 수 없습니다.\n",
        "# range(1), range(2, 5) 를 + 를 이용하여 합치고자 할 때 발생하는 오류를 확인해 봅시다."
      ]
    },
    {
      "cell_type": "code",
      "execution_count": null,
      "metadata": {
        "colab": {
          "base_uri": "https://localhost:8080/",
          "height": 174
        },
        "id": "09QaHBEITvzQ",
        "outputId": "9c36dfa0-7a11-4b0b-a06e-29a046b2afa8"
      },
      "outputs": [
        {
          "output_type": "error",
          "ename": "TypeError",
          "evalue": "ignored",
          "traceback": [
            "\u001b[0;31m---------------------------------------------------------------------------\u001b[0m",
            "\u001b[0;31mTypeError\u001b[0m                                 Traceback (most recent call last)",
            "\u001b[0;32m<ipython-input-105-875ff608c1e0>\u001b[0m in \u001b[0;36m<module>\u001b[0;34m\u001b[0m\n\u001b[0;32m----> 1\u001b[0;31m \u001b[0mrange\u001b[0m\u001b[0;34m(\u001b[0m\u001b[0;36m1\u001b[0m\u001b[0;34m)\u001b[0m \u001b[0;34m+\u001b[0m \u001b[0mrange\u001b[0m\u001b[0;34m(\u001b[0m\u001b[0;36m2\u001b[0m\u001b[0;34m,\u001b[0m\u001b[0;36m5\u001b[0m\u001b[0;34m)\u001b[0m\u001b[0;34m\u001b[0m\u001b[0;34m\u001b[0m\u001b[0m\n\u001b[0m",
            "\u001b[0;31mTypeError\u001b[0m: unsupported operand type(s) for +: 'range' and 'range'"
          ]
        }
      ],
      "source": [
        "range(1) + range(2,5)"
      ]
    },
    {
      "cell_type": "code",
      "execution_count": null,
      "metadata": {
        "id": "CfLtvcFTTvzR"
      },
      "outputs": [],
      "source": [
        "# 두 문자열 '12' 와 'a' 를 + 를 이용하여 합쳐봅시다."
      ]
    },
    {
      "cell_type": "code",
      "execution_count": null,
      "metadata": {
        "colab": {
          "base_uri": "https://localhost:8080/",
          "height": 35
        },
        "id": "m9p7gtLqTvzR",
        "outputId": "74198163-89c4-48ff-bd0c-be7475b24b05"
      },
      "outputs": [
        {
          "output_type": "execute_result",
          "data": {
            "text/plain": [
              "'12a'"
            ],
            "application/vnd.google.colaboratory.intrinsic+json": {
              "type": "string"
            }
          },
          "metadata": {},
          "execution_count": 107
        }
      ],
      "source": [
        "'12' + 'a'"
      ]
    },
    {
      "cell_type": "markdown",
      "metadata": {
        "id": "w-FbfvL1TvzR"
      },
      "source": [
        "### 반복 연산자 (*)\n",
        "시퀀스를 반복할 수 있습니다."
      ]
    },
    {
      "cell_type": "code",
      "execution_count": null,
      "metadata": {
        "id": "RmXZfVOnTvzR"
      },
      "outputs": [],
      "source": [
        "# 리스트 [0] 을 *을 이용해 8번 반복해봅시다."
      ]
    },
    {
      "cell_type": "code",
      "execution_count": null,
      "metadata": {
        "colab": {
          "base_uri": "https://localhost:8080/"
        },
        "id": "A_fo1unLTvzR",
        "outputId": "fe1ee877-8621-46b5-b7bb-dd303fa19d1d"
      },
      "outputs": [
        {
          "output_type": "execute_result",
          "data": {
            "text/plain": [
              "[0, 0, 0, 0, 0, 0, 0, 0]"
            ]
          },
          "metadata": {},
          "execution_count": 109
        }
      ],
      "source": [
        "[0] * 8"
      ]
    },
    {
      "cell_type": "code",
      "execution_count": null,
      "metadata": {
        "id": "HJ0ikiOVTvzR"
      },
      "outputs": [],
      "source": [
        "# 튜플 (1, 2) 를 * 을 활용해 3번 반복해봅시다."
      ]
    },
    {
      "cell_type": "code",
      "execution_count": null,
      "metadata": {
        "colab": {
          "base_uri": "https://localhost:8080/"
        },
        "id": "2YFfdqaRTvzR",
        "outputId": "59142038-53c5-4ed1-e57c-4eb5fdae68f6"
      },
      "outputs": [
        {
          "output_type": "execute_result",
          "data": {
            "text/plain": [
              "(1, 2, 1, 2, 1, 2)"
            ]
          },
          "metadata": {},
          "execution_count": 111
        }
      ],
      "source": [
        "(1,2) * 3"
      ]
    },
    {
      "cell_type": "code",
      "execution_count": null,
      "metadata": {
        "id": "Q6GKC52qTvzR"
      },
      "outputs": [],
      "source": [
        "# range에는 사용할 수 없습니다.\n",
        "# range(1) 을 * 연산자로 3번 반복하려고 할 때 발생하는 오류를 확인해 봅시다."
      ]
    },
    {
      "cell_type": "code",
      "execution_count": null,
      "metadata": {
        "colab": {
          "base_uri": "https://localhost:8080/",
          "height": 174
        },
        "id": "5_kGpuxoTvzR",
        "outputId": "e8b7f474-c60c-43b3-8148-62df2ccecb9f"
      },
      "outputs": [
        {
          "output_type": "error",
          "ename": "TypeError",
          "evalue": "ignored",
          "traceback": [
            "\u001b[0;31m---------------------------------------------------------------------------\u001b[0m",
            "\u001b[0;31mTypeError\u001b[0m                                 Traceback (most recent call last)",
            "\u001b[0;32m<ipython-input-113-8f21a5dfa040>\u001b[0m in \u001b[0;36m<module>\u001b[0;34m\u001b[0m\n\u001b[0;32m----> 1\u001b[0;31m \u001b[0mrange\u001b[0m\u001b[0;34m(\u001b[0m\u001b[0;36m1\u001b[0m\u001b[0;34m)\u001b[0m \u001b[0;34m*\u001b[0m \u001b[0;36m3\u001b[0m\u001b[0;34m\u001b[0m\u001b[0;34m\u001b[0m\u001b[0m\n\u001b[0m",
            "\u001b[0;31mTypeError\u001b[0m: unsupported operand type(s) for *: 'range' and 'int'"
          ]
        }
      ],
      "source": [
        "range(1) * 3"
      ]
    },
    {
      "cell_type": "code",
      "execution_count": null,
      "metadata": {
        "id": "yxK42s8pTvzS"
      },
      "outputs": [],
      "source": [
        "# 문자열 'hi' 를 * 을 활용해 3번 반복해봅시다."
      ]
    },
    {
      "cell_type": "code",
      "execution_count": null,
      "metadata": {
        "colab": {
          "base_uri": "https://localhost:8080/",
          "height": 35
        },
        "id": "FZcLf1csTvzS",
        "outputId": "4c81956b-7b63-4e3c-b854-e3a3787d04c1"
      },
      "outputs": [
        {
          "output_type": "execute_result",
          "data": {
            "text/plain": [
              "'hihihi'"
            ],
            "application/vnd.google.colaboratory.intrinsic+json": {
              "type": "string"
            }
          },
          "metadata": {},
          "execution_count": 115
        }
      ],
      "source": [
        "'hi' * 3"
      ]
    },
    {
      "cell_type": "markdown",
      "metadata": {
        "id": "k0lbW-kPTvzS"
      },
      "source": [
        "## 기타 : 인덱싱/슬라이싱 (Indexing/Slicing)\n",
        "`[]`를 통한 값을 접근하고, `[:]`을 통해 슬라이싱할 수 있습니다. (data structure 챕터에서 자세하게 학습합니다.)"
      ]
    },
    {
      "cell_type": "markdown",
      "metadata": {
        "id": "WktHL7YLTvzS"
      },
      "source": [
        "### 인덱싱\n",
        "시퀀스의 특정 인덱스 값에 접근 할 수 있습니다.\n",
        "- 해당 인덱스가 없는 경우 IndexError가 발생합니다."
      ]
    },
    {
      "cell_type": "code",
      "execution_count": null,
      "metadata": {
        "id": "6k2WAIJMTvzS"
      },
      "outputs": [],
      "source": [
        "# 리스트를 인덱싱을 통해 값에 접근해봅시다.\n",
        "# 리스트 [1, 2, 3]의 세번째 값을 인덱싱으로 확인해봅시다."
      ]
    },
    {
      "cell_type": "code",
      "execution_count": null,
      "metadata": {
        "colab": {
          "base_uri": "https://localhost:8080/"
        },
        "id": "putDsWVCTvzS",
        "outputId": "5dcce827-a0e9-431c-d5a9-74d85e17d821"
      },
      "outputs": [
        {
          "output_type": "execute_result",
          "data": {
            "text/plain": [
              "3"
            ]
          },
          "metadata": {},
          "execution_count": 117
        }
      ],
      "source": [
        "a=[1,2,3]\n",
        "a[2]"
      ]
    },
    {
      "cell_type": "code",
      "execution_count": null,
      "metadata": {
        "id": "I7aPboavTvzS"
      },
      "outputs": [],
      "source": [
        "# 튜플을 인덱싱을 통해 값에 접근해봅시다.\n",
        "# 튜플 (1, 2, 3)의 첫번째 값을 인덱싱으로 확인해봅시다."
      ]
    },
    {
      "cell_type": "code",
      "execution_count": null,
      "metadata": {
        "colab": {
          "base_uri": "https://localhost:8080/"
        },
        "id": "6sdBKrmqTvzS",
        "outputId": "75aaf88d-ae0e-4c89-efcb-fce729090a2b"
      },
      "outputs": [
        {
          "output_type": "execute_result",
          "data": {
            "text/plain": [
              "1"
            ]
          },
          "metadata": {},
          "execution_count": 119
        }
      ],
      "source": [
        "a = (1,2,3)\n",
        "a[0]"
      ]
    },
    {
      "cell_type": "code",
      "execution_count": null,
      "metadata": {
        "id": "spjdfoeGTvzS"
      },
      "outputs": [],
      "source": [
        "# range를 인덱싱을 통해 값에 접근해봅시다.\n",
        "# range(3)의 세번째 값을 인덱싱으로 확인해봅시다."
      ]
    },
    {
      "cell_type": "code",
      "execution_count": null,
      "metadata": {
        "colab": {
          "base_uri": "https://localhost:8080/"
        },
        "id": "FdLWbz1PTvzS",
        "outputId": "75c3b15b-eb1a-4449-95d2-b7e4a7b9680c"
      },
      "outputs": [
        {
          "output_type": "execute_result",
          "data": {
            "text/plain": [
              "2"
            ]
          },
          "metadata": {},
          "execution_count": 122
        }
      ],
      "source": [
        "a=range(3)\n",
        "a[2]"
      ]
    },
    {
      "cell_type": "code",
      "execution_count": null,
      "metadata": {
        "id": "pPc6B6kVTvzT"
      },
      "outputs": [],
      "source": [
        "# 문자열을 인덱싱을 통해 값에 접근해봅시다.\n",
        "# 문자열 'abc'의 첫번째 값을 인덱싱으로 확인해봅시다."
      ]
    },
    {
      "cell_type": "code",
      "execution_count": null,
      "metadata": {
        "colab": {
          "base_uri": "https://localhost:8080/",
          "height": 35
        },
        "id": "AI9zbUItTvzT",
        "outputId": "9dfa49bf-77aa-485b-bd16-28af9319679f"
      },
      "outputs": [
        {
          "output_type": "execute_result",
          "data": {
            "text/plain": [
              "'a'"
            ],
            "application/vnd.google.colaboratory.intrinsic+json": {
              "type": "string"
            }
          },
          "metadata": {},
          "execution_count": 124
        }
      ],
      "source": [
        "a = 'abc'\n",
        "a[0]"
      ]
    },
    {
      "cell_type": "code",
      "execution_count": null,
      "metadata": {
        "id": "ZvJR3o2QTvzT"
      },
      "outputs": [],
      "source": [
        "# 찾고자 하는 인덱스가 존재하지 않을때 오류가 발생합니다.\n",
        "# 문자열 apple의 100번째 값을 인덱싱으로 확인하고자 할 때 발생하는 오류를 확인해봅시다."
      ]
    },
    {
      "cell_type": "code",
      "execution_count": null,
      "metadata": {
        "colab": {
          "base_uri": "https://localhost:8080/",
          "height": 193
        },
        "id": "jAh43PSHTvzT",
        "outputId": "3b02166f-c344-42e2-8054-7eca2ef2bbb5"
      },
      "outputs": [
        {
          "output_type": "error",
          "ename": "IndexError",
          "evalue": "ignored",
          "traceback": [
            "\u001b[0;31m---------------------------------------------------------------------------\u001b[0m",
            "\u001b[0;31mIndexError\u001b[0m                                Traceback (most recent call last)",
            "\u001b[0;32m<ipython-input-126-b46274e5ce17>\u001b[0m in \u001b[0;36m<module>\u001b[0;34m\u001b[0m\n\u001b[1;32m      1\u001b[0m \u001b[0ma\u001b[0m \u001b[0;34m=\u001b[0m \u001b[0;34m'apple'\u001b[0m\u001b[0;34m\u001b[0m\u001b[0;34m\u001b[0m\u001b[0m\n\u001b[0;32m----> 2\u001b[0;31m \u001b[0ma\u001b[0m\u001b[0;34m[\u001b[0m\u001b[0;36m100\u001b[0m\u001b[0;34m]\u001b[0m\u001b[0;34m\u001b[0m\u001b[0;34m\u001b[0m\u001b[0m\n\u001b[0m",
            "\u001b[0;31mIndexError\u001b[0m: string index out of range"
          ]
        }
      ],
      "source": [
        "a = 'apple'\n",
        "a[100]"
      ]
    },
    {
      "cell_type": "markdown",
      "metadata": {
        "id": "C9yCSHflTvzT"
      },
      "source": [
        "### 슬라이싱\n",
        "- Sequence[start:end[:step]]\n",
        "\n",
        "시퀀스를 특정 단위로 슬라이싱 할 수 있습니다."
      ]
    },
    {
      "cell_type": "code",
      "execution_count": null,
      "metadata": {
        "colab": {
          "base_uri": "https://localhost:8080/"
        },
        "id": "fp_BR69UTvzT",
        "outputId": "e2f10fa2-7d8f-4c02-b96c-26bc74e259be"
      },
      "outputs": [
        {
          "output_type": "stream",
          "name": "stdout",
          "text": [
            "[2, 3, 4]\n",
            "(1, 2)\n",
            "range(5, 8)\n",
            "cd\n"
          ]
        }
      ],
      "source": [
        "# 아래 코드들을 실행한 결과를 확인하여 슬라이싱의 작동 원리를 파악해봅시다.\n",
        "print([1, 2, 3, 4][1:4])\n",
        "print((1, 2, 3)[:2])\n",
        "print(range(10)[5:8])\n",
        "print('abcd'[2:4])"
      ]
    },
    {
      "cell_type": "markdown",
      "metadata": {
        "id": "lV5z-SgtTvzT"
      },
      "source": [
        "시퀀스를 `k` 간격으로 슬라이싱 할 수 있습니다."
      ]
    },
    {
      "cell_type": "code",
      "execution_count": null,
      "metadata": {
        "colab": {
          "base_uri": "https://localhost:8080/"
        },
        "id": "ppttPO3ITvzT",
        "outputId": "e3a6278b-52df-436c-933d-22c39ae68f83"
      },
      "outputs": [
        {
          "output_type": "stream",
          "name": "stdout",
          "text": [
            "[1, 3]\n"
          ]
        }
      ],
      "source": [
        "# 아래 코드들을 실행한 결과를 확인하여 슬라이싱의 작동 원리를 파악해봅시다.\n",
        "# 문자열, 튜플, 레인지에서 모두 동일하게 동작합니다.\n",
        "print([1, 2, 3, 4][0:4:2])"
      ]
    },
    {
      "cell_type": "code",
      "execution_count": null,
      "metadata": {
        "id": "OC2eWsRUTvzT"
      },
      "outputs": [],
      "source": [
        "# 아래의 코드를 실행하여 결과를 확인해 봅시다.\n",
        "s = 'abcdefghi'"
      ]
    },
    {
      "cell_type": "code",
      "execution_count": null,
      "metadata": {
        "colab": {
          "base_uri": "https://localhost:8080/"
        },
        "id": "-P5XcY8iTvzT",
        "outputId": "a628e45f-df96-4aa3-d3ba-8006ae690360"
      },
      "outputs": [
        {
          "output_type": "stream",
          "name": "stdout",
          "text": [
            "abc\n",
            "fghi\n",
            "abcdefghi\n",
            "ihgfedcba\n"
          ]
        }
      ],
      "source": [
        "print(s[:3])\n",
        "print(s[5:])\n",
        "print(s[::])\n",
        "print(s[::-1])"
      ]
    },
    {
      "cell_type": "markdown",
      "metadata": {
        "id": "4tWVYewxTvzU"
      },
      "source": [
        "## 연산자 우선순위\n",
        "\n",
        "0. `()`을 통한 grouping\n",
        "\n",
        "1. Slicing\n",
        "\n",
        "2. Indexing\n",
        "\n",
        "3. 제곱연산자\n",
        "    `**`\n",
        "\n",
        "4. 단항연산자 \n",
        "    `+`, `-` (음수/양수 부호)\n",
        "\n",
        "5. 산술연산자\n",
        "    `*`, `/`, `%`\n",
        "    \n",
        "6. 산술연산자\n",
        "    `+`, `-`\n",
        " \n",
        "7. 비교연산자, `in`, `is`\n",
        "\n",
        "8. `not`\n",
        "\n",
        "9. `and` \n",
        "\n",
        "10. `or`\n",
        "\n",
        "[파이썬 문서](https://docs.python.org/ko/3/reference/expressions.html#operator-precedence)\n"
      ]
    },
    {
      "cell_type": "code",
      "execution_count": null,
      "metadata": {
        "id": "5A5HU76lTvzU"
      },
      "outputs": [],
      "source": [
        "# 우선순위를 확인해봅시다."
      ]
    },
    {
      "cell_type": "code",
      "execution_count": null,
      "metadata": {
        "id": "rT5wxKCHTvzU"
      },
      "outputs": [],
      "source": [
        "# -3 ** 6의 값을 확인해봅시다."
      ]
    },
    {
      "cell_type": "code",
      "execution_count": null,
      "metadata": {
        "colab": {
          "base_uri": "https://localhost:8080/"
        },
        "id": "LABbifYLTvzU",
        "outputId": "c310e744-4028-4285-f2fd-1146f1d271a7"
      },
      "outputs": [
        {
          "output_type": "execute_result",
          "data": {
            "text/plain": [
              "-729"
            ]
          },
          "metadata": {},
          "execution_count": 133
        }
      ],
      "source": [
        "-3 ** 6"
      ]
    },
    {
      "cell_type": "code",
      "execution_count": null,
      "metadata": {
        "id": "X2Z3yrA3TvzU"
      },
      "outputs": [],
      "source": [
        "# (-3) ** 6의 값을 확인해봅시다."
      ]
    },
    {
      "cell_type": "code",
      "execution_count": null,
      "metadata": {
        "colab": {
          "base_uri": "https://localhost:8080/"
        },
        "id": "NRbfGpJ3TvzU",
        "outputId": "6002356e-ba46-416f-b392-4a30490f1611"
      },
      "outputs": [
        {
          "output_type": "execute_result",
          "data": {
            "text/plain": [
              "729"
            ]
          },
          "metadata": {},
          "execution_count": 135
        }
      ],
      "source": [
        "(-3)**6"
      ]
    },
    {
      "cell_type": "markdown",
      "metadata": {
        "id": "94Ke-wXmTvzU"
      },
      "source": [
        "# 정리"
      ]
    },
    {
      "cell_type": "markdown",
      "metadata": {
        "id": "b1n-Fmv4TvzU"
      },
      "source": [
        "## 변수(Variable)와 자료형(Data Type)\n",
        "\n",
        "<center><img width=800 height=400 src=\"https://user-images.githubusercontent.com/9452521/87640197-55a7f280-c781-11ea-9cff-19c022ce704a.png\", alt=\"variable\"/></center>\n"
      ]
    },
    {
      "cell_type": "markdown",
      "metadata": {
        "id": "02QZ0mFxTvzU"
      },
      "source": [
        "## 컨테이너(Container)\n",
        "<center><img src=\"https://user-images.githubusercontent.com/18046097/61180439-44e60d80-a651-11e9-9adc-e60fa57c2165.png\", alt=\"container\"/></center>"
      ]
    },
    {
      "cell_type": "markdown",
      "metadata": {
        "id": "Arvg0-WCTvzV"
      },
      "source": [
        "# 프로그램 구성 단위"
      ]
    },
    {
      "cell_type": "markdown",
      "metadata": {
        "id": "Djjh0QUETvzV"
      },
      "source": [
        "## 식별자(identifier)\n",
        "- 변수, 함수, 클래스 등 프로그램이 실행되는 동안 다양한 값을 가질수 있는 이름을 의미합니다.\n",
        "- 예약어는 사용이 불가능합니다."
      ]
    },
    {
      "cell_type": "markdown",
      "metadata": {
        "id": "qY_W_IkATvzV"
      },
      "source": [
        "## 리터럴(literal)\n",
        "- 읽혀지는 대로 쓰여있는 값 그 자체를 의미합니다."
      ]
    },
    {
      "cell_type": "code",
      "execution_count": null,
      "metadata": {
        "id": "MdzX_FvDTvzV"
      },
      "outputs": [],
      "source": [
        "# name은 식별자 == 변수\n",
        "# '김싸피'은 리터럴\n",
        "name = '김싸피'"
      ]
    },
    {
      "cell_type": "markdown",
      "metadata": {
        "id": "D1DJd0feTvzV"
      },
      "source": [
        "## 표현식 (Expression)\n",
        "- 새로운 데이터 값을 생성하거나 계산하는 코드 조각을 의미합니다."
      ]
    },
    {
      "cell_type": "markdown",
      "metadata": {
        "id": "3hosyXq6TvzV"
      },
      "source": [
        "## 문장 (Statement)\n",
        "- 특정한 작업을 수행하는 코드 전체를 의미합니다.\n",
        "- 파이썬이 실행 가능한 최소한의 코드 단위를 말합니다.\n",
        "- 표현식은 값을 생성하는 일부분이고, 문장은 특정 작업을 수행하는 코드 전체 입니다."
      ]
    },
    {
      "cell_type": "markdown",
      "metadata": {
        "id": "Ta8B0ns3TvzV"
      },
      "source": [
        "### 문장과 표현식의 관계\n",
        "\n",
        "<center><img width=\"600\" height=\"300\" src=\"https://user-images.githubusercontent.com/9452521/87619771-f41f5e00-c757-11ea-9e4b-1f76e4ca0981.png\", alt=\"variable\"/></center>"
      ]
    },
    {
      "cell_type": "code",
      "execution_count": null,
      "metadata": {
        "colab": {
          "base_uri": "https://localhost:8080/",
          "height": 35
        },
        "id": "w5oZYiljTvzV",
        "outputId": "c37fb189-cf93-40f6-d9a3-2dc3a6d50703"
      },
      "outputs": [
        {
          "output_type": "execute_result",
          "data": {
            "text/plain": [
              "'ssafy'"
            ],
            "application/vnd.google.colaboratory.intrinsic+json": {
              "type": "string"
            }
          },
          "metadata": {},
          "execution_count": 137
        }
      ],
      "source": [
        "# 하나의 값(value)도 문장이 될 수 있습니다.\n",
        "'ssafy'"
      ]
    },
    {
      "cell_type": "code",
      "execution_count": null,
      "metadata": {
        "colab": {
          "base_uri": "https://localhost:8080/"
        },
        "id": "mw3o85h2TvzW",
        "outputId": "13e0b9cc-cf37-4fda-8f63-c33231da350c"
      },
      "outputs": [
        {
          "output_type": "execute_result",
          "data": {
            "text/plain": [
              "101"
            ]
          },
          "metadata": {},
          "execution_count": 138
        }
      ],
      "source": [
        "# 표현식(expression)도 문장이 될 수 있습니다.\n",
        "5 * 21 - 4"
      ]
    },
    {
      "cell_type": "code",
      "execution_count": null,
      "metadata": {
        "colab": {
          "base_uri": "https://localhost:8080/",
          "height": 137
        },
        "id": "JikwpZ6sTvzW",
        "outputId": "e4e3b4a1-8bf6-43db-a650-f119ba751ee4"
      },
      "outputs": [
        {
          "output_type": "error",
          "ename": "SyntaxError",
          "evalue": "ignored",
          "traceback": [
            "\u001b[0;36m  File \u001b[0;32m\"<ipython-input-139-c34840a6b953>\"\u001b[0;36m, line \u001b[0;32m2\u001b[0m\n\u001b[0;31m    name = '\u001b[0m\n\u001b[0m            ^\u001b[0m\n\u001b[0;31mSyntaxError\u001b[0m\u001b[0;31m:\u001b[0m EOL while scanning string literal\n"
          ]
        }
      ],
      "source": [
        "# 실행 가능(executable)해야 하기 때문에 아래의 코드는 문장이 될 수 없습니다.\n",
        "name = '"
      ]
    },
    {
      "cell_type": "code",
      "source": [],
      "metadata": {
        "id": "FENHIDBFbhqQ"
      },
      "execution_count": null,
      "outputs": []
    }
  ],
  "metadata": {
    "hide_input": false,
    "kernelspec": {
      "display_name": "Python 3 (ipykernel)",
      "language": "python",
      "name": "python3"
    },
    "language_info": {
      "codemirror_mode": {
        "name": "ipython",
        "version": 3
      },
      "file_extension": ".py",
      "mimetype": "text/x-python",
      "name": "python",
      "nbconvert_exporter": "python",
      "pygments_lexer": "ipython3",
      "version": "3.9.13"
    },
    "toc": {
      "base_numbering": 1,
      "nav_menu": {},
      "number_sections": true,
      "sideBar": true,
      "skip_h1_title": false,
      "title_cell": "Table of Contents",
      "title_sidebar": "Python 기초",
      "toc_cell": false,
      "toc_position": {
        "height": "757px",
        "left": "53px",
        "top": "111.125px",
        "width": "305px"
      },
      "toc_section_display": true,
      "toc_window_display": true
    },
    "colab": {
      "provenance": []
    }
  },
  "nbformat": 4,
  "nbformat_minor": 0
}